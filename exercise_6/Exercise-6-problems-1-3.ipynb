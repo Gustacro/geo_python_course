{
 "cells": [
  {
   "cell_type": "markdown",
   "metadata": {
    "deletable": false,
    "editable": false,
    "nbgrader": {
     "checksum": "988968139805d3c412f73d416a9659e5",
     "grade": false,
     "grade_id": "cell-c3cd82caefa995f8",
     "locked": true,
     "schema_version": 1,
     "solution": false
    }
   },
   "source": [
    "# Exercise 6 - Data analysis with Pandas\n",
    "\n",
    "In this week's exercise we will continue developing our skills using Pandas to analyze climate data.\n",
    "\n",
    "After making your changes, you will need to upload your changes to GitHub.\n",
    "The answers to the questions in this week's exercise should be given by modifying the document in the requested places.\n",
    "\n",
    "If you are uncertain about **the style of your code**, take a look at the **[PEP 8 - Style guide for Python code](https://www.python.org/dev/peps/pep-0008/)**.  \n",
    "\n",
    " - **Exercise 6 is due by 16:00 on 17.10.**\n",
    " - Don't forget to check out the [hints for this week's exercise](https://geo-python.github.io/2018/lessons/L6/exercise-6.html) if you're having trouble.\n",
    " - Scores on this exercise are out of 20 points.\n",
    " - There are altogether 3 problems that you should solve. The fourth problem is optional (Problem 4) for more advanced students (does not affect grading)\n",
    "\n",
    "## Data\n",
    "\n",
    "For problems 1-3 in this exercise we will be using climate data from the Helsinki-Vantaa airport station.\n",
    "For these problems, we have daily observations obtained from the [NOAA Global Historical Climatology Network](https://www.ncdc.noaa.gov/cdo-web/search?datasetid=GHCND).\n",
    "The file was downloaded using the \"Custom GHCN-Daily Text\" output format, including following attributes:\n",
    "\n",
    "| Attribute                | Description                      |\n",
    "|--------------------------|----------------------------------|\n",
    "| `STATION`                | Unique ID of the weather station |\n",
    "| `ELEVATION`              | Elevation of the station         |\n",
    "| `LATITUDE` , `LONGITUDE` | Coordinates of the station       |\n",
    "| `DATE`                   | Date of the measurement          |\n",
    "| `PRCP`                   | Precipitation                    |\n",
    "| `TAVG`                   | Average temperature              |\n",
    "| `TMAX`                   | Maximum temperature              |\n",
    "| `TMIN`                   | Minimum temperature              |\n",
    "\n",
    "The file for this problem is exactly as available from the NOAA website. You can take a [look of the data](data/1091402.txt).\n",
    "\n",
    "**Note**: once again that temperatures in this dataset are given in degrees Fahrenheit.\n",
    "\n",
    "Additional information about the data format can be found in the [hints for Exercise 6](https://geo-python.github.io/2018/lessons/L6/exercise-6-hints.html).\n"
   ]
  },
  {
   "cell_type": "markdown",
   "metadata": {
    "deletable": false,
    "editable": false,
    "nbgrader": {
     "checksum": "55ae37c25468d39910ea1cc948066db6",
     "grade": false,
     "grade_id": "cell-f2d00c67ecd9e7dc",
     "locked": true,
     "schema_version": 1,
     "solution": false
    }
   },
   "source": [
    "# Problem 1 - Reading in a tricky data file (5 points)\n",
    "\n",
    "#### Overview\n",
    "\n",
    "You first task for this exercise is to read in the data file (`data/1091402.txt`) to a variable called **`data`**.\n",
    "This should be done using the `read_csv()` -function in Pandas, and the resulting DataFrame should have the following attributes:\n",
    "\n",
    "  - The numerical values for rainfall and temperature read in as numbers\n",
    "  - The second row of the datafile should be skipped, but the text labels for the columns should be from the first row\n",
    "  - The no-data values (assigned with value **`-9999`**) should properly be converted to `NaN`\n",
    "  \n",
    "After successfully reading the data file, you should find answers programmably to specific questions below, and upload your notebook to **your own repository** for this week's exercise.\n",
    "\n",
    "You can find hints about how to do these things in the [description of Exercise 5 Problem 1](https://github.com/Geo-Python-2018/Exercise-5/blob/master/Pandas/Exercise-5-problem1.ipynb) and the [hints for Exercise 6](https://geo-python.github.io/2018/lessons/L6/exercise-6.html).\n"
   ]
  },
  {
   "cell_type": "markdown",
   "metadata": {
    "deletable": false,
    "editable": false,
    "nbgrader": {
     "checksum": "ead53e63ab82ebf9ddeff41fadeb90f8",
     "grade": false,
     "grade_id": "cell-52cc9f4650eada57",
     "locked": true,
     "schema_version": 1,
     "solution": false
    }
   },
   "source": [
    "1. Read the file into variable **data**\n",
    "   - Skip the second row\n",
    "   - Convert the no-data values into `NaN` (values -9999)"
   ]
  },
  {
   "cell_type": "code",
   "execution_count": 1,
   "metadata": {},
   "outputs": [],
   "source": [
    "# YOUR CODE HERE\n",
    "# raise NotImplementedError()\n",
    "import pandas as pd"
   ]
  },
  {
   "cell_type": "code",
   "execution_count": 2,
   "metadata": {
    "deletable": false,
    "nbgrader": {
     "checksum": "1b1c13860a674aeb3aa2a5b0ac028550",
     "grade": false,
     "grade_id": "read_file",
     "locked": false,
     "schema_version": 1,
     "solution": true
    }
   },
   "outputs": [
    {
     "name": "stdout",
     "output_type": "stream",
     "text": [
      "Index(['STATION', 'ELEVATION', 'LATITUDE', 'LONGITUDE', 'DATE', 'PRCP', 'TAVG',\n",
      "       'TMAX', 'TMIN'],\n",
      "      dtype='object')\n",
      "(23716, 9)\n"
     ]
    }
   ],
   "source": [
    "fp = r\"data/1091402.txt\"\n",
    "data = pd.read_csv(fp, sep='\\s+', skiprows=[1], na_values=-9999)\n",
    "\n",
    "# Data columns\n",
    "print(data.columns)\n",
    "# dataframe shape\n",
    "print(data.shape)"
   ]
  },
  {
   "cell_type": "code",
   "execution_count": 3,
   "metadata": {
    "deletable": false,
    "editable": false,
    "nbgrader": {
     "checksum": "6476b610931387386d6d059724c8bfee",
     "grade": true,
     "grade_id": "read_file_tests",
     "locked": true,
     "points": 1.5,
     "schema_version": 1,
     "solution": false
    }
   },
   "outputs": [
    {
     "name": "stdout",
     "output_type": "stream",
     "text": [
      "             STATION  ELEVATION  LATITUDE  LONGITUDE      DATE  PRCP  TAVG  \\\n",
      "0  GHCND:FIE00142080         51   60.3269    24.9603  19520101  0.31  37.0   \n",
      "\n",
      "   TMAX  TMIN  \n",
      "0  39.0  34.0  \n"
     ]
    }
   ],
   "source": [
    "# Test print that should work\n",
    "print(data.head(1))\n"
   ]
  },
  {
   "cell_type": "markdown",
   "metadata": {
    "deletable": false,
    "editable": false,
    "nbgrader": {
     "checksum": "a9727efb2028046144c74fea68fee636",
     "grade": false,
     "grade_id": "cell-7f848d5f8acf3a0f",
     "locked": true,
     "schema_version": 1,
     "solution": false
    }
   },
   "source": [
    "- How many no-data values (NaN) are there for **`TAVG`**?\n",
    "  - Assign your answer into a variable called **`tavg_nodata_count`**\n"
   ]
  },
  {
   "cell_type": "code",
   "execution_count": 4,
   "metadata": {
    "deletable": false,
    "nbgrader": {
     "checksum": "91b99d39318d4cbe0842cededa86c3cf",
     "grade": false,
     "grade_id": "tavg_nodata_count",
     "locked": false,
     "schema_version": 1,
     "solution": true
    }
   },
   "outputs": [],
   "source": [
    "# How many no-data values?\n",
    "tavg_nodata_count = data.TAVG.isna().sum()\n",
    "# YOUR CODE HERE\n",
    "# raise NotImplementedError()"
   ]
  },
  {
   "cell_type": "code",
   "execution_count": 5,
   "metadata": {
    "deletable": false,
    "editable": false,
    "nbgrader": {
     "checksum": "ac6b57aedfc4ae8c219f2aed56e5f2d8",
     "grade": true,
     "grade_id": "tavg_nodata_count_tests",
     "locked": true,
     "points": 0.5,
     "schema_version": 1,
     "solution": false
    },
    "scrolled": true
   },
   "outputs": [
    {
     "name": "stdout",
     "output_type": "stream",
     "text": [
      "3308\n"
     ]
    }
   ],
   "source": [
    "# This test print should print a number\n",
    "print(tavg_nodata_count)\n"
   ]
  },
  {
   "cell_type": "markdown",
   "metadata": {
    "deletable": false,
    "editable": false,
    "nbgrader": {
     "checksum": "6c1c2341f6ccddb5a180a4a179ac6c8e",
     "grade": false,
     "grade_id": "cell-600c96096b421522",
     "locked": true,
     "schema_version": 1,
     "solution": false
    }
   },
   "source": [
    "- How many no-data values (NaN) are there for `TMIN`?\n",
    "  - Assign your answer into a variable called **`tmin_nodata_count`**\n"
   ]
  },
  {
   "cell_type": "code",
   "execution_count": 6,
   "metadata": {
    "deletable": false,
    "nbgrader": {
     "checksum": "8e0d1edc16aedb93d9e4abb3094969d7",
     "grade": false,
     "grade_id": "tmin_nodata_count",
     "locked": false,
     "schema_version": 1,
     "solution": true
    }
   },
   "outputs": [],
   "source": [
    "# How many no-data values?\n",
    "tmin_nodata_count = data['TMIN'].isna().sum()\n",
    "\n",
    "# YOUR CODE HERE\n",
    "# raise NotImplementedError()"
   ]
  },
  {
   "cell_type": "code",
   "execution_count": 7,
   "metadata": {
    "deletable": false,
    "editable": false,
    "nbgrader": {
     "checksum": "24e53727c0ef698df8bf044eceafd0f8",
     "grade": true,
     "grade_id": "tmin_nodata_count_tests",
     "locked": true,
     "points": 0.5,
     "schema_version": 1,
     "solution": false
    }
   },
   "outputs": [
    {
     "name": "stdout",
     "output_type": "stream",
     "text": [
      "365\n"
     ]
    }
   ],
   "source": [
    "# This test print should print a number\n",
    "print(tmin_nodata_count)\n"
   ]
  },
  {
   "cell_type": "markdown",
   "metadata": {
    "deletable": false,
    "editable": false,
    "nbgrader": {
     "checksum": "4062abbcb7b6a3a01baae89e2aa08f10",
     "grade": false,
     "grade_id": "cell-25998b4f0d14e8f0",
     "locked": true,
     "schema_version": 1,
     "solution": false
    }
   },
   "source": [
    "- How many days total are covered by this data file?\n",
    "  - Assign your answer into a variable called **`day_count`**\n"
   ]
  },
  {
   "cell_type": "code",
   "execution_count": 8,
   "metadata": {
    "deletable": false,
    "nbgrader": {
     "checksum": "d9fc6f8212ffb11db2f99cf5581eb46b",
     "grade": false,
     "grade_id": "day_count",
     "locked": false,
     "schema_version": 1,
     "solution": true
    }
   },
   "outputs": [],
   "source": [
    "# How many days?\n",
    "day_count = data.DATE.count()\n",
    "\n",
    "# YOUR CODE HERE\n",
    "# raise NotImplementedError()"
   ]
  },
  {
   "cell_type": "code",
   "execution_count": 9,
   "metadata": {
    "deletable": false,
    "editable": false,
    "nbgrader": {
     "checksum": "acd72741f24e13874f75afe110c025ff",
     "grade": true,
     "grade_id": "day_count_tests",
     "locked": true,
     "points": 0.5,
     "schema_version": 1,
     "solution": false
    }
   },
   "outputs": [
    {
     "name": "stdout",
     "output_type": "stream",
     "text": [
      "23716\n"
     ]
    }
   ],
   "source": [
    "# This test print should print a number\n",
    "print(day_count)\n"
   ]
  },
  {
   "cell_type": "markdown",
   "metadata": {
    "deletable": false,
    "editable": false,
    "nbgrader": {
     "checksum": "686f79babf0eb698a217f70135dbd0e9",
     "grade": false,
     "grade_id": "cell-424dcdef3dde1b89",
     "locked": true,
     "schema_version": 1,
     "solution": false
    }
   },
   "source": [
    "- When was the first observation made (i.e. the oldest)?\n",
    "  - Assign your answer into a variable called **`first_obs`**\n"
   ]
  },
  {
   "cell_type": "code",
   "execution_count": 10,
   "metadata": {
    "deletable": false,
    "nbgrader": {
     "checksum": "644b73bbd7ebdcf0ce74b47da2f1af1a",
     "grade": false,
     "grade_id": "first_observation",
     "locked": false,
     "schema_version": 1,
     "solution": true
    }
   },
   "outputs": [],
   "source": [
    "# YOUR CODE HERE\n",
    "# raise NotImplementedError()\n",
    "# Sort the data in ascending order\n",
    "data = data.sort_values(by = 'DATE', ascending = True)\n",
    "\n",
    "# Use iloc[<index_num>, dataframe.columns.get_loc(<'column'>)] to return the value of specific column\n",
    "first_obs = data.iloc[0, data.columns.get_loc('DATE')]"
   ]
  },
  {
   "cell_type": "code",
   "execution_count": 11,
   "metadata": {
    "deletable": false,
    "editable": false,
    "nbgrader": {
     "checksum": "fe830dda7b34b82cfa75a1a505f9be03",
     "grade": true,
     "grade_id": "first_observation_tests",
     "locked": true,
     "points": 0.5,
     "schema_version": 1,
     "solution": false
    }
   },
   "outputs": [
    {
     "name": "stdout",
     "output_type": "stream",
     "text": [
      "19520101\n"
     ]
    }
   ],
   "source": [
    "# This test print should print a number\n",
    "print(first_obs)\n"
   ]
  },
  {
   "cell_type": "markdown",
   "metadata": {
    "deletable": false,
    "editable": false,
    "nbgrader": {
     "checksum": "be4eb61b5283cd2e644a8a0ecb9a7e5d",
     "grade": false,
     "grade_id": "cell-1a9a82e0f837ac34",
     "locked": true,
     "schema_version": 1,
     "solution": false
    }
   },
   "source": [
    "- When was the last observation made (i.e. the most recent)?\n",
    "  - Assign your answer into a variable called **`last_obs`**"
   ]
  },
  {
   "cell_type": "code",
   "execution_count": 12,
   "metadata": {
    "deletable": false,
    "nbgrader": {
     "checksum": "50f101af15641ea140c067553635de2a",
     "grade": false,
     "grade_id": "last_observation",
     "locked": false,
     "schema_version": 1,
     "solution": true
    }
   },
   "outputs": [],
   "source": [
    "# YOUR CODE HERE\n",
    "# raise NotImplementedError()\n",
    "\n",
    "# Sort the data in descending order\n",
    "last_obs = data.sort_values(by='DATE', ascending=False).iloc[0, data.columns.get_loc('DATE')]"
   ]
  },
  {
   "cell_type": "code",
   "execution_count": 13,
   "metadata": {
    "deletable": false,
    "editable": false,
    "nbgrader": {
     "checksum": "be2eed6a43769ed677438b643b35f223",
     "grade": true,
     "grade_id": "last_observation_tests",
     "locked": true,
     "points": 0.5,
     "schema_version": 1,
     "solution": false
    }
   },
   "outputs": [
    {
     "name": "stdout",
     "output_type": "stream",
     "text": [
      "20171004\n"
     ]
    }
   ],
   "source": [
    "# This test print should print a number\n",
    "print(last_obs)\n"
   ]
  },
  {
   "cell_type": "markdown",
   "metadata": {
    "deletable": false,
    "editable": false,
    "nbgrader": {
     "checksum": "582d67c138d7affcbc1d567174775d5c",
     "grade": false,
     "grade_id": "cell-3fbd149c1e58a16c",
     "locked": true,
     "schema_version": 1,
     "solution": false
    }
   },
   "source": [
    "- What was the average temperature of the whole data file (all years)?\n",
    "  - Assign your answer into a variable called **`avg_temp`**"
   ]
  },
  {
   "cell_type": "code",
   "execution_count": 14,
   "metadata": {
    "deletable": false,
    "nbgrader": {
     "checksum": "817e554980d384801ca9c57474f435c5",
     "grade": false,
     "grade_id": "avg_temp",
     "locked": false,
     "schema_version": 1,
     "solution": true
    }
   },
   "outputs": [],
   "source": [
    "# YOUR CODE HERE\n",
    "# raise NotImplementedError()\n",
    "avg_temp = data.TAVG.mean()"
   ]
  },
  {
   "cell_type": "code",
   "execution_count": 15,
   "metadata": {
    "deletable": false,
    "editable": false,
    "nbgrader": {
     "checksum": "5e5239a3e35fc0f0e01a5d96c40fb77b",
     "grade": true,
     "grade_id": "avg_temp_test",
     "locked": true,
     "points": 0.5,
     "schema_version": 1,
     "solution": false
    }
   },
   "outputs": [
    {
     "name": "stdout",
     "output_type": "stream",
     "text": [
      "41.32408859270874\n"
     ]
    }
   ],
   "source": [
    "# This test print should print a number\n",
    "print(avg_temp)\n"
   ]
  },
  {
   "cell_type": "markdown",
   "metadata": {
    "deletable": false,
    "editable": false,
    "nbgrader": {
     "checksum": "f4ba778c35a7aeba9d31f5d3a519af5c",
     "grade": false,
     "grade_id": "cell-784617d6edc656a6",
     "locked": true,
     "schema_version": 1,
     "solution": false
    }
   },
   "source": [
    "- What was the **`TMAX`** temperature of the ``Summer 69`` (i.e. including months May, June, July, August of the year 1969)?\n",
    "  - Assign your answer into a variable called **`avg_temp_69`**"
   ]
  },
  {
   "cell_type": "code",
   "execution_count": 16,
   "metadata": {
    "deletable": false,
    "nbgrader": {
     "checksum": "5a6ab76f5242afe2e6244e446aacfccc",
     "grade": false,
     "grade_id": "avg_temp_69",
     "locked": false,
     "schema_version": 1,
     "solution": true
    }
   },
   "outputs": [],
   "source": [
    "# YOUR CODE HERE\n",
    "# raise NotImplementedError()\n",
    "\n",
    "# define condition for DATE column in order to filter the data in the dataframe\n",
    "avg_temp_69 = data.loc[(data.DATE >= 19690501) & (data.DATE<= 19690831)]\n",
    "\n",
    "# Asign the  mean value of column TAVG to a variable\n",
    "avg_temp_69 = avg_temp_69.TAVG.mean()"
   ]
  },
  {
   "cell_type": "code",
   "execution_count": 17,
   "metadata": {
    "deletable": false,
    "editable": false,
    "nbgrader": {
     "checksum": "ad202a4bc6064555ad6d604359595c95",
     "grade": true,
     "grade_id": "avg_temp_69_tests",
     "locked": true,
     "points": 0.5,
     "schema_version": 1,
     "solution": false
    }
   },
   "outputs": [
    {
     "name": "stdout",
     "output_type": "stream",
     "text": [
      "nan\n"
     ]
    }
   ],
   "source": [
    "# This test print should print a number\n",
    "print(avg_temp_69)\n"
   ]
  },
  {
   "cell_type": "markdown",
   "metadata": {
    "deletable": false,
    "editable": false,
    "nbgrader": {
     "checksum": "c5f14a019d63302411b172cd778b1539",
     "grade": false,
     "grade_id": "cell-beeb38c1b8d3eb13",
     "locked": true,
     "schema_version": 1,
     "solution": false
    }
   },
   "source": [
    "# Problem 2 - Calculating monthly average temperatures (7.5 points)\n",
    "\n",
    "For this problem your goal is to calculate monthly average temperature values in degrees Celsius from the daily values we have in the data file. You can use the approaches taught in Lessons 4,5 and 6 to solve this.\n",
    "You can again consult the [hints for Exercise 6](https://geo-python.github.io/2018/lessons/L6/exercise-6-hints.html) if you are stuck.\n",
    "\n",
    "**You can continue working with the same data that you used in Problem 1.**\n",
    "\n",
    "#### For this problem you should modify:\n",
    "\n",
    "1. Calculate the monthly average temperatures for the entire data (i.e. for each year separately) file using the approach taught in the lecture.\n",
    "    - You should store the average temperatures into a new Pandas DataFrame called **`monthly_data`**.\n",
    "2. Create a new column called **`temp_celsius`** into the **`monthly_data`** DataFrame that has the monthly temperatures in Celsius.   \n",
    "   - Store also the information about the date into column **`DATE_m`** (which should be a string column with month and year info) and the **`TAVG`** values into the `monthly_data` DataFrame.\n",
    "3. Update and commit your changes to the notebook in your **own repository** of this week's exercise."
   ]
  },
  {
   "cell_type": "code",
   "execution_count": 18,
   "metadata": {
    "deletable": false,
    "nbgrader": {
     "checksum": "624926dd8c80aeb9e54758f935a56203",
     "grade": false,
     "grade_id": "monthly_averages",
     "locked": false,
     "schema_version": 1,
     "solution": true
    },
    "slideshow": {
     "slide_type": ""
    }
   },
   "outputs": [
    {
     "name": "stdout",
     "output_type": "stream",
     "text": [
      "object\n",
      "\n",
      "DAta type of the column DATE_str is:\n",
      "<class 'str'>\n",
      "0    195201\n",
      "1    195201\n",
      "2    195201\n",
      "3    195201\n",
      "4    195201\n",
      "Name: DATE_m, dtype: object\n",
      "\n",
      "DAta type of the column DATE_m is:\n",
      "<class 'str'>\n"
     ]
    }
   ],
   "source": [
    "# YOUR CODE HERE\n",
    "# raise NotImplementedError()\n",
    "\n",
    "# convert DATE column into string to slice date into year, month, day\n",
    "data['DATE_str'] = data['DATE'].astype(str)\n",
    "\n",
    "# Check data type\n",
    "print(data['DATE_str'].dtype)\n",
    "\n",
    "# returns data type of the first value of the column DATE_str\n",
    "print('\\nDAta type of the column DATE_str is:')\n",
    "print(type(data.iloc[0, data.columns.get_loc('DATE_str')])) \n",
    "\n",
    "# Slice string column DATE_str\n",
    "data['DATE_m'] = data['DATE_str'].str.slice(start=0, stop= 6)\n",
    "\n",
    "# print head of the new column\n",
    "print(data['DATE_m'].head())\n",
    "\n",
    "# Check the data type for the column 'DATE_m' is string\n",
    "print('\\nDAta type of the column DATE_m is:')\n",
    "print(type(data.iloc[0, data.columns.get_loc('DATE_m')]))"
   ]
  },
  {
   "cell_type": "code",
   "execution_count": 19,
   "metadata": {},
   "outputs": [],
   "source": [
    "# Crete function to convert Fahrenheits to Celsuis\n",
    "def fahrToCelsius(temp_fahrenheit):\n",
    "    \"\"\"\n",
    "    Function to convert Fahrenheit temperature into Celsius.\n",
    "\n",
    "    Parameters\n",
    "    ----------\n",
    "\n",
    "    temp_fahrenheit: int | float\n",
    "        Input temperature in Fahrenheit (should be a number)\n",
    "        \n",
    "    Returns\n",
    "    -------\n",
    "    \n",
    "    Temperature in Celsius (float)\n",
    "    \"\"\"\n",
    "\n",
    "    # Convert the Fahrenheit into Celsius and return it\n",
    "    converted_temp = (temp_fahrenheit - 32) / 1.8\n",
    "    return converted_temp\n",
    "    "
   ]
  },
  {
   "cell_type": "code",
   "execution_count": 20,
   "metadata": {},
   "outputs": [],
   "source": [
    "\"\"\" Create a new column called temp_celsius containing monthly temperatures in Celsius \"\"\"\n",
    "\n",
    "# Create a empty column\n",
    "col_name = 'temp_celsius'\n",
    "data[col_name]=  None\n",
    "\n",
    "# Iterate over the rows of data dataframe and convert average temperature in Celsius\n",
    "for idx, row in data.iterrows():\n",
    "    celsius = fahrToCelsius(row['TAVG'])\n",
    "    data.iloc[idx, data.columns.get_loc(col_name)] = celsius\n",
    "\n"
   ]
  },
  {
   "cell_type": "code",
   "execution_count": 21,
   "metadata": {},
   "outputs": [],
   "source": [
    "# Create a new empty Dataframe\n",
    "monthly_data = pd.DataFrame()"
   ]
  },
  {
   "cell_type": "code",
   "execution_count": 22,
   "metadata": {},
   "outputs": [
    {
     "name": "stdout",
     "output_type": "stream",
     "text": [
      "Type:\n",
      " <class 'pandas.core.groupby.generic.DataFrameGroupBy'>\n",
      "Length:\n",
      " 790\n"
     ]
    }
   ],
   "source": [
    "# group the values by month..... which will be called later the key value for grouping\n",
    "grouped = data.groupby('DATE_m')\n",
    "\n",
    "# let's check what we have after grouping\n",
    "# what's the type?\n",
    "print('Type:\\n', type(grouped))\n",
    "\n",
    "# how many groups do we have?\n",
    "print('Length:\\n', len(grouped))"
   ]
  },
  {
   "cell_type": "code",
   "execution_count": 23,
   "metadata": {
    "scrolled": true
   },
   "outputs": [
    {
     "name": "stdout",
     "output_type": "stream",
     "text": [
      "              STATION  ELEVATION  LATITUDE  LONGITUDE      DATE  PRCP  TAVG  \\\n",
      "0   GHCND:FIE00142080         51   60.3269    24.9603  19520101  0.31  37.0   \n",
      "1   GHCND:FIE00142080         51   60.3269    24.9603  19520102   NaN  35.0   \n",
      "2   GHCND:FIE00142080         51   60.3269    24.9603  19520103  0.14  33.0   \n",
      "3   GHCND:FIE00142080         51   60.3269    24.9603  19520104  0.05  29.0   \n",
      "4   GHCND:FIE00142080         51   60.3269    24.9603  19520105  0.06  27.0   \n",
      "5   GHCND:FIE00142080         51   60.3269    24.9603  19520106   NaN  26.0   \n",
      "6   GHCND:FIE00142080         51   60.3269    24.9603  19520107  0.03  39.0   \n",
      "7   GHCND:FIE00142080         51   60.3269    24.9603  19520108   NaN  33.0   \n",
      "8   GHCND:FIE00142080         51   60.3269    24.9603  19520109  0.18  38.0   \n",
      "9   GHCND:FIE00142080         51   60.3269    24.9603  19520111  0.10  33.0   \n",
      "10  GHCND:FIE00142080         51   60.3269    24.9603  19520112  0.28  29.0   \n",
      "11  GHCND:FIE00142080         51   60.3269    24.9603  19520114   NaN  18.0   \n",
      "12  GHCND:FIE00142080         51   60.3269    24.9603  19520115  0.06  28.0   \n",
      "13  GHCND:FIE00142080         51   60.3269    24.9603  19520116  0.63  35.0   \n",
      "14  GHCND:FIE00142080         51   60.3269    24.9603  19520117   NaN  29.0   \n",
      "15  GHCND:FIE00142080         51   60.3269    24.9603  19520118   NaN  25.0   \n",
      "16  GHCND:FIE00142080         51   60.3269    24.9603  19520119   NaN  31.0   \n",
      "17  GHCND:FIE00142080         51   60.3269    24.9603  19520120   NaN  24.0   \n",
      "18  GHCND:FIE00142080         51   60.3269    24.9603  19520125   NaN  28.0   \n",
      "19  GHCND:FIE00142080         51   60.3269    24.9603  19520127   NaN  26.0   \n",
      "20  GHCND:FIE00142080         51   60.3269    24.9603  19520128   NaN  25.0   \n",
      "21  GHCND:FIE00142080         51   60.3269    24.9603  19520129  0.08  26.0   \n",
      "22  GHCND:FIE00142080         51   60.3269    24.9603  19520130   NaN  24.0   \n",
      "\n",
      "    TMAX  TMIN  DATE_str  DATE_m temp_celsius  \n",
      "0   39.0  34.0  19520101  195201      2.77778  \n",
      "1   37.0  34.0  19520102  195201      1.66667  \n",
      "2   36.0   NaN  19520103  195201     0.555556  \n",
      "3   30.0  25.0  19520104  195201     -1.66667  \n",
      "4   30.0  25.0  19520105  195201     -2.77778  \n",
      "5   36.0   NaN  19520106  195201     -3.33333  \n",
      "6   43.0  32.0  19520107  195201      3.88889  \n",
      "7   41.0  30.0  19520108  195201     0.555556  \n",
      "8   39.0  32.0  19520109  195201      3.33333  \n",
      "9   36.0   NaN  19520111  195201     0.555556  \n",
      "10  32.0   NaN  19520112  195201     -1.66667  \n",
      "11  21.0   NaN  19520114  195201     -7.77778  \n",
      "12  30.0  16.0  19520115  195201     -2.22222  \n",
      "13   NaN  28.0  19520116  195201      1.66667  \n",
      "14  34.0   NaN  19520117  195201     -1.66667  \n",
      "15  28.0  19.0  19520118  195201     -3.88889  \n",
      "16  34.0  28.0  19520119  195201    -0.555556  \n",
      "17  28.0   NaN  19520120  195201     -4.44444  \n",
      "18  30.0   NaN  19520125  195201     -2.22222  \n",
      "19   NaN   NaN  19520127  195201     -3.33333  \n",
      "20   NaN   NaN  19520128  195201     -3.88889  \n",
      "21  28.0   NaN  19520129  195201     -3.33333  \n",
      "22   NaN   NaN  19520130  195201     -4.44444  \n"
     ]
    }
   ],
   "source": [
    "# let's specify the first month of the data (as text)\n",
    "time1 = '195201'\n",
    "\n",
    "# select an specific group using the above defined key\n",
    "group1 = grouped.get_group(time1) # returns the NDframe form the grouped\n",
    "\n",
    "# let's see what we have\n",
    "print(group1)"
   ]
  },
  {
   "cell_type": "markdown",
   "metadata": {},
   "source": [
    "Ahaa! As we can see, a single group contains a **DataFrame** with values only for that specific month.\n",
    "This is really useful, because now we can calculate e.g. the average values for all weather measurements (+ month or even hour if we want to) that we have (you can use any of the statistical functions that we have seen already, e.g. mean, std, min, max, median, etc.).\n",
    "\n",
    "We can do that by using the **`mean()`** -function that we already used during the Lesson 5. \n",
    "\n",
    "- Let's calculate the mean for following attributes (let's see how to do them all at once!): \n",
    "   - ``PRCP``, \n",
    "   - ``TAVG``, \n",
    "   - ``TMAX``, \n",
    "   - ``TMIN``, \n",
    "   - ``Celsius``."
   ]
  },
  {
   "cell_type": "code",
   "execution_count": 25,
   "metadata": {},
   "outputs": [
    {
     "name": "stdout",
     "output_type": "stream",
     "text": [
      "PRCP             0.174545\n",
      "TAVG            29.478261\n",
      "TMAX            33.263158\n",
      "TMIN            27.545455\n",
      "temp_celsius    -1.400966\n",
      "dtype: float64\n"
     ]
    }
   ],
   "source": [
    "# Specify the columns which will be use in the calculation\n",
    "mean_cols = ['PRCP', 'TAVG','TMAX', 'TMIN', 'temp_celsius']\n",
    "\n",
    "# calculate tge mean valkues all at one go\n",
    "mean_values = group1[mean_cols].mean()\n",
    "\n",
    "# print mean values for all the columns\n",
    "print(mean_values)\n"
   ]
  },
  {
   "cell_type": "code",
   "execution_count": 26,
   "metadata": {},
   "outputs": [
    {
     "name": "stdout",
     "output_type": "stream",
     "text": [
      "PRCP            0.174545\n",
      "TAVG             29.4783\n",
      "TMAX             33.2632\n",
      "TMIN             27.5455\n",
      "temp_celsius    -1.40097\n",
      "DATE_m            195201\n",
      "dtype: object\n"
     ]
    }
   ],
   "source": [
    "# Add a specific date(year_month) into the pandas series to get the mean values\n",
    "mean_values['DATE_m'] = time1\n",
    "\n",
    "# print mean values for an specific year_month\n",
    "print(mean_values)"
   ]
  },
  {
   "cell_type": "markdown",
   "metadata": {},
   "source": [
    "<b>Great!...</b>\n",
    "\n",
    "Let's add these values to the dataframe created a few steps above."
   ]
  },
  {
   "cell_type": "code",
   "execution_count": 27,
   "metadata": {
    "scrolled": true
   },
   "outputs": [
    {
     "name": "stdout",
     "output_type": "stream",
     "text": [
      "   DATE_m      PRCP       TAVG       TMAX       TMIN  temp_celsius\n",
      "0  195201  0.174545  29.478261  33.263158  27.545455     -1.400966\n"
     ]
    }
   ],
   "source": [
    "# Add the values into our dataframe (monthly_date)\n",
    "monthly_data= monthly_data.append(mean_values, ignore_index=True)\n",
    "\n",
    "# Print dataframe\n",
    "print(monthly_data)"
   ]
  },
  {
   "cell_type": "code",
   "execution_count": 28,
   "metadata": {
    "scrolled": true
   },
   "outputs": [
    {
     "name": "stdout",
     "output_type": "stream",
     "text": [
      "key:\n",
      " 195201\n",
      "Group:\n",
      "               STATION  ELEVATION  LATITUDE  LONGITUDE      DATE  PRCP  TAVG  \\\n",
      "0   GHCND:FIE00142080         51   60.3269    24.9603  19520101  0.31  37.0   \n",
      "1   GHCND:FIE00142080         51   60.3269    24.9603  19520102   NaN  35.0   \n",
      "2   GHCND:FIE00142080         51   60.3269    24.9603  19520103  0.14  33.0   \n",
      "3   GHCND:FIE00142080         51   60.3269    24.9603  19520104  0.05  29.0   \n",
      "4   GHCND:FIE00142080         51   60.3269    24.9603  19520105  0.06  27.0   \n",
      "5   GHCND:FIE00142080         51   60.3269    24.9603  19520106   NaN  26.0   \n",
      "6   GHCND:FIE00142080         51   60.3269    24.9603  19520107  0.03  39.0   \n",
      "7   GHCND:FIE00142080         51   60.3269    24.9603  19520108   NaN  33.0   \n",
      "8   GHCND:FIE00142080         51   60.3269    24.9603  19520109  0.18  38.0   \n",
      "9   GHCND:FIE00142080         51   60.3269    24.9603  19520111  0.10  33.0   \n",
      "10  GHCND:FIE00142080         51   60.3269    24.9603  19520112  0.28  29.0   \n",
      "11  GHCND:FIE00142080         51   60.3269    24.9603  19520114   NaN  18.0   \n",
      "12  GHCND:FIE00142080         51   60.3269    24.9603  19520115  0.06  28.0   \n",
      "13  GHCND:FIE00142080         51   60.3269    24.9603  19520116  0.63  35.0   \n",
      "14  GHCND:FIE00142080         51   60.3269    24.9603  19520117   NaN  29.0   \n",
      "15  GHCND:FIE00142080         51   60.3269    24.9603  19520118   NaN  25.0   \n",
      "16  GHCND:FIE00142080         51   60.3269    24.9603  19520119   NaN  31.0   \n",
      "17  GHCND:FIE00142080         51   60.3269    24.9603  19520120   NaN  24.0   \n",
      "18  GHCND:FIE00142080         51   60.3269    24.9603  19520125   NaN  28.0   \n",
      "19  GHCND:FIE00142080         51   60.3269    24.9603  19520127   NaN  26.0   \n",
      "20  GHCND:FIE00142080         51   60.3269    24.9603  19520128   NaN  25.0   \n",
      "21  GHCND:FIE00142080         51   60.3269    24.9603  19520129  0.08  26.0   \n",
      "22  GHCND:FIE00142080         51   60.3269    24.9603  19520130   NaN  24.0   \n",
      "\n",
      "    TMAX  TMIN  DATE_str  DATE_m temp_celsius  \n",
      "0   39.0  34.0  19520101  195201      2.77778  \n",
      "1   37.0  34.0  19520102  195201      1.66667  \n",
      "2   36.0   NaN  19520103  195201     0.555556  \n",
      "3   30.0  25.0  19520104  195201     -1.66667  \n",
      "4   30.0  25.0  19520105  195201     -2.77778  \n",
      "5   36.0   NaN  19520106  195201     -3.33333  \n",
      "6   43.0  32.0  19520107  195201      3.88889  \n",
      "7   41.0  30.0  19520108  195201     0.555556  \n",
      "8   39.0  32.0  19520109  195201      3.33333  \n",
      "9   36.0   NaN  19520111  195201     0.555556  \n",
      "10  32.0   NaN  19520112  195201     -1.66667  \n",
      "11  21.0   NaN  19520114  195201     -7.77778  \n",
      "12  30.0  16.0  19520115  195201     -2.22222  \n",
      "13   NaN  28.0  19520116  195201      1.66667  \n",
      "14  34.0   NaN  19520117  195201     -1.66667  \n",
      "15  28.0  19.0  19520118  195201     -3.88889  \n",
      "16  34.0  28.0  19520119  195201    -0.555556  \n",
      "17  28.0   NaN  19520120  195201     -4.44444  \n",
      "18  30.0   NaN  19520125  195201     -2.22222  \n",
      "19   NaN   NaN  19520127  195201     -3.33333  \n",
      "20   NaN   NaN  19520128  195201     -3.88889  \n",
      "21  28.0   NaN  19520129  195201     -3.33333  \n",
      "22   NaN   NaN  19520130  195201     -4.44444  \n"
     ]
    }
   ],
   "source": [
    "# Iterate over the first group \n",
    "for key, group in grouped:\n",
    "    #print key and group\n",
    "    print(\"key:\\n\", key)\n",
    "    print(\"Group:\\n\", group)\n",
    "    \n",
    "    # Stop the iteration with break command\n",
    "    break\n"
   ]
  },
  {
   "cell_type": "markdown",
   "metadata": {},
   "source": [
    "From this iteration we can see that the **`key`** contains the value **`19520101`** that is the same value as **`DATE_m`** column, meaning that we grouped the values based on that column\n",
    "\n",
    "- Now let's create the dataframe where we are going to calculate the mean values for all of the weather attributes monthly based, Let's repeat the steps above done, but for the entire dataset"
   ]
  },
  {
   "cell_type": "code",
   "execution_count": 29,
   "metadata": {},
   "outputs": [],
   "source": [
    "# Create a DataFrame\n",
    "monthly_data  = pd.DataFrame()\n",
    "\n",
    "# the columns that we want to aggregate\n",
    "mean_cols = ['temp_celsius']\n",
    "\n",
    "# Iterate over ther groups and update the new dataframe called 'monthly_data'\n",
    "for key, group in grouped:\n",
    "    # aggregate the data\n",
    "    mean_values = group[mean_cols].mean()\n",
    "    \n",
    "    # Add the key (data + time information) into the aggregated values\n",
    "    mean_values['DATE_m'] = key\n",
    "    \n",
    "    # Append the aggregated values into the dataframe\n",
    "    monthly_data = monthly_data.append(mean_values, ignore_index=True)"
   ]
  },
  {
   "cell_type": "code",
   "execution_count": 30,
   "metadata": {
    "scrolled": true
   },
   "outputs": [
    {
     "data": {
      "text/html": [
       "<div>\n",
       "<style scoped>\n",
       "    .dataframe tbody tr th:only-of-type {\n",
       "        vertical-align: middle;\n",
       "    }\n",
       "\n",
       "    .dataframe tbody tr th {\n",
       "        vertical-align: top;\n",
       "    }\n",
       "\n",
       "    .dataframe thead th {\n",
       "        text-align: right;\n",
       "    }\n",
       "</style>\n",
       "<table border=\"1\" class=\"dataframe\">\n",
       "  <thead>\n",
       "    <tr style=\"text-align: right;\">\n",
       "      <th></th>\n",
       "      <th>DATE_m</th>\n",
       "      <th>temp_celsius</th>\n",
       "    </tr>\n",
       "  </thead>\n",
       "  <tbody>\n",
       "    <tr>\n",
       "      <th>0</th>\n",
       "      <td>195201</td>\n",
       "      <td>-1.400966</td>\n",
       "    </tr>\n",
       "    <tr>\n",
       "      <th>1</th>\n",
       "      <td>195202</td>\n",
       "      <td>-4.000000</td>\n",
       "    </tr>\n",
       "    <tr>\n",
       "      <th>2</th>\n",
       "      <td>195203</td>\n",
       "      <td>-10.106838</td>\n",
       "    </tr>\n",
       "    <tr>\n",
       "      <th>3</th>\n",
       "      <td>195204</td>\n",
       "      <td>4.226190</td>\n",
       "    </tr>\n",
       "    <tr>\n",
       "      <th>4</th>\n",
       "      <td>195205</td>\n",
       "      <td>7.037037</td>\n",
       "    </tr>\n",
       "    <tr>\n",
       "      <th>5</th>\n",
       "      <td>195206</td>\n",
       "      <td>13.611111</td>\n",
       "    </tr>\n",
       "    <tr>\n",
       "      <th>6</th>\n",
       "      <td>195207</td>\n",
       "      <td>16.230159</td>\n",
       "    </tr>\n",
       "    <tr>\n",
       "      <th>7</th>\n",
       "      <td>195208</td>\n",
       "      <td>14.157706</td>\n",
       "    </tr>\n",
       "    <tr>\n",
       "      <th>8</th>\n",
       "      <td>195209</td>\n",
       "      <td>8.461538</td>\n",
       "    </tr>\n",
       "    <tr>\n",
       "      <th>9</th>\n",
       "      <td>195210</td>\n",
       "      <td>2.162698</td>\n",
       "    </tr>\n",
       "    <tr>\n",
       "      <th>10</th>\n",
       "      <td>195211</td>\n",
       "      <td>-2.380952</td>\n",
       "    </tr>\n",
       "    <tr>\n",
       "      <th>11</th>\n",
       "      <td>195212</td>\n",
       "      <td>-2.911111</td>\n",
       "    </tr>\n",
       "    <tr>\n",
       "      <th>12</th>\n",
       "      <td>195301</td>\n",
       "      <td>-5.396825</td>\n",
       "    </tr>\n",
       "    <tr>\n",
       "      <th>13</th>\n",
       "      <td>195302</td>\n",
       "      <td>-8.662551</td>\n",
       "    </tr>\n",
       "    <tr>\n",
       "      <th>14</th>\n",
       "      <td>195303</td>\n",
       "      <td>-0.483092</td>\n",
       "    </tr>\n",
       "    <tr>\n",
       "      <th>15</th>\n",
       "      <td>195304</td>\n",
       "      <td>4.423868</td>\n",
       "    </tr>\n",
       "    <tr>\n",
       "      <th>16</th>\n",
       "      <td>195305</td>\n",
       "      <td>9.265233</td>\n",
       "    </tr>\n",
       "    <tr>\n",
       "      <th>17</th>\n",
       "      <td>195306</td>\n",
       "      <td>17.037037</td>\n",
       "    </tr>\n",
       "    <tr>\n",
       "      <th>18</th>\n",
       "      <td>195307</td>\n",
       "      <td>17.066667</td>\n",
       "    </tr>\n",
       "    <tr>\n",
       "      <th>19</th>\n",
       "      <td>195308</td>\n",
       "      <td>15.114943</td>\n",
       "    </tr>\n",
       "    <tr>\n",
       "      <th>20</th>\n",
       "      <td>195309</td>\n",
       "      <td>9.650206</td>\n",
       "    </tr>\n",
       "    <tr>\n",
       "      <th>21</th>\n",
       "      <td>195310</td>\n",
       "      <td>7.222222</td>\n",
       "    </tr>\n",
       "    <tr>\n",
       "      <th>22</th>\n",
       "      <td>195311</td>\n",
       "      <td>1.408730</td>\n",
       "    </tr>\n",
       "    <tr>\n",
       "      <th>23</th>\n",
       "      <td>195312</td>\n",
       "      <td>-1.290323</td>\n",
       "    </tr>\n",
       "    <tr>\n",
       "      <th>24</th>\n",
       "      <td>195401</td>\n",
       "      <td>-7.072650</td>\n",
       "    </tr>\n",
       "    <tr>\n",
       "      <th>25</th>\n",
       "      <td>195402</td>\n",
       "      <td>-11.527778</td>\n",
       "    </tr>\n",
       "    <tr>\n",
       "      <th>26</th>\n",
       "      <td>195403</td>\n",
       "      <td>-1.269841</td>\n",
       "    </tr>\n",
       "    <tr>\n",
       "      <th>27</th>\n",
       "      <td>195404</td>\n",
       "      <td>1.412037</td>\n",
       "    </tr>\n",
       "    <tr>\n",
       "      <th>28</th>\n",
       "      <td>195405</td>\n",
       "      <td>11.455939</td>\n",
       "    </tr>\n",
       "    <tr>\n",
       "      <th>29</th>\n",
       "      <td>195406</td>\n",
       "      <td>13.910256</td>\n",
       "    </tr>\n",
       "    <tr>\n",
       "      <th>...</th>\n",
       "      <td>...</td>\n",
       "      <td>...</td>\n",
       "    </tr>\n",
       "    <tr>\n",
       "      <th>760</th>\n",
       "      <td>201505</td>\n",
       "      <td>9.587814</td>\n",
       "    </tr>\n",
       "    <tr>\n",
       "      <th>761</th>\n",
       "      <td>201506</td>\n",
       "      <td>13.537037</td>\n",
       "    </tr>\n",
       "    <tr>\n",
       "      <th>762</th>\n",
       "      <td>201507</td>\n",
       "      <td>16.075269</td>\n",
       "    </tr>\n",
       "    <tr>\n",
       "      <th>763</th>\n",
       "      <td>201508</td>\n",
       "      <td>16.702509</td>\n",
       "    </tr>\n",
       "    <tr>\n",
       "      <th>764</th>\n",
       "      <td>201509</td>\n",
       "      <td>12.537037</td>\n",
       "    </tr>\n",
       "    <tr>\n",
       "      <th>765</th>\n",
       "      <td>201510</td>\n",
       "      <td>5.179211</td>\n",
       "    </tr>\n",
       "    <tr>\n",
       "      <th>766</th>\n",
       "      <td>201511</td>\n",
       "      <td>4.592593</td>\n",
       "    </tr>\n",
       "    <tr>\n",
       "      <th>767</th>\n",
       "      <td>201512</td>\n",
       "      <td>2.204301</td>\n",
       "    </tr>\n",
       "    <tr>\n",
       "      <th>768</th>\n",
       "      <td>201601</td>\n",
       "      <td>-10.232975</td>\n",
       "    </tr>\n",
       "    <tr>\n",
       "      <th>769</th>\n",
       "      <td>201602</td>\n",
       "      <td>-0.440613</td>\n",
       "    </tr>\n",
       "    <tr>\n",
       "      <th>770</th>\n",
       "      <td>201603</td>\n",
       "      <td>0.071685</td>\n",
       "    </tr>\n",
       "    <tr>\n",
       "      <th>771</th>\n",
       "      <td>201604</td>\n",
       "      <td>4.648148</td>\n",
       "    </tr>\n",
       "    <tr>\n",
       "      <th>772</th>\n",
       "      <td>201605</td>\n",
       "      <td>13.853047</td>\n",
       "    </tr>\n",
       "    <tr>\n",
       "      <th>773</th>\n",
       "      <td>201606</td>\n",
       "      <td>15.370370</td>\n",
       "    </tr>\n",
       "    <tr>\n",
       "      <th>774</th>\n",
       "      <td>201607</td>\n",
       "      <td>17.419355</td>\n",
       "    </tr>\n",
       "    <tr>\n",
       "      <th>775</th>\n",
       "      <td>201608</td>\n",
       "      <td>15.896057</td>\n",
       "    </tr>\n",
       "    <tr>\n",
       "      <th>776</th>\n",
       "      <td>201609</td>\n",
       "      <td>12.444444</td>\n",
       "    </tr>\n",
       "    <tr>\n",
       "      <th>777</th>\n",
       "      <td>201610</td>\n",
       "      <td>4.498208</td>\n",
       "    </tr>\n",
       "    <tr>\n",
       "      <th>778</th>\n",
       "      <td>201611</td>\n",
       "      <td>-0.536398</td>\n",
       "    </tr>\n",
       "    <tr>\n",
       "      <th>779</th>\n",
       "      <td>201612</td>\n",
       "      <td>-0.788530</td>\n",
       "    </tr>\n",
       "    <tr>\n",
       "      <th>780</th>\n",
       "      <td>201701</td>\n",
       "      <td>-2.888889</td>\n",
       "    </tr>\n",
       "    <tr>\n",
       "      <th>781</th>\n",
       "      <td>201702</td>\n",
       "      <td>-3.194444</td>\n",
       "    </tr>\n",
       "    <tr>\n",
       "      <th>782</th>\n",
       "      <td>201703</td>\n",
       "      <td>0.698925</td>\n",
       "    </tr>\n",
       "    <tr>\n",
       "      <th>783</th>\n",
       "      <td>201704</td>\n",
       "      <td>2.240741</td>\n",
       "    </tr>\n",
       "    <tr>\n",
       "      <th>784</th>\n",
       "      <td>201705</td>\n",
       "      <td>9.462366</td>\n",
       "    </tr>\n",
       "    <tr>\n",
       "      <th>785</th>\n",
       "      <td>201706</td>\n",
       "      <td>13.500000</td>\n",
       "    </tr>\n",
       "    <tr>\n",
       "      <th>786</th>\n",
       "      <td>201707</td>\n",
       "      <td>15.716846</td>\n",
       "    </tr>\n",
       "    <tr>\n",
       "      <th>787</th>\n",
       "      <td>201708</td>\n",
       "      <td>15.716846</td>\n",
       "    </tr>\n",
       "    <tr>\n",
       "      <th>788</th>\n",
       "      <td>201709</td>\n",
       "      <td>11.296296</td>\n",
       "    </tr>\n",
       "    <tr>\n",
       "      <th>789</th>\n",
       "      <td>201710</td>\n",
       "      <td>9.027778</td>\n",
       "    </tr>\n",
       "  </tbody>\n",
       "</table>\n",
       "<p>790 rows × 2 columns</p>\n",
       "</div>"
      ],
      "text/plain": [
       "     DATE_m  temp_celsius\n",
       "0    195201     -1.400966\n",
       "1    195202     -4.000000\n",
       "2    195203    -10.106838\n",
       "3    195204      4.226190\n",
       "4    195205      7.037037\n",
       "5    195206     13.611111\n",
       "6    195207     16.230159\n",
       "7    195208     14.157706\n",
       "8    195209      8.461538\n",
       "9    195210      2.162698\n",
       "10   195211     -2.380952\n",
       "11   195212     -2.911111\n",
       "12   195301     -5.396825\n",
       "13   195302     -8.662551\n",
       "14   195303     -0.483092\n",
       "15   195304      4.423868\n",
       "16   195305      9.265233\n",
       "17   195306     17.037037\n",
       "18   195307     17.066667\n",
       "19   195308     15.114943\n",
       "20   195309      9.650206\n",
       "21   195310      7.222222\n",
       "22   195311      1.408730\n",
       "23   195312     -1.290323\n",
       "24   195401     -7.072650\n",
       "25   195402    -11.527778\n",
       "26   195403     -1.269841\n",
       "27   195404      1.412037\n",
       "28   195405     11.455939\n",
       "29   195406     13.910256\n",
       "..      ...           ...\n",
       "760  201505      9.587814\n",
       "761  201506     13.537037\n",
       "762  201507     16.075269\n",
       "763  201508     16.702509\n",
       "764  201509     12.537037\n",
       "765  201510      5.179211\n",
       "766  201511      4.592593\n",
       "767  201512      2.204301\n",
       "768  201601    -10.232975\n",
       "769  201602     -0.440613\n",
       "770  201603      0.071685\n",
       "771  201604      4.648148\n",
       "772  201605     13.853047\n",
       "773  201606     15.370370\n",
       "774  201607     17.419355\n",
       "775  201608     15.896057\n",
       "776  201609     12.444444\n",
       "777  201610      4.498208\n",
       "778  201611     -0.536398\n",
       "779  201612     -0.788530\n",
       "780  201701     -2.888889\n",
       "781  201702     -3.194444\n",
       "782  201703      0.698925\n",
       "783  201704      2.240741\n",
       "784  201705      9.462366\n",
       "785  201706     13.500000\n",
       "786  201707     15.716846\n",
       "787  201708     15.716846\n",
       "788  201709     11.296296\n",
       "789  201710      9.027778\n",
       "\n",
       "[790 rows x 2 columns]"
      ]
     },
     "execution_count": 30,
     "metadata": {},
     "output_type": "execute_result"
    }
   ],
   "source": [
    "# Print the monthly_data dataframe\n",
    "\n",
    "# define Column index order\n",
    "col_order = ['DATE_m', 'temp_celsius']\n",
    "# change column index order\n",
    "monthly_data = monthly_data.reindex(columns=col_order)\n",
    "\n",
    "# print dataframe\n",
    "monthly_data"
   ]
  },
  {
   "cell_type": "code",
   "execution_count": 31,
   "metadata": {},
   "outputs": [],
   "source": [
    "# Create an empty DataFrame for the aggregated values\n",
    "monthly_data = pd.DataFrame()\n",
    "\n",
    "# The columns that we want to aggregate\n",
    "mean_cols = ['temp_celsius']\n",
    "\n",
    "# Iterate over the groups\n",
    "for key, group in grouped:\n",
    "   # Aggregate the data\n",
    "   mean_values = group[mean_cols].mean()\n",
    "\n",
    "   # Add the ´key´ (i.e. the date+time information) into the aggregated values\n",
    "   mean_values['DATE_m'] = key\n",
    "\n",
    "   # Append the aggregated values into the DataFrame\n",
    "   monthly_data = monthly_data.append(mean_values, ignore_index=True)"
   ]
  },
  {
   "cell_type": "code",
   "execution_count": 32,
   "metadata": {
    "scrolled": true
   },
   "outputs": [
    {
     "name": "stdout",
     "output_type": "stream",
     "text": [
      "     DATE_m  temp_celsius\n",
      "0    195201     -1.400966\n",
      "1    195202     -4.000000\n",
      "2    195203    -10.106838\n",
      "3    195204      4.226190\n",
      "4    195205      7.037037\n",
      "5    195206     13.611111\n",
      "6    195207     16.230159\n",
      "7    195208     14.157706\n",
      "8    195209      8.461538\n",
      "9    195210      2.162698\n",
      "10   195211     -2.380952\n",
      "11   195212     -2.911111\n",
      "12   195301     -5.396825\n",
      "13   195302     -8.662551\n",
      "14   195303     -0.483092\n",
      "15   195304      4.423868\n",
      "16   195305      9.265233\n",
      "17   195306     17.037037\n",
      "18   195307     17.066667\n",
      "19   195308     15.114943\n",
      "20   195309      9.650206\n",
      "21   195310      7.222222\n",
      "22   195311      1.408730\n",
      "23   195312     -1.290323\n",
      "24   195401     -7.072650\n",
      "25   195402    -11.527778\n",
      "26   195403     -1.269841\n",
      "27   195404      1.412037\n",
      "28   195405     11.455939\n",
      "29   195406     13.910256\n",
      "..      ...           ...\n",
      "760  201505      9.587814\n",
      "761  201506     13.537037\n",
      "762  201507     16.075269\n",
      "763  201508     16.702509\n",
      "764  201509     12.537037\n",
      "765  201510      5.179211\n",
      "766  201511      4.592593\n",
      "767  201512      2.204301\n",
      "768  201601    -10.232975\n",
      "769  201602     -0.440613\n",
      "770  201603      0.071685\n",
      "771  201604      4.648148\n",
      "772  201605     13.853047\n",
      "773  201606     15.370370\n",
      "774  201607     17.419355\n",
      "775  201608     15.896057\n",
      "776  201609     12.444444\n",
      "777  201610      4.498208\n",
      "778  201611     -0.536398\n",
      "779  201612     -0.788530\n",
      "780  201701     -2.888889\n",
      "781  201702     -3.194444\n",
      "782  201703      0.698925\n",
      "783  201704      2.240741\n",
      "784  201705      9.462366\n",
      "785  201706     13.500000\n",
      "786  201707     15.716846\n",
      "787  201708     15.716846\n",
      "788  201709     11.296296\n",
      "789  201710      9.027778\n",
      "\n",
      "[790 rows x 2 columns]\n"
     ]
    }
   ],
   "source": [
    "# define Column index order\n",
    "col_order = ['DATE_m', 'temp_celsius']\n",
    "# change column index order\n",
    "monthly_data = monthly_data.reindex(columns=col_order)\n",
    "\n",
    "# print the dataframe monthly_data\n",
    "print(monthly_data)"
   ]
  },
  {
   "cell_type": "code",
   "execution_count": null,
   "metadata": {
    "deletable": false,
    "editable": false,
    "nbgrader": {
     "checksum": "73e9e1c90aa1b842dcc2b915b7aa3710",
     "grade": true,
     "grade_id": "monthly_averages_tests",
     "locked": true,
     "points": 7.5,
     "schema_version": 1,
     "solution": false
    }
   },
   "outputs": [],
   "source": []
  },
  {
   "cell_type": "markdown",
   "metadata": {
    "deletable": false,
    "editable": false,
    "nbgrader": {
     "checksum": "9de1ed207173b8a65cc217ff753a77c5",
     "grade": false,
     "grade_id": "cell-ccd31e45c30df3ec",
     "locked": true,
     "schema_version": 1,
     "solution": false
    }
   },
   "source": [
    "# Problem 3 - Calculating temperature anomalies (7.5 points)\n",
    "\n",
    "Our goal in this problem is to calculate monthly temperature anomalies in order to see how temperatures have changed over time, relative to the observation period between 1952-1980.\n",
    "\n",
    "We will again continue working with this same notebook.\n",
    "\n",
    "In order to complete the problem, you must do following things:\n",
    "\n",
    "- You need to calculate a mean temperature ***for each month*** over the period 1952-1980 using the data in the data file.\n",
    " As a result, you should end up with 12 values, 1 mean temperature for each month in that period, and store them in a new Pandas DataFrame called **`reference_temps`**.  \n",
    "   - The columns in the new DataFrame should be titled `Month` and `ref_temp`. \n",
    "   \n",
    "For example, your `reference_temps` data should be something like that below, 1 value for each month of the year (12 total):\n",
    "   \n",
    "| Month    | ref_temp         |\n",
    "|----------|------------------|\n",
    "| 01       | -5.350916        |\n",
    "| 02       | -5.941307        |\n",
    "| 03       | -2.440364        |\n",
    "| ...      | ...              |\n",
    "   \n",
    "*Remember, these temperatures should be in degrees Celsius.*\n",
    "\n",
    "- Once you have the monthly mean values for each of the 12 months, you can then calculate a temperature anomaly for every month in the `monthly_data` DataFrame.\n",
    "- The temperature anomaly we want to calculate is simply the temperature for one month in `monthly_data` (`temp_celsius` -column) minus the corresponding monthly reference temperature in `ref_temp` column of `reference_temps` DataFrame. \n",
    "    - Hint: You need to make a table join (see hints for this week)\n",
    "- You should thus end up with three new columns in the `monthly_data` DataFrame: \n",
    "\n",
    "    1. **`Diff`**  showing the temperature anomaly, the difference in temperature for a given month (e.g., February 1960) compared to the average (e.g., for February 1952-1980), \n",
    "    2. **`Month`** indicating the month, and \n",
    "    3. **`ref_temp`** indicating the (monthly) reference temperature.\n",
    "- Update and commit your changes to the notebook in your **own repository** of this week's exercise.\n"
   ]
  },
  {
   "cell_type": "markdown",
   "metadata": {},
   "source": [
    "### Get the month from the year_month column called **`data['DATE_m']`**"
   ]
  },
  {
   "cell_type": "code",
   "execution_count": null,
   "metadata": {},
   "outputs": [],
   "source": [
    "# # create new column called 'month' that will contain month for each year\n",
    "# monthly_data['DATE_m'] = monthly_data['DATE_m'].astype(str)\n",
    "# # check data type\n",
    "# print('Data type for the column:')\n",
    "# print(monthly_data['DATE_m'].dtype)\n",
    "\n",
    "# print('\\nDATa type of the first value in the column:')\n",
    "# print(type(monthly_data.loc[0, 'DATE_m']))"
   ]
  },
  {
   "cell_type": "code",
   "execution_count": 36,
   "metadata": {
    "scrolled": true
   },
   "outputs": [
    {
     "name": "stdout",
     "output_type": "stream",
     "text": [
      "   DATE_m  temp_celsius month\n",
      "0  195201     -1.400966    01\n",
      "1  195202     -4.000000    02\n",
      "2  195203    -10.106838    03\n",
      "3  195204      4.226190    04\n",
      "4  195205      7.037037    05\n"
     ]
    }
   ],
   "source": [
    "# Slice the string column to obtain the month value\n",
    "monthly_data['month'] = monthly_data['DATE_m'].str.slice(start=4, stop=6)\n",
    "\n",
    "# Convert the month and DATE_m text back to integer form\n",
    "monthly_data['DATE_m'] = monthly_data['DATE_m'].astype(int)\n",
    "monthly_data['month'] = monthly_data['month'].astype(str)\n",
    "# let's see if we slice correctly the data\n",
    "print(monthly_data.head())"
   ]
  },
  {
   "cell_type": "code",
   "execution_count": 34,
   "metadata": {
    "deletable": false,
    "nbgrader": {
     "checksum": "69525367033fce390f9150713e4023d2",
     "grade": false,
     "grade_id": "temperature_anomaly",
     "locked": false,
     "schema_version": 1,
     "solution": true
    }
   },
   "outputs": [],
   "source": [
    "# YOUR CODE HERE\n",
    "# raise NotImplementedError()\n",
    "\n",
    "# Create new dataframe\n",
    "reference_temp = pd.DataFrame()"
   ]
  },
  {
   "cell_type": "markdown",
   "metadata": {},
   "source": [
    "### <i>Let's filter the data to be only between 1952 and 1980...</i>"
   ]
  },
  {
   "cell_type": "code",
   "execution_count": 37,
   "metadata": {
    "scrolled": true
   },
   "outputs": [
    {
     "name": "stdout",
     "output_type": "stream",
     "text": [
      "     DATE_m  temp_celsius month\n",
      "0    195201     -1.400966    01\n",
      "1    195202     -4.000000    02\n",
      "2    195203    -10.106838    03\n",
      "3    195204      4.226190    04\n",
      "4    195205      7.037037    05\n",
      "5    195206     13.611111    06\n",
      "6    195207     16.230159    07\n",
      "7    195208     14.157706    08\n",
      "8    195209      8.461538    09\n",
      "9    195210      2.162698    10\n",
      "10   195211     -2.380952    11\n",
      "11   195212     -2.911111    12\n",
      "12   195301     -5.396825    01\n",
      "13   195302     -8.662551    02\n",
      "14   195303     -0.483092    03\n",
      "15   195304      4.423868    04\n",
      "16   195305      9.265233    05\n",
      "17   195306     17.037037    06\n",
      "18   195307     17.066667    07\n",
      "19   195308     15.114943    08\n",
      "20   195309      9.650206    09\n",
      "21   195310      7.222222    10\n",
      "22   195311      1.408730    11\n",
      "23   195312     -1.290323    12\n",
      "24   195401     -7.072650    01\n",
      "25   195402    -11.527778    02\n",
      "26   195403     -1.269841    03\n",
      "27   195404      1.412037    04\n",
      "28   195405     11.455939    05\n",
      "29   195406     13.910256    06\n",
      "..      ...           ...   ...\n",
      "318  197807     15.125448    07\n",
      "319  197808     13.548387    08\n",
      "320  197809      8.388889    09\n",
      "321  197810      3.960573    10\n",
      "322  197811      2.000000    11\n",
      "323  197812    -12.759857    12\n",
      "324  197901     -8.655914    01\n",
      "325  197902     -9.880952    02\n",
      "326  197903     -1.989247    03\n",
      "327  197904      1.685185    04\n",
      "328  197905     10.555556    05\n",
      "329  197906     16.018519    06\n",
      "330  197907     14.838710    07\n",
      "331  197908     16.093190    08\n",
      "332  197909      9.574074    09\n",
      "333  197910      3.906810    10\n",
      "334  197911      1.388889    11\n",
      "335  197912     -3.817204    12\n",
      "336  198001     -8.835125    01\n",
      "337  198002     -8.275862    02\n",
      "338  198003     -6.164875    03\n",
      "339  198004      4.777778    04\n",
      "340  198005      7.150538    05\n",
      "341  198006     16.814815    06\n",
      "342  198007     16.720430    07\n",
      "343  198008     14.784946    08\n",
      "344  198009     10.814815    09\n",
      "345  198010      5.232975    10\n",
      "346  198011     -2.462963    11\n",
      "347  198012     -2.974910    12\n",
      "\n",
      "[348 rows x 3 columns]\n"
     ]
    }
   ],
   "source": [
    "# Create temp dataframe to filter data \n",
    "monthly_data_temp = pd.DataFrame()\n",
    "\n",
    "# filter the data to the new datafrma\n",
    "md_sample = monthly_data.loc[(monthly_data['DATE_m'] >= 195201) & (monthly_data['DATE_m']<=198012)]\n",
    "\n",
    "# Let's print our filtered data\n",
    "print(md_sample)"
   ]
  },
  {
   "cell_type": "code",
   "execution_count": 38,
   "metadata": {},
   "outputs": [],
   "source": [
    "# Use groupeby() to group the data based on a key value\n",
    "grouped = md_sample.groupby('month')"
   ]
  },
  {
   "cell_type": "code",
   "execution_count": 39,
   "metadata": {},
   "outputs": [
    {
     "name": "stdout",
     "output_type": "stream",
     "text": [
      "Type:\n",
      " <class 'pandas.core.groupby.generic.DataFrameGroupBy'>\n",
      "Length:\n",
      " 12\n"
     ]
    }
   ],
   "source": [
    "# What;s the type of the group data\n",
    "print('Type:\\n', type(grouped))\n",
    "\n",
    "# how many rows contains\n",
    "print('Length:\\n', len(grouped))"
   ]
  },
  {
   "cell_type": "markdown",
   "metadata": {},
   "source": [
    "Now we can see that we have a new dataframe called 'reference_month', a new object called grouped with type **`DataFrameGroupBy`**. it contains 12 individual groups in the data. <b>One group for each month</b>\n",
    "\n",
    "Let's see what we have on month grouped variable. on the first month **`01`**. we can get the value of the month from the **`DataFrameGroupBy`** -object with **`get_group()`** function"
   ]
  },
  {
   "cell_type": "code",
   "execution_count": 48,
   "metadata": {
    "scrolled": true
   },
   "outputs": [
    {
     "name": "stdout",
     "output_type": "stream",
     "text": [
      "     DATE_m  temp_celsius month\n",
      "0    195201     -1.400966    01\n",
      "12   195301     -5.396825    01\n",
      "24   195401     -7.072650    01\n",
      "36   195501     -5.473251    01\n",
      "48   195601     -8.133333    01\n",
      "60   195701     -2.440476    01\n",
      "72   195801     -8.315412    01\n",
      "84   195901     -5.148148    01\n",
      "96   196001    -10.229885    01\n",
      "108  196101     -3.648148    01\n",
      "120  196201     -3.655914    01\n",
      "132  196301     -9.892473    01\n",
      "144  196401           NaN    01\n",
      "156  196501           NaN    01\n",
      "168  196601           NaN    01\n",
      "180  196701           NaN    01\n",
      "192  196801           NaN    01\n",
      "204  196901           NaN    01\n",
      "216  197001           NaN    01\n",
      "228  197101           NaN    01\n",
      "240  197201           NaN    01\n",
      "252  197301     -1.971326    01\n",
      "264  197401     -2.921147    01\n",
      "276  197501     -1.379928    01\n",
      "288  197601     -9.946237    01\n",
      "300  197701     -6.451613    01\n",
      "312  197801     -5.806452    01\n",
      "324  197901     -8.655914    01\n",
      "336  198001     -8.835125    01\n"
     ]
    }
   ],
   "source": [
    "# Specify the month, key value to make the first selection\n",
    "month_1 = '01'\n",
    "\n",
    "# Select the group\n",
    "group_1 = grouped.get_group(month_1) # returns a NDFrame from the group\n",
    "\n",
    "# Let's see what we have\n",
    "print(group_1)"
   ]
  },
  {
   "cell_type": "markdown",
   "metadata": {},
   "source": [
    "Great... we can see that a single group contains a <b>DataFrame</b> with values only for a specific month. now we can calculate the average values for all weather mesurenments (+ month) that we have\n",
    "\n",
    "Let's caluclate all the mean values for all the groups (1 months per group) for all those weather attributes that we were interested that are between 1952 and 1980."
   ]
  },
  {
   "cell_type": "code",
   "execution_count": 49,
   "metadata": {},
   "outputs": [],
   "source": [
    "# Create new DataFrame called reference_temps\n",
    "reference_temps = pd.DataFrame()\n",
    "\n",
    "# the columns that we want to aggregate\n",
    "mean_cols = ['temp_celsius']\n",
    "\n",
    "# Iterate over the groups\n",
    "for key, group in grouped:\n",
    "    mean_values = group[mean_cols].mean()\n",
    "\n",
    "    # Add the 'key' (i.e. the month information) into the aggrgated values \n",
    "    mean_values['month']= key\n",
    "\n",
    "    # Append the aggregated values into the DataFrame\n",
    "    reference_temps = reference_temps.append(mean_values, ignore_index= True)"
   ]
  },
  {
   "cell_type": "code",
   "execution_count": 50,
   "metadata": {},
   "outputs": [
    {
     "name": "stdout",
     "output_type": "stream",
     "text": [
      "  month  ref_temp\n",
      "0    01 -5.838761\n",
      "1    02 -7.064088\n",
      "2    03 -3.874213\n",
      "3    04  2.370749\n",
      "4    05  9.482356\n",
      "\n",
      "    month   ref_temp\n",
      "0     01  -5.838761\n",
      "1     02  -7.064088\n",
      "2     03  -3.874213\n",
      "3     04   2.370749\n",
      "4     05   9.482356\n",
      "5     06  14.661728\n",
      "6     07  16.520986\n",
      "7     08  15.045650\n",
      "8     09   9.934222\n",
      "9     10   4.952240\n",
      "10    11   0.245195\n",
      "11    12  -4.165641\n"
     ]
    }
   ],
   "source": [
    "# Create a dictionary with old a new column names\n",
    "name_convention_dict = {'month': 'month', 'temp_celsius': 'ref_temp'}\n",
    "\n",
    "# re-name the columns\n",
    "reference_temps = reference_temps.rename(columns=name_convention_dict)\n",
    "\n",
    "# Print the new dtaframe with only the month and the ref_temp columns\n",
    "print(reference_temps.head())\n",
    "\n",
    "# Re-order the columns\n",
    "col_order = ['month', 'ref_temp']\n",
    "reference_temps = reference_temps.reindex(columns=col_order)\n",
    "\n",
    "print('\\n',reference_temps)"
   ]
  },
  {
   "cell_type": "code",
   "execution_count": 47,
   "metadata": {
    "scrolled": true
   },
   "outputs": [
    {
     "name": "stdout",
     "output_type": "stream",
     "text": [
      "DATE_m            int32\n",
      "temp_celsius    float64\n",
      "month            object\n",
      "dtype: object\n",
      "\n",
      " Month        object\n",
      "ref_temp    float64\n",
      "dtype: object\n"
     ]
    }
   ],
   "source": [
    "# lets print a sample of both dataframes\n",
    "print((monthly_data.dtypes))\n",
    "\n",
    "print('\\n', reference_temps.dtypes)"
   ]
  },
  {
   "cell_type": "markdown",
   "metadata": {
    "deletable": false,
    "editable": false,
    "nbgrader": {
     "checksum": "16c5c0628a4fa8da0187976d20c2cd08",
     "grade": false,
     "grade_id": "cell-875dcc18eb6ab590",
     "locked": true,
     "schema_version": 1,
     "solution": false
    }
   },
   "source": [
    "- What is the highest value in `Diff` column?\n",
    "   - Print the answer in the cell below"
   ]
  },
  {
   "cell_type": "code",
   "execution_count": null,
   "metadata": {
    "deletable": false,
    "editable": false,
    "nbgrader": {
     "checksum": "2eb441db9b1d7520a8f6a4b309ebf006",
     "grade": true,
     "grade_id": "temperature_anomaly_tests",
     "locked": true,
     "points": 7.5,
     "schema_version": 1,
     "solution": false
    }
   },
   "outputs": [],
   "source": []
  },
  {
   "cell_type": "code",
   "execution_count": 45,
   "metadata": {},
   "outputs": [
    {
     "name": "stdout",
     "output_type": "stream",
     "text": [
      "-8.927203065134101\n",
      "-7.064087935088894\n",
      "diff:\n",
      " -1.8631151300452071\n"
     ]
    }
   ],
   "source": [
    "# Use iloc[<index_num>, dataframe.columns.get_loc(<'column'>)] to return the value of specific column\n",
    "# m_data = monthly_data.loc[monthly_data['DATE_m']== 196002, 'Celsius']\n",
    "# r_temp = reference_temps.loc[reference_temps['Month'] == 2, 'ref_temp']\n",
    "\n",
    "m_data = monthly_data.iloc[97]['temp_celsius']\n",
    "r_temp = reference_temps.iloc[1]['ref_temp']\n",
    "\n",
    "\n",
    "print(m_data)\n",
    "print(r_temp)\n",
    "\n",
    "# let's see the result\n",
    "diff = m_data - r_temp\n",
    "print('diff:\\n',diff)"
   ]
  },
  {
   "cell_type": "code",
   "execution_count": 52,
   "metadata": {
    "scrolled": true
   },
   "outputs": [
    {
     "name": "stdout",
     "output_type": "stream",
     "text": [
      "   DATE_m  temp_celsius month  ref_temp\n",
      "0  195201     -1.400966    01 -5.838761\n",
      "1  195301     -5.396825    01 -5.838761\n",
      "2  195401     -7.072650    01 -5.838761\n",
      "3  195501     -5.473251    01 -5.838761\n",
      "4  195601     -8.133333    01 -5.838761\n",
      "\n",
      "      DATE_m month  temp_celsius  ref_temp\n",
      "0    195201    01     -1.400966 -5.838761\n",
      "1    195301    01     -5.396825 -5.838761\n",
      "2    195401    01     -7.072650 -5.838761\n",
      "3    195501    01     -5.473251 -5.838761\n",
      "4    195601    01     -8.133333 -5.838761\n",
      "5    195701    01     -2.440476 -5.838761\n",
      "6    195801    01     -8.315412 -5.838761\n",
      "7    195901    01     -5.148148 -5.838761\n",
      "8    196001    01    -10.229885 -5.838761\n",
      "9    196101    01     -3.648148 -5.838761\n",
      "10   196201    01     -3.655914 -5.838761\n",
      "11   196301    01     -9.892473 -5.838761\n",
      "12   196401    01           NaN -5.838761\n",
      "13   196501    01           NaN -5.838761\n",
      "14   196601    01           NaN -5.838761\n",
      "15   196701    01           NaN -5.838761\n",
      "16   196801    01           NaN -5.838761\n",
      "17   196901    01           NaN -5.838761\n",
      "18   197001    01           NaN -5.838761\n",
      "19   197101    01           NaN -5.838761\n",
      "20   197201    01           NaN -5.838761\n",
      "21   197301    01     -1.971326 -5.838761\n",
      "22   197401    01     -2.921147 -5.838761\n",
      "23   197501    01     -1.379928 -5.838761\n",
      "24   197601    01     -9.946237 -5.838761\n",
      "25   197701    01     -6.451613 -5.838761\n",
      "26   197801    01     -5.806452 -5.838761\n",
      "27   197901    01     -8.655914 -5.838761\n",
      "28   198001    01     -8.835125 -5.838761\n",
      "29   198101    01     -4.103943 -5.838761\n",
      "..      ...   ...           ...       ...\n",
      "760  198712    12     -4.713262 -4.165641\n",
      "761  198812    12     -6.236559 -4.165641\n",
      "762  198912    12     -4.982079 -4.165641\n",
      "763  199012    12     -1.021505 -4.165641\n",
      "764  199112    12     -1.236559 -4.165641\n",
      "765  199212    12      0.448029 -4.165641\n",
      "766  199312    12     -2.956989 -4.165641\n",
      "767  199412    12     -0.483871 -4.165641\n",
      "768  199512    12     -8.010753 -4.165641\n",
      "769  199612    12     -5.089606 -4.165641\n",
      "770  199712    12     -3.333333 -4.165641\n",
      "771  199812    12     -1.989247 -4.165641\n",
      "772  199912    12     -2.078853 -4.165641\n",
      "773  200012    12      1.254480 -4.165641\n",
      "774  200112    12     -7.060932 -4.165641\n",
      "775  200212    12     -8.207885 -4.165641\n",
      "776  200312    12     -0.967742 -4.165641\n",
      "777  200412    12     -0.448029 -4.165641\n",
      "778  200512    12     -3.387097 -4.165641\n",
      "779  200612    12      3.279570 -4.165641\n",
      "780  200712    12      1.648746 -4.165641\n",
      "781  200812    12      0.430108 -4.165641\n",
      "782  200912    12     -5.340502 -4.165641\n",
      "783  201012    12     -8.870968 -4.165641\n",
      "784  201112    12      2.186380 -4.165641\n",
      "785  201212    12     -6.630824 -4.165641\n",
      "786  201312    12      1.362007 -4.165641\n",
      "787  201412    12     -1.146953 -4.165641\n",
      "788  201512    12      2.204301 -4.165641\n",
      "789  201612    12     -0.788530 -4.165641\n",
      "\n",
      "[790 rows x 4 columns]\n"
     ]
    }
   ],
   "source": [
    "# join the dataframes aka table join\n",
    "\n",
    "join = monthly_data.merge(reference_temps, on='month')\n",
    "\n",
    "# let's see how does the join look like\n",
    "print(join.head())\n",
    "\n",
    "# let's organize the data in a better way\n",
    "# Re-order the columns\n",
    "col_order = ['DATE_m', 'month', 'temp_celsius', 'ref_temp']\n",
    "join = join.reindex(columns=col_order)\n",
    "#let's print it again\n",
    "print('\\n',join)"
   ]
  },
  {
   "cell_type": "code",
   "execution_count": 55,
   "metadata": {
    "scrolled": true
   },
   "outputs": [
    {
     "name": "stdout",
     "output_type": "stream",
     "text": [
      "   DATE_m month  temp_celsius  ref_temp      Diff\n",
      "0  195201    01     -1.400966 -5.838761  4.437795\n",
      "1  195301    01     -5.396825 -5.838761  0.441936\n",
      "2  195401    01     -7.072650 -5.838761 -1.233888\n",
      "3  195501    01     -5.473251 -5.838761  0.365510\n",
      "4  195601    01     -8.133333 -5.838761 -2.294572\n"
     ]
    }
   ],
   "source": [
    "# let's add a new column 'Diff' as result of the temperature anomaly for that given momth\n",
    "join['Diff'] = join['temp_celsius'] - join['ref_temp']\n",
    "\n",
    "# Now print the dataframe with the new column \n",
    "print(join.head())"
   ]
  },
  {
   "cell_type": "markdown",
   "metadata": {
    "deletable": false,
    "editable": false,
    "nbgrader": {
     "checksum": "aafbde2279f53b7b9b6cbd8e8b555551",
     "grade": false,
     "grade_id": "cell-99d62d1b7e475fd6",
     "locked": true,
     "schema_version": 1,
     "solution": false
    }
   },
   "source": [
    "#### Done!\n",
    "\n",
    "That's it. Now you are ready with Problems 1-3. If you want, you can still continue with an optional [Problem 4.](Exercise-6-problem-4.ipynb)"
   ]
  }
 ],
 "metadata": {
  "kernelspec": {
   "display_name": "Python 3",
   "language": "python",
   "name": "python3"
  },
  "language_info": {
   "codemirror_mode": {
    "name": "ipython",
    "version": 3
   },
   "file_extension": ".py",
   "mimetype": "text/x-python",
   "name": "python",
   "nbconvert_exporter": "python",
   "pygments_lexer": "ipython3",
   "version": "3.6.8"
  }
 },
 "nbformat": 4,
 "nbformat_minor": 2
}
