{
 "cells": [
  {
   "cell_type": "markdown",
   "metadata": {
    "deletable": false,
    "editable": false,
    "nbgrader": {
     "checksum": "78f60d1e36a01b4ab14f8acc577dec07",
     "grade": false,
     "grade_id": "cell-bc924b1ba40193e7",
     "locked": true,
     "schema_version": 1,
     "solution": false
    }
   },
   "source": [
    "# Problem 4 (optional)\n",
    "\n",
    "This is an optional task for more advanced students. \n",
    "\n",
    "Download your own data (daily summaries for years **1959-2018 August**) for **Sodankyla Lokka** (notice the place name should be without `ä` letter), from [NOAA Climate Data Online Search](https://www.ncdc.noaa.gov/cdo-web/search?datasetid=GHCND).\n",
    "Make sure to click on starting day (and ending day) in the date selection panel after changing year!\n",
    "After you have searched, click “Add to cart” for a selected station, then go to cart. Select the ``Custom GHCN-Daily Text`` -format for the resulting output file and hit continue.\n",
    "\n",
    "- From ``Station Detail & Data Flag Options`` choose two of the following attributes: Station Name, Geographic Location. **Notice:** Do **NOT** include data flags because it makes the data difficult to read. Use **Standard** units.\n",
    "\n",
    "- Take also Precipitation and Temperature which are under a separate button below. \n",
    "- From the next page, add your own email address where the weather data will be sent after a short moment.\n",
    "\n",
    "Write your codes into a separate `weather_comparisons.py` file.\n",
    "\n",
    "After you have downloaded the data. you should first,\n",
    "\n",
    "- Calculate the average temperature using columns `TMAX` and `TMIN` and insert those values into a new column called `TAVG`.\n",
    "\n",
    "Next, you should use the approaches learned during this week and the same approaches as in Problem 3 to answer / do:\n",
    "\n",
    "- Calculate the temperature anomalies in Sodankyla, i.e. the difference between referenceTemps and the average temperature for each month (see Problem 3). \n",
    "- Calculate the monthly temperature differences between Sodankyla and Helsinki stations\n",
    "- How different the summer temperatures (June, July, August) have been between Helsinki (used in Problems 1-3) and Sodankyla station?\n",
    "    - Calculate the monthly differences into a DataFrame and save it (as `CSV` file) into your own Exercise repository for this week\n",
    "    - What were the summer mean temperatures for both of these stations?\n",
    "    - What were the summer standard deviations for both of these stations?\n",
    "- Upload your script and data to GitHub."
   ]
  }
 ],
 "metadata": {
  "kernelspec": {
   "display_name": "Python 3",
   "language": "python",
   "name": "python3"
  },
  "language_info": {
   "codemirror_mode": {
    "name": "ipython",
    "version": 3
   },
   "file_extension": ".py",
   "mimetype": "text/x-python",
   "name": "python",
   "nbconvert_exporter": "python",
   "pygments_lexer": "ipython3",
   "version": "3.6.8"
  }
 },
 "nbformat": 4,
 "nbformat_minor": 2
}
