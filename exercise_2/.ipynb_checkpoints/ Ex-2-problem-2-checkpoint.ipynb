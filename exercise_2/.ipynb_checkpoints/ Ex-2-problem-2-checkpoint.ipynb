{
 "cells": [
  {
   "cell_type": "markdown",
   "metadata": {},
   "source": [
    "### ---------------------------------------------------------------------------\n",
    "### Ex-2-problem-2.py\n",
    "### Created on: 2019-01-05 \n",
    "###   (Created by: Gustavo Colmenares)\n",
    "### Description: Read text bellow\n",
    "### ---------------------------------------------------------------------------\n",
    "\n",
    "\"\"\"\n",
    "Create a new Jupyter notebook called Ex-2-problem-2.ipynb that allows users to select a month and \n",
    "have the monthly average temperature printed to the screen. For example, if the user sets month \n",
    "to \"March\", the script will display\n",
    "\n",
    "The average temperature in Helsinki in March is -1.0\n",
    "\"\"\""
   ]
  },
  {
   "cell_type": "markdown",
   "metadata": {},
   "source": [
    "~ month and temperature are the variables that contain the months and average temperature in Helsinki, Finland"
   ]
  },
  {
   "cell_type": "code",
   "execution_count": 44,
   "metadata": {},
   "outputs": [],
   "source": [
    "month = ['January', 'February', 'March', 'April', 'May', 'June', 'July', 'August', 'September', 'October', 'November', 'December']\n",
    "temperature_C = [-3.5, -4.5, -1.0, 4.0, 10.0, 15.0, 18.0, 16.0, 11.5, 6.0, 2.0, -1.6]"
   ]
  },
  {
   "cell_type": "markdown",
   "metadata": {},
   "source": [
    "~ Input() function will prompt a message to the user asking to input a month "
   ]
  },
  {
   "cell_type": "code",
   "execution_count": 50,
   "metadata": {},
   "outputs": [
    {
     "name": "stdout",
     "output_type": "stream",
     "text": [
      "Enter month that you want to know the average temperature [°C] September\n"
     ]
    }
   ],
   "source": [
    "selectedMonth = input(\"Enter month that you want to know the average temperature [°C]: \")"
   ]
  },
  {
   "cell_type": "markdown",
   "metadata": {},
   "source": [
    "~ Using .index() we are finding the index position of the month selected\n",
    "~ SelectedTemp variable contain the index positioonof the month selected"
   ]
  },
  {
   "cell_type": "code",
   "execution_count": 53,
   "metadata": {},
   "outputs": [],
   "source": [
    "tempIndex = month.index(selectedMonth)\n",
    "selectedTemp = temperature_C[tempIndex]"
   ]
  },
  {
   "cell_type": "markdown",
   "metadata": {},
   "source": [
    "~ Using format() method we can add the values of variables into the message prompt "
   ]
  },
  {
   "cell_type": "code",
   "execution_count": 58,
   "metadata": {},
   "outputs": [
    {
     "name": "stdout",
     "output_type": "stream",
     "text": [
      " In September the average temperature is 11.5 °C \n"
     ]
    }
   ],
   "source": [
    "print(\" In {0} the average temperature is {1} °C \".format(selectedMonth, selectedTemp))"
   ]
  },
  {
   "cell_type": "code",
   "execution_count": 62,
   "metadata": {},
   "outputs": [
    {
     "name": "stdout",
     "output_type": "stream",
     "text": [
      "Enter month that you want to know the average temperature [°C] September\n"
     ]
    },
    {
     "data": {
      "text/plain": [
       "' In September the average temperature is 11.5 °C '"
      ]
     },
     "execution_count": 62,
     "metadata": {},
     "output_type": "execute_result"
    }
   ],
   "source": [
    "def tempAverage(selectedMonth):\n",
    "\t# process:\n",
    "\ttempIndex = month.index(selectedMonth)\n",
    "\tselectedTemp = temperature_C[tempIndex]\n",
    "\treturn(\" In {0} the average temperature is {1} °C \".format(selectedMonth, selectedTemp))\n",
    "\n",
    "# variables\n",
    "selectedMonth = input(\"Enter month that you want to know the average temperature [°C] \")\n",
    "month = ['January', 'February', 'March', 'April', 'May', 'June', 'July', 'August', 'September', 'October', 'November', 'December']\n",
    "temperature_C = [-3.5, -4.5, -1.0, 4.0, 10.0, 15.0, 18.0, 16.0, 11.5, 6.0, 2.0, -1.6]\n",
    "\n",
    "# calling function tempAverage\n",
    "tempAverage(selectedMonth)"
   ]
  },
  {
   "cell_type": "code",
   "execution_count": null,
   "metadata": {},
   "outputs": [],
   "source": []
  }
 ],
 "metadata": {
  "kernelspec": {
   "display_name": "Python 3",
   "language": "python",
   "name": "python3"
  },
  "language_info": {
   "codemirror_mode": {
    "name": "ipython",
    "version": 3
   },
   "file_extension": ".py",
   "mimetype": "text/x-python",
   "name": "python",
   "nbconvert_exporter": "python",
   "pygments_lexer": "ipython3",
   "version": "3.6.3"
  }
 },
 "nbformat": 4,
 "nbformat_minor": 2
}
