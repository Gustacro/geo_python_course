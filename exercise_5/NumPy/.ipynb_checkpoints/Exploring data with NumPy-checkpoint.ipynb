{
 "cells": [
  {
   "cell_type": "markdown",
   "metadata": {},
   "source": [
    "## <font color=#ffbf00>Exploring Data with NumPy</h3></font>\n",
    "### <font color=#ffbf00>Reading Data file with NumPy</h3></font>\n"
   ]
  },
  {
   "cell_type": "code",
   "execution_count": 1,
   "metadata": {},
   "outputs": [
    {
     "data": {
      "text/plain": [
       "array([nan, nan, nan, nan, nan, nan, nan, nan, nan, nan, nan, nan, nan,\n",
       "       nan, nan, nan, nan, nan, nan, nan, nan, nan, nan, nan, nan, nan,\n",
       "       nan, nan, nan, nan, nan])"
      ]
     },
     "execution_count": 1,
     "metadata": {},
     "output_type": "execute_result"
    }
   ],
   "source": [
    "# import module\n",
    "import numpy as np\n",
    "# Create variable that contain document's path\n",
    "fp = r\"C:\\Users\\Gustavocolmenares\\Documents\\SchoolStaff\\GIS_PCC\\Courses_Training\\Geo_python_Course\\Exercise-5\\Pandas\\Kumpula-June-2016-w-metadata.txt\"\n",
    "# Reading a file using genformtxt(<file_name>) function\n",
    "data = np.genfromtxt(fp) # Access data file to be opened\n",
    "data"
   ]
  },
  {
   "cell_type": "markdown",
   "metadata": {},
   "source": [
    "\n",
    "<p><b>T</b>he result that we got wasn't what we expected. We only got \"nan\"(not a nnumber) values.<br>\n",
    "You can open the file separetly and check its content<br>\n",
    "-<b>Y</b>ou will find some metadata on top of the file(header). That is not data, so we need to skip it.<br>\n",
    "    Use <i>(skip_header=<number_rows_to_skip>)</i> paramemter.<br>\n",
    "-<b>T</b>he values in data file are separated by commas.<br>\n",
    "    Use <i>(delimiter= ' , ' )</i<b>> parameter</p>\n"
   ]
  },
  {
   "cell_type": "code",
   "execution_count": 2,
   "metadata": {
    "scrolled": true
   },
   "outputs": [
    {
     "data": {
      "text/plain": [
       "array([[2.0160601e+07, 6.5500000e+01, 7.3600000e+01, 5.4700000e+01],\n",
       "       [2.0160602e+07, 6.5800000e+01, 8.0800000e+01, 5.5000000e+01],\n",
       "       [2.0160603e+07, 6.8400000e+01, 7.7900000e+01, 5.5600000e+01],\n",
       "       [2.0160604e+07, 5.7500000e+01, 7.0900000e+01, 4.7300000e+01],\n",
       "       [2.0160605e+07, 5.1400000e+01, 5.8300000e+01, 4.3200000e+01],\n",
       "       [2.0160606e+07, 5.2200000e+01, 5.9700000e+01, 4.2800000e+01],\n",
       "       [2.0160607e+07, 5.6900000e+01, 6.5100000e+01, 4.5900000e+01],\n",
       "       [2.0160608e+07, 5.4200000e+01, 6.0400000e+01, 4.7500000e+01],\n",
       "       [2.0160609e+07, 4.9400000e+01, 5.4100000e+01, 4.5700000e+01],\n",
       "       [2.0160610e+07, 4.9500000e+01, 5.5900000e+01, 4.3000000e+01],\n",
       "       [2.0160611e+07, 5.4000000e+01, 6.2100000e+01, 4.1700000e+01],\n",
       "       [2.0160612e+07, 5.5400000e+01, 6.4200000e+01, 4.6000000e+01],\n",
       "       [2.0160613e+07, 5.8300000e+01, 6.8200000e+01, 4.7300000e+01],\n",
       "       [2.0160614e+07, 5.9700000e+01, 6.7800000e+01, 4.7800000e+01],\n",
       "       [2.0160615e+07, 6.3400000e+01, 7.0300000e+01, 4.9300000e+01],\n",
       "       [2.0160616e+07, 5.7800000e+01, 6.7500000e+01, 5.5600000e+01],\n",
       "       [2.0160617e+07, 6.0400000e+01, 7.0700000e+01, 5.5900000e+01],\n",
       "       [2.0160618e+07, 5.7300000e+01, 6.2800000e+01, 5.4000000e+01],\n",
       "       [2.0160619e+07, 5.6300000e+01, 5.9200000e+01, 5.4100000e+01],\n",
       "       [2.0160620e+07, 5.9300000e+01, 6.9100000e+01, 5.2200000e+01],\n",
       "       [2.0160621e+07, 6.2600000e+01, 7.1400000e+01, 5.0400000e+01],\n",
       "       [2.0160622e+07, 6.1700000e+01, 7.0200000e+01, 5.5400000e+01],\n",
       "       [2.0160623e+07, 6.0900000e+01, 6.7100000e+01, 5.4900000e+01],\n",
       "       [2.0160624e+07, 6.1100000e+01, 6.8900000e+01, 5.6700000e+01],\n",
       "       [2.0160625e+07, 6.5700000e+01, 7.5400000e+01, 5.7900000e+01],\n",
       "       [2.0160626e+07, 6.9600000e+01, 7.7700000e+01, 6.0300000e+01],\n",
       "       [2.0160627e+07, 6.0700000e+01, 7.0000000e+01, 5.7600000e+01],\n",
       "       [2.0160628e+07, 6.5400000e+01, 7.3000000e+01, 5.5800000e+01],\n",
       "       [2.0160629e+07, 6.5800000e+01, 7.3200000e+01, 5.9700000e+01],\n",
       "       [2.0160630e+07, 6.5700000e+01, 7.2700000e+01, 5.9200000e+01]])"
      ]
     },
     "execution_count": 2,
     "metadata": {},
     "output_type": "execute_result"
    }
   ],
   "source": [
    "# Let's try again\n",
    "data= np.genfromtxt(fp, skip_header=9, delimiter= ',')\n",
    "data "
   ]
  },
  {
   "cell_type": "markdown",
   "metadata": {},
   "source": [
    "\"\"\"Data file was read into a NumPy ndarray, which is a type of NumPy n-dimensional structure for storing data like a matrix.\"\"\"\n"
   ]
  },
  {
   "cell_type": "markdown",
   "metadata": {},
   "source": [
    "### <font color= #336600>Checking Data file formats</h3></font>"
   ]
  },
  {
   "cell_type": "code",
   "execution_count": 3,
   "metadata": {},
   "outputs": [
    {
     "data": {
      "text/plain": [
       "numpy.ndarray"
      ]
     },
     "execution_count": 3,
     "metadata": {},
     "output_type": "execute_result"
    }
   ],
   "source": [
    "# Checking the array datatype\n",
    "type(data)"
   ]
  },
  {
   "cell_type": "code",
   "execution_count": 4,
   "metadata": {},
   "outputs": [
    {
     "data": {
      "text/plain": [
       "dtype('float64')"
      ]
     },
     "execution_count": 4,
     "metadata": {},
     "output_type": "execute_result"
    }
   ],
   "source": [
    "# check the data array type.\n",
    "data.dtype "
   ]
  },
  {
   "cell_type": "markdown",
   "metadata": {},
   "source": [
    "### <font color= #336600>Checking size of Dataset</h3></font>"
   ]
  },
  {
   "cell_type": "code",
   "execution_count": 5,
   "metadata": {},
   "outputs": [
    {
     "data": {
      "text/plain": [
       "(30, 4)"
      ]
     },
     "execution_count": 5,
     "metadata": {},
     "output_type": "execute_result"
    }
   ],
   "source": [
    "# print the shape (rows, columns) of the NumPy array\n",
    "data.shape #(rows, columns)"
   ]
  },
  {
   "cell_type": "code",
   "execution_count": 6,
   "metadata": {
    "scrolled": true
   },
   "outputs": [
    {
     "data": {
      "text/plain": [
       "array([[2.0160601e+07, 6.5500000e+01, 7.3600000e+01, 5.4700000e+01],\n",
       "       [2.0160602e+07, 6.5800000e+01, 8.0800000e+01, 5.5000000e+01],\n",
       "       [2.0160603e+07, 6.8400000e+01, 7.7900000e+01, 5.5600000e+01],\n",
       "       [2.0160604e+07, 5.7500000e+01, 7.0900000e+01, 4.7300000e+01],\n",
       "       [2.0160605e+07, 5.1400000e+01, 5.8300000e+01, 4.3200000e+01],\n",
       "       [2.0160606e+07, 5.2200000e+01, 5.9700000e+01, 4.2800000e+01],\n",
       "       [2.0160607e+07, 5.6900000e+01, 6.5100000e+01, 4.5900000e+01],\n",
       "       [2.0160608e+07, 5.4200000e+01, 6.0400000e+01, 4.7500000e+01],\n",
       "       [2.0160609e+07, 4.9400000e+01, 5.4100000e+01, 4.5700000e+01],\n",
       "       [2.0160610e+07, 4.9500000e+01, 5.5900000e+01, 4.3000000e+01],\n",
       "       [2.0160611e+07, 5.4000000e+01, 6.2100000e+01, 4.1700000e+01],\n",
       "       [2.0160612e+07, 5.5400000e+01, 6.4200000e+01, 4.6000000e+01],\n",
       "       [2.0160613e+07, 5.8300000e+01, 6.8200000e+01, 4.7300000e+01],\n",
       "       [2.0160614e+07, 5.9700000e+01, 6.7800000e+01, 4.7800000e+01],\n",
       "       [2.0160615e+07, 6.3400000e+01, 7.0300000e+01, 4.9300000e+01],\n",
       "       [2.0160616e+07, 5.7800000e+01, 6.7500000e+01, 5.5600000e+01],\n",
       "       [2.0160617e+07, 6.0400000e+01, 7.0700000e+01, 5.5900000e+01],\n",
       "       [2.0160618e+07, 5.7300000e+01, 6.2800000e+01, 5.4000000e+01],\n",
       "       [2.0160619e+07, 5.6300000e+01, 5.9200000e+01, 5.4100000e+01],\n",
       "       [2.0160620e+07, 5.9300000e+01, 6.9100000e+01, 5.2200000e+01],\n",
       "       [2.0160621e+07, 6.2600000e+01, 7.1400000e+01, 5.0400000e+01],\n",
       "       [2.0160622e+07, 6.1700000e+01, 7.0200000e+01, 5.5400000e+01],\n",
       "       [2.0160623e+07, 6.0900000e+01, 6.7100000e+01, 5.4900000e+01],\n",
       "       [2.0160624e+07, 6.1100000e+01, 6.8900000e+01, 5.6700000e+01],\n",
       "       [2.0160625e+07, 6.5700000e+01, 7.5400000e+01, 5.7900000e+01],\n",
       "       [2.0160626e+07, 6.9600000e+01, 7.7700000e+01, 6.0300000e+01],\n",
       "       [2.0160627e+07, 6.0700000e+01, 7.0000000e+01, 5.7600000e+01],\n",
       "       [2.0160628e+07, 6.5400000e+01, 7.3000000e+01, 5.5800000e+01],\n",
       "       [2.0160629e+07, 6.5800000e+01, 7.3200000e+01, 5.9700000e+01],\n",
       "       [2.0160630e+07, 6.5700000e+01, 7.2700000e+01, 5.9200000e+01]])"
      ]
     },
     "execution_count": 6,
     "metadata": {},
     "output_type": "execute_result"
    }
   ],
   "source": [
    "data # let's print the data again to see its 2D structure"
   ]
  },
  {
   "cell_type": "markdown",
   "metadata": {},
   "source": [
    "### <font color= #336600>Index Slicing...</h3></font>\n",
    "<p>We can start by slicing the data up to different columns and creating new variables containing the column data.<br>\n",
    "Slice from the array can be extracted by using <i>index values</i>. I our case we have 2D data structure. For example index value [2,0]</p>"
   ]
  },
  {
   "cell_type": "code",
   "execution_count": 7,
   "metadata": {},
   "outputs": [
    {
     "data": {
      "text/plain": [
       "20160603.0"
      ]
     },
     "execution_count": 7,
     "metadata": {},
     "output_type": "execute_result"
    }
   ],
   "source": [
    "data[2,0] # It will print the value in cell row=2 column=0"
   ]
  },
  {
   "cell_type": "code",
   "execution_count": 8,
   "metadata": {},
   "outputs": [
    {
     "data": {
      "text/plain": [
       "array([20160601., 20160602., 20160603., 20160604., 20160605.])"
      ]
     },
     "execution_count": 8,
     "metadata": {},
     "output_type": "execute_result"
    }
   ],
   "source": [
    "# We can also use ranges of columns using ' : ' characther\n",
    "# let's get the first 5 rows from column 0\n",
    "data[0:5, 0] # In NumPy Range Index is(start-value, stop-value \"but not include\" )"
   ]
  },
  {
   "cell_type": "markdown",
   "metadata": {},
   "source": [
    "### <font color= #336600>Slicing Data into columns</h3></font>"
   ]
  },
  {
   "cell_type": "code",
   "execution_count": 9,
   "metadata": {},
   "outputs": [
    {
     "data": {
      "text/plain": [
       "array([20160601., 20160602., 20160603., 20160604., 20160605., 20160606.,\n",
       "       20160607., 20160608., 20160609., 20160610., 20160611., 20160612.,\n",
       "       20160613., 20160614., 20160615., 20160616., 20160617., 20160618.,\n",
       "       20160619., 20160620., 20160621., 20160622., 20160623., 20160624.,\n",
       "       20160625., 20160626., 20160627., 20160628., 20160629., 20160630.])"
      ]
     },
     "execution_count": 9,
     "metadata": {},
     "output_type": "execute_result"
    }
   ],
   "source": [
    "# Extract all the values from a column by not listing an upper and lower bound for the index slice\n",
    "# If we recall the metadata of the file we have 4 data values [YEARMODA, TEMP, MAX, MIN]\n",
    "date = data[:, 0] # this will extract all the values from the first column\n",
    "date "
   ]
  },
  {
   "cell_type": "code",
   "execution_count": 10,
   "metadata": {
    "collapsed": true
   },
   "outputs": [],
   "source": [
    "# now let's name the other columns \n",
    "temp = data[:, 1]\n",
    "temp_max = data[:, 2]\n",
    "temp_min = data[:, 3]"
   ]
  },
  {
   "cell_type": "markdown",
   "metadata": {},
   "source": [
    "### <font color= #336600>Checking Data in memory</h3></font>"
   ]
  },
  {
   "cell_type": "code",
   "execution_count": 11,
   "metadata": {},
   "outputs": [
    {
     "name": "stdout",
     "output_type": "stream",
     "text": [
      "Variable   Type       Data/Info\n",
      "-------------------------------\n",
      "data       ndarray    30x4: 120 elems, type `float64`, 960 bytes\n",
      "date       ndarray    30: 30 elems, type `float64`, 240 bytes\n",
      "fp         str        C:\\Users\\Gustavocolmenare<...>-June-2016-w-metadata.txt\n",
      "np         module     <module 'numpy' from 'C:\\<...>ges\\\\numpy\\\\__init__.py'>\n",
      "temp       ndarray    30: 30 elems, type `float64`, 240 bytes\n",
      "temp_max   ndarray    30: 30 elems, type `float64`, 240 bytes\n",
      "temp_min   ndarray    30: 30 elems, type `float64`, 240 bytes\n"
     ]
    }
   ],
   "source": [
    "# we can check the type of data that we have defined so far, \n",
    "%whos"
   ]
  },
  {
   "cell_type": "markdown",
   "metadata": {},
   "source": [
    "## <font color= #a64dff>Basic Data Calculations in NumPy</h3></font>"
   ]
  },
  {
   "cell_type": "code",
   "execution_count": 12,
   "metadata": {},
   "outputs": [
    {
     "name": "stdout",
     "output_type": "stream",
     "text": [
      "59.730000000000004\n"
     ]
    }
   ],
   "source": [
    "# get the mean value from temp column\n",
    "print(temp.mean())"
   ]
  },
  {
   "cell_type": "markdown",
   "metadata": {},
   "source": [
    "## <font color= #008ae6>Data Type Conversion</h3></font>"
   ]
  },
  {
   "cell_type": "code",
   "execution_count": 13,
   "metadata": {},
   "outputs": [
    {
     "data": {
      "text/plain": [
       "dtype('int32')"
      ]
     },
     "execution_count": 13,
     "metadata": {},
     "output_type": "execute_result"
    }
   ],
   "source": [
    "date = date.astype('int') # change the data type of date column from float to integer\n",
    "date.dtype"
   ]
  },
  {
   "cell_type": "code",
   "execution_count": null,
   "metadata": {
    "collapsed": true
   },
   "outputs": [],
   "source": []
  }
 ],
 "metadata": {
  "kernelspec": {
   "display_name": "Python 3",
   "language": "python",
   "name": "python3"
  },
  "language_info": {
   "codemirror_mode": {
    "name": "ipython",
    "version": 3
   },
   "file_extension": ".py",
   "mimetype": "text/x-python",
   "name": "python",
   "nbconvert_exporter": "python",
   "pygments_lexer": "ipython3",
   "version": "3.6.3"
  }
 },
 "nbformat": 4,
 "nbformat_minor": 2
}
