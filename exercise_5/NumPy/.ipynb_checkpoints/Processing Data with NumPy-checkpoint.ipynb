{
 "cells": [
  {
   "cell_type": "markdown",
   "metadata": {
    "collapsed": true
   },
   "source": [
    "## <font color=#00cc00>Processing data with NumPy</h3></font>"
   ]
  },
  {
   "cell_type": "code",
   "execution_count": 1,
   "metadata": {
    "collapsed": true
   },
   "outputs": [],
   "source": [
    "import numpy as np"
   ]
  },
  {
   "cell_type": "code",
   "execution_count": 2,
   "metadata": {
    "collapsed": true
   },
   "outputs": [],
   "source": [
    "# path to the data source\n",
    "fp = r\"C:\\Users\\Gustavocolmenares\\Documents\\SchoolStaff\\GIS_PCC\\Courses_Training\\Geo_python_Course\\Exercise-5\\Pandas\\Kumpula-June-2016-w-metadata.txt\"\n",
    "data = np.genfromtxt(fp, skip_header=9, delimiter=',')"
   ]
  },
  {
   "cell_type": "code",
   "execution_count": 3,
   "metadata": {
    "collapsed": true
   },
   "outputs": [],
   "source": [
    "# Provide name for all the columns array that are contained in the txt file\n",
    "date = data[:, 0]\n",
    "temp = data[:, 1]\n",
    "temp_max = data[:, 2]\n",
    "temp_min = data[:, 3]"
   ]
  },
  {
   "cell_type": "markdown",
   "metadata": {},
   "source": [
    "## <font color=#ffbf00>Calculating with NumPy arrays</h3></font>"
   ]
  },
  {
   "cell_type": "code",
   "execution_count": 4,
   "metadata": {
    "collapsed": true
   },
   "outputs": [],
   "source": [
    "# Creating arrays based on calculation between different other arrays (Columns)\n",
    "# Way 1:\n",
    "    # Create array of zeros with same length as existing arrays. Use it as blanck space for calculation \n",
    "diff = np.zeros(len(date)) # new arrays of zeros using zeros() function, with length of date array"
   ]
  },
  {
   "cell_type": "code",
   "execution_count": 5,
   "metadata": {},
   "outputs": [
    {
     "name": "stdout",
     "output_type": "stream",
     "text": [
      "[0. 0. 0. 0. 0. 0. 0. 0. 0. 0. 0. 0. 0. 0. 0. 0. 0. 0. 0. 0. 0. 0. 0. 0.\n",
      " 0. 0. 0. 0. 0. 0.]\n"
     ]
    }
   ],
   "source": [
    "print(diff)"
   ]
  },
  {
   "cell_type": "markdown",
   "metadata": {},
   "source": [
    "## <font color=#ffbf00>Calcuting values using other arrays</h3></font>"
   ]
  },
  {
   "cell_type": "code",
   "execution_count": 6,
   "metadata": {},
   "outputs": [
    {
     "name": "stdout",
     "output_type": "stream",
     "text": [
      "[18.9 25.8 22.3 23.6 15.1 16.9 19.2 12.9  8.4 12.9 20.4 18.2 20.9 20.\n",
      " 21.  11.9 14.8  8.8  5.1 16.9 21.  14.8 12.2 12.2 17.5 17.4 12.4 17.2\n",
      " 13.5 13.5]\n"
     ]
    }
   ],
   "source": [
    "# Using the new array 'diff' to calculate different between [temp_max and temp_min]\n",
    "diff = temp_max - temp_min\n",
    "print(diff)"
   ]
  },
  {
   "cell_type": "code",
   "execution_count": 7,
   "metadata": {},
   "outputs": [
    {
     "name": "stdout",
     "output_type": "stream",
     "text": [
      "[10.8 10.8 12.8 10.2  8.2  9.4 11.   6.7  3.7  6.5 12.3  9.4 11.  11.9\n",
      " 14.1  2.2  4.5  3.3  2.2  7.1 12.2  6.3  6.   4.4  7.8  9.3  3.1  9.6\n",
      "  6.1  6.5]\n"
     ]
    }
   ],
   "source": [
    "# By calculating between arrays, we automatically create array\n",
    "diff_min = temp - temp_min\n",
    "print(diff_min)"
   ]
  },
  {
   "cell_type": "code",
   "execution_count": 8,
   "metadata": {},
   "outputs": [
    {
     "data": {
      "text/plain": [
       "numpy.ndarray"
      ]
     },
     "execution_count": 8,
     "metadata": {},
     "output_type": "execute_result"
    }
   ],
   "source": [
    "# We can confirm this by checking the type of the diff_min array\n",
    "type(diff_min)"
   ]
  },
  {
   "cell_type": "code",
   "execution_count": 9,
   "metadata": {},
   "outputs": [
    {
     "data": {
      "text/plain": [
       "array([18.61111111, 18.77777778, 20.22222222, 14.16666667, 10.77777778,\n",
       "       11.22222222, 13.83333333, 12.33333333,  9.66666667,  9.72222222,\n",
       "       12.22222222, 13.        , 14.61111111, 15.38888889, 17.44444444,\n",
       "       14.33333333, 15.77777778, 14.05555556, 13.5       , 15.16666667,\n",
       "       17.        , 16.5       , 16.05555556, 16.16666667, 18.72222222,\n",
       "       20.88888889, 15.94444444, 18.55555556, 18.77777778, 18.72222222])"
      ]
     },
     "execution_count": 9,
     "metadata": {},
     "output_type": "execute_result"
    }
   ],
   "source": [
    "# Let's convert the temperatures in Fahrenheit to Celsius and stored in temp_Celsius array\n",
    "temp_Celsius = (temp -32) / (9/5)\n",
    "temp_Celsius"
   ]
  },
  {
   "cell_type": "markdown",
   "metadata": {},
   "source": [
    "## <font color=#ffbf00>Filtering Data <h3/></font>"
   ]
  },
  {
   "cell_type": "code",
   "execution_count": 10,
   "metadata": {},
   "outputs": [
    {
     "data": {
      "text/plain": [
       "array([18.61111111, 18.77777778, 20.22222222, 15.38888889, 17.44444444,\n",
       "       15.77777778, 15.16666667, 17.        , 16.5       , 16.05555556,\n",
       "       16.16666667, 18.72222222, 20.88888889, 15.94444444, 18.55555556,\n",
       "       18.77777778, 18.72222222])"
      ]
     },
     "execution_count": 10,
     "metadata": {},
     "output_type": "execute_result"
    }
   ],
   "source": [
    "# we can look for subset of the data that match some criteria. \n",
    "# We might want to create an array called w_temp that only contains 'warm' temperatures above 15C\n",
    "w_temps = temp_Celsius[temp_Celsius> 15.0]\n",
    "w_temps"
   ]
  },
  {
   "cell_type": "markdown",
   "metadata": {},
   "source": [
    "<p><b>Combine multiple criteria at same time:</b></p>\n",
    "<ul>\n",
    "<li> Select temp > 15 and recorded in the second half of June 2016 (date >= 20160615)</li>\n",
    "<li> Combining multiple criteria can be done with the \" & \" (AND) operator or, the \" | \" (OR) operator.</li>\n",
    "<li> Separate this clauses inside of parentheses</li>"
   ]
  },
  {
   "cell_type": "code",
   "execution_count": 11,
   "metadata": {},
   "outputs": [
    {
     "data": {
      "text/plain": [
       "array([17.44444444, 15.77777778, 15.16666667, 17.        , 16.5       ,\n",
       "       16.05555556, 16.16666667, 18.72222222, 20.88888889, 15.94444444,\n",
       "       18.55555556, 18.77777778, 18.72222222])"
      ]
     },
     "execution_count": 11,
     "metadata": {},
     "output_type": "execute_result"
    }
   ],
   "source": [
    "# temperatures above 15C in the second half of June \n",
    "w_temp2 = temp_Celsius[(temp_Celsius> 15) & (date >= 20160615)]\n",
    "w_temp2"
   ]
  },
  {
   "cell_type": "markdown",
   "metadata": {},
   "source": [
    "## <font color= #33cc33>Using Data Masks</h3></font>\n",
    "<p>We also can identify the dates with temp above 15C as the sample above and only keeps those dates in our other data columns, such as date , temp, etc.<br>\n",
    "Mask array is a boolean(True/False) array, used to take a subset of data from other array. Rather than extracting w_temps directly.<br>\n",
    "Let's start by identifying temp_Celsius above 15 (True) or temp_Celsius <15 (False).\n",
    "</p>\n",
    "\n",
    "\n",
    "\n"
   ]
  },
  {
   "cell_type": "code",
   "execution_count": 12,
   "metadata": {},
   "outputs": [
    {
     "name": "stdout",
     "output_type": "stream",
     "text": [
      "[ True  True  True False False False False False False False False False\n",
      " False  True  True False  True False False  True  True  True  True  True\n",
      "  True  True  True  True  True  True]\n"
     ]
    }
   ],
   "source": [
    "w_temps_mask = temp_Celsius > 15.0\n",
    "print(w_temps_mask)"
   ]
  },
  {
   "cell_type": "markdown",
   "metadata": {},
   "source": [
    "<p> Seeing a list of true or False values in array of same size as temp_Celsius.<br>\n",
    "This array shows us wether the condition we stated is <i>True</i> or <i>False</i> for each index.\n",
    "If we want to know the dates when temperature was above 15C, just simple take the values from the date array using the mask we just created\n",
    "</p>"
   ]
  },
  {
   "cell_type": "code",
   "execution_count": 13,
   "metadata": {},
   "outputs": [
    {
     "name": "stdout",
     "output_type": "stream",
     "text": [
      "[20160601. 20160602. 20160603. 20160614. 20160615. 20160617. 20160620.\n",
      " 20160621. 20160622. 20160623. 20160624. 20160625. 20160626. 20160627.\n",
      " 20160628. 20160629. 20160630.]\n"
     ]
    }
   ],
   "source": [
    "w_temp_dates = date[w_temps_mask]\n",
    "print(w_temp_dates) # Shows subsets of dates that match condition of temperature above 15C"
   ]
  },
  {
   "cell_type": "code",
   "execution_count": 14,
   "metadata": {},
   "outputs": [
    {
     "name": "stdout",
     "output_type": "stream",
     "text": [
      "17\n",
      "17\n"
     ]
    }
   ],
   "source": [
    "# To prove this, let's check the length of w_temps and w_temp_dates.\n",
    "# If they are the same it means that both has the same dates where the temperature exceeded 15C\n",
    "print(len(w_temps))\n",
    "print(len(w_temp_dates))"
   ]
  },
  {
   "cell_type": "markdown",
   "metadata": {},
   "source": [
    "## <font color=#33cc33 >Removing Missing/ Bad Data</h3></font>\n",
    "<p>\n",
    "sometimes data comes with missing values or values that cannont be read, this may be replaced by nan \"not a number\", and you want to get rid if theses values.\n",
    "</p>"
   ]
  },
  {
   "cell_type": "code",
   "execution_count": 16,
   "metadata": {},
   "outputs": [],
   "source": [
    "# let's create an array called bad_data with same size as the array date\n",
    "bad_data = np.zeros(len(date))"
   ]
  },
  {
   "cell_type": "code",
   "execution_count": 20,
   "metadata": {},
   "outputs": [
    {
     "name": "stdout",
     "output_type": "stream",
     "text": [
      "[nan nan nan nan nan  0.  0.  0.  0.  0.  0.  0.  0.  0.  0.  0.  0.  0.\n",
      "  0.  0.  0.  0.  0.  0.  0.  0.  0.  0.  0.  0.]\n"
     ]
    }
   ],
   "source": [
    "# add nan values to the first 5 rows\n",
    "bad_data[:5] = np.nan\n",
    "print(bad_data)"
   ]
  },
  {
   "cell_type": "code",
   "execution_count": 19,
   "metadata": {},
   "outputs": [
    {
     "name": "stdout",
     "output_type": "stream",
     "text": [
      "[False False False False False  True  True  True  True  True  True  True\n",
      "  True  True  True  True  True  True  True  True  True  True  True  True\n",
      "  True  True  True  True  True  True]\n"
     ]
    }
   ],
   "source": [
    "# let's check the result\n",
    "bad_data_mask = np.isfinite(bad_data)\n",
    "print(bad_data_mask)"
   ]
  },
  {
   "cell_type": "markdown",
   "metadata": {},
   "source": [
    "<p>\n",
    "If want to include values for the data column that only corresponde to locations in bad_data\n",
    "where threr's not nan values, use <b>isifinite()</b> function in NumPy.\n",
    "isfinite() checks to see iff value is defined\n",
    "</p>"
   ]
  },
  {
   "cell_type": "code",
   "execution_count": 22,
   "metadata": {},
   "outputs": [
    {
     "name": "stdout",
     "output_type": "stream",
     "text": [
      "[False False False False False  True  True  True  True  True  True  True\n",
      "  True  True  True  True  True  True  True  True  True  True  True  True\n",
      "  True  True  True  True  True  True]\n"
     ]
    }
   ],
   "source": [
    "# let's create a mask with bad_data\n",
    "bad_data_mask = np.isfinite(bad_data)\n",
    "print(bad_data_mask)"
   ]
  },
  {
   "cell_type": "code",
   "execution_count": 23,
   "metadata": {},
   "outputs": [
    {
     "name": "stdout",
     "output_type": "stream",
     "text": [
      "[20160606. 20160607. 20160608. 20160609. 20160610. 20160611. 20160612.\n",
      " 20160613. 20160614. 20160615. 20160616. 20160617. 20160618. 20160619.\n",
      " 20160620. 20160621. 20160622. 20160623. 20160624. 20160625. 20160626.\n",
      " 20160627. 20160628. 20160629. 20160630.]\n"
     ]
    }
   ],
   "source": [
    "# fi we want to include only the dates woith good data, we can use the mask as we did before\n",
    "good_dates = date[bad_data_mask]\n",
    "print(good_dates)"
   ]
  },
  {
   "cell_type": "markdown",
   "metadata": {},
   "source": [
    "## <font color=#432541 >Rounding and Finding Unique Values</h3></font>\n",
    "<p>We can find unique values in an array using the <b>unique()</b> function</p>"
   ]
  },
  {
   "cell_type": "code",
   "execution_count": 24,
   "metadata": {},
   "outputs": [
    {
     "ename": "NameError",
     "evalue": "name 'temp_celsius_rounded' is not defined",
     "output_type": "error",
     "traceback": [
      "\u001b[1;31m---------------------------------------------------------------------------\u001b[0m",
      "\u001b[1;31mNameError\u001b[0m                                 Traceback (most recent call last)",
      "\u001b[1;32m<ipython-input-24-8506f1a230a0>\u001b[0m in \u001b[0;36m<module>\u001b[1;34m()\u001b[0m\n\u001b[1;32m----> 1\u001b[1;33m \u001b[0munique\u001b[0m \u001b[1;33m=\u001b[0m \u001b[0mnp\u001b[0m\u001b[1;33m.\u001b[0m\u001b[0munique\u001b[0m\u001b[1;33m(\u001b[0m\u001b[0mtemp_celsius_rounded\u001b[0m\u001b[1;33m)\u001b[0m\u001b[1;33m\u001b[0m\u001b[0m\n\u001b[0m\u001b[0;32m      2\u001b[0m \u001b[0mprint\u001b[0m\u001b[1;33m(\u001b[0m\u001b[0munique\u001b[0m\u001b[1;33m)\u001b[0m\u001b[1;33m\u001b[0m\u001b[0m\n",
      "\u001b[1;31mNameError\u001b[0m: name 'temp_celsius_rounded' is not defined"
     ]
    }
   ],
   "source": [
    "unique = np.unique(temp_celsius_rounded)\n",
    "print(unique)"
   ]
  },
  {
   "cell_type": "code",
   "execution_count": null,
   "metadata": {
    "collapsed": true
   },
   "outputs": [],
   "source": []
  }
 ],
 "metadata": {
  "kernelspec": {
   "display_name": "Python 3",
   "language": "python",
   "name": "python3"
  },
  "language_info": {
   "codemirror_mode": {
    "name": "ipython",
    "version": 3
   },
   "file_extension": ".py",
   "mimetype": "text/x-python",
   "name": "python",
   "nbconvert_exporter": "python",
   "pygments_lexer": "ipython3",
   "version": "3.6.3"
  }
 },
 "nbformat": 4,
 "nbformat_minor": 2
}
