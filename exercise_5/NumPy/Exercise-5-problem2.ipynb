{
 "cells": [
  {
   "cell_type": "markdown",
   "metadata": {},
   "source": [
    "## Problem 2a - Data manipulation (5 points)\n",
    "\n",
    "Similarly as in earlier exercises the temperatures in our data are represented in Fahrenheit, hence,\n",
    "you need to convert the temperatures into Celsius.\n",
    "\n",
    "\n",
    "First, read again  the data from '6153237444115dat.csv' into a varaible `data` and split it into individual column variables (you can copy your code from problem 1 here):"
   ]
  },
  {
   "cell_type": "code",
   "execution_count": 3,
   "metadata": {
    "deletable": false,
    "nbgrader": {
     "checksum": "532af0b19580235625bc0331b8031491",
     "grade": false,
     "grade_id": "read_csv",
     "locked": false,
     "schema_version": 1,
     "solution": true
    },
    "scrolled": true
   },
   "outputs": [
    {
     "data": {
      "text/plain": [
       "array([[2.84500000e+04, 9.99990000e+04, 2.01705010e+11, ...,\n",
       "                   nan,            nan, 3.50000000e+01],\n",
       "       [2.84500000e+04, 9.99990000e+04, 2.01705010e+11, ...,\n",
       "                   nan,            nan,            nan],\n",
       "       [2.84500000e+04, 9.99990000e+04, 2.01705010e+11, ...,\n",
       "                   nan,            nan,            nan],\n",
       "       ...,\n",
       "       [2.99800000e+04, 9.99990000e+04, 2.01708312e+11, ...,\n",
       "                   nan,            nan,            nan],\n",
       "       [2.99800000e+04, 9.99990000e+04, 2.01708312e+11, ...,\n",
       "                   nan,            nan, 0.00000000e+00],\n",
       "       [2.99800000e+04, 9.99990000e+04, 2.01708312e+11, ...,\n",
       "                   nan,            nan, 0.00000000e+00]])"
      ]
     },
     "execution_count": 3,
     "metadata": {},
     "output_type": "execute_result"
    }
   ],
   "source": [
    "# Import NumPy and read in data from csv\n",
    "\n",
    "# YOUR CODE HERE\n",
    "# raise NotImplementedError()\n",
    "import numpy as np\n",
    "\n",
    "\n",
    "# read the csv file\n",
    "file = r\"C:\\Users\\Gustavocolmenares\\Documents\\SchoolStaff\\GIS_PCC\\Courses_Training\\Geo_python_Course\\exercise_5\\6153237444115dat.csv\"\n",
    "\n",
    "data = np.genfromtxt(file, delimiter=',', skip_header=1)\n",
    "data"
   ]
  },
  {
   "cell_type": "markdown",
   "metadata": {},
   "source": [
    "**Remove no data values** (2 points)\n",
    "\n",
    "In the codeblock below:\n",
    "\n",
    " - Create a new mask variable `tempmask` that is `True` for all finite temperature values, and `False` for `nan` values in the `temp` variable\n",
    " - Remove all rows from the column variables using the `tempmask` array"
   ]
  },
  {
   "cell_type": "code",
   "execution_count": 17,
   "metadata": {
    "deletable": false,
    "nbgrader": {
     "checksum": "be792b8982d5572e99dfe08710a21ccf",
     "grade": false,
     "grade_id": "dataframe_subset",
     "locked": false,
     "schema_version": 1,
     "solution": true
    }
   },
   "outputs": [],
   "source": [
    "# define column temp from data\n",
    "temp = data[:, 21]\n",
    "station = data[:, 0]\n",
    "# YOUR CODE HERE\n",
    "# raise NotImplementedError()\n",
    "\n",
    "# Create mask\n",
    "tempmask = np.isfinite(temp)"
   ]
  },
  {
   "cell_type": "code",
   "execution_count": 18,
   "metadata": {},
   "outputs": [
    {
     "name": "stdout",
     "output_type": "stream",
     "text": [
      "[31. 30. 30. 31. 30. 30. 31. 30. 30. 31.]\n",
      "[ True  True  True ...  True  True  True]\n"
     ]
    }
   ],
   "source": [
    "# checkng data mask\n",
    "print(temp[:10])\n",
    "print(tempmask)"
   ]
  },
  {
   "cell_type": "code",
   "execution_count": 27,
   "metadata": {},
   "outputs": [
    {
     "name": "stdout",
     "output_type": "stream",
     "text": [
      "11691\n",
      "11691\n",
      "11694\n"
     ]
    }
   ],
   "source": [
    "# use the mask to remove all the 'nan' values from the temp column\n",
    "good_data = data[tempmask]\n",
    "\n",
    "# compare length between tempmask and good_temp columns\n",
    "print(len(tempmask[tempmask == True]))\n",
    "print(len(good_data))\n",
    "print(len(temp))\n"
   ]
  },
  {
   "cell_type": "code",
   "execution_count": 39,
   "metadata": {
    "deletable": false,
    "editable": false,
    "nbgrader": {
     "checksum": "063362e2915cbe9717a610c67ab108d3",
     "grade": true,
     "grade_id": "dataframe_subset_test",
     "locked": true,
     "points": 2,
     "schema_version": 1,
     "solution": false
    }
   },
   "outputs": [],
   "source": [
    "# Check your data (for example using the len() function)\n",
    "\n"
   ]
  },
  {
   "cell_type": "markdown",
   "metadata": {},
   "source": [
    "**Convert Fahrenheit to Celsius** (2 points)\n",
    "\n",
    "- Create a new array variable `celsius` that converts `temp` to Celsius using the conversion formula (below)\n",
    " ![formula](../img/Fahrenheit_to_Celsius_formula.PNG)\n",
    " - Round the values in the `celsius` array to have 0 decimals (**don't** create a new variable --> update the current one)\n",
    " - Convert the `celsius` array values into integers (**don't** create a new variable --> update the current one)"
   ]
  },
  {
   "cell_type": "code",
   "execution_count": 31,
   "metadata": {
    "deletable": false,
    "nbgrader": {
     "checksum": "e13446a688dbf9011268d419dfe32f9a",
     "grade": false,
     "grade_id": "temperature_calculation",
     "locked": false,
     "schema_version": 1,
     "solution": true
    }
   },
   "outputs": [],
   "source": [
    "# YOUR CODE HERE\n",
    "# raise NotImplementedError()\n",
    "\n",
    "celsius =  (good_data - 32)/ (1.8)"
   ]
  },
  {
   "cell_type": "code",
   "execution_count": 32,
   "metadata": {
    "deletable": false,
    "editable": false,
    "nbgrader": {
     "checksum": "56bdf751b55eaaac94b954b7cf5765fd",
     "grade": true,
     "grade_id": "temperature_calculation_test",
     "locked": true,
     "points": 2,
     "schema_version": 1,
     "solution": false
    },
    "scrolled": true
   },
   "outputs": [
    {
     "name": "stdout",
     "output_type": "stream",
     "text": [
      "[31. 30. 30. 31. 30. 30.]\n",
      "[[ 1.57877778e+04  5.55372222e+04  1.12058339e+11  7.88888889e+01\n",
      "  -1.22222222e+01 -1.00000000e+01             nan             nan\n",
      "              nan             nan             nan -1.65555556e+01\n",
      "              nan             nan             nan             nan\n",
      "   1.94444444e+01             nan             nan             nan\n",
      "  -1.33333333e+01 -5.55555556e-01 -5.55555556e-01  5.42888889e+02\n",
      "              nan  5.28944444e+02             nan             nan\n",
      "              nan             nan             nan             nan\n",
      "   1.66666667e+00]\n",
      " [ 1.57877778e+04  5.55372222e+04  1.12058339e+11  8.22222222e+01\n",
      "  -1.22222222e+01             nan -1.55555556e+01             nan\n",
      "              nan             nan             nan -1.61666667e+01\n",
      "              nan             nan             nan             nan\n",
      "  -1.22222222e+01             nan             nan             nan\n",
      "              nan -1.11111111e+00 -1.11111111e+00             nan\n",
      "  -1.25555556e+00             nan             nan             nan\n",
      "              nan             nan             nan             nan\n",
      "              nan]\n",
      " [ 1.57877778e+04  5.55372222e+04  1.12058339e+11  8.77777778e+01\n",
      "  -1.22222222e+01             nan -1.55555556e+01             nan\n",
      "              nan             nan             nan -1.66111111e+01\n",
      "              nan             nan             nan             nan\n",
      "  -1.22222222e+01             nan             nan             nan\n",
      "              nan -1.11111111e+00 -1.11111111e+00             nan\n",
      "  -1.25555556e+00             nan             nan             nan\n",
      "              nan             nan             nan             nan\n",
      "              nan]\n",
      " [ 1.57877778e+04  5.55372222e+04  1.12058339e+11  8.66666667e+01\n",
      "  -1.11111111e+01 -8.88888889e+00             nan             nan\n",
      "              nan             nan             nan -1.60000000e+01\n",
      "              nan             nan             nan             nan\n",
      "   2.50000000e+01             nan             nan             nan\n",
      "              nan -5.55555556e-01 -1.11111111e+00  5.42833333e+02\n",
      "              nan  5.28888889e+02             nan             nan\n",
      "              nan             nan             nan             nan\n",
      "   1.66666667e+00]\n",
      " [ 1.57877778e+04  5.55372222e+04  1.12058339e+11  9.33333333e+01\n",
      "  -1.05555556e+01             nan -1.66666667e+01             nan\n",
      "              nan             nan             nan -1.67777778e+01\n",
      "              nan             nan             nan             nan\n",
      "   2.22222222e+01             nan             nan             nan\n",
      "              nan -1.11111111e+00 -1.11111111e+00             nan\n",
      "  -1.25555556e+00             nan             nan             nan\n",
      "              nan             nan             nan             nan\n",
      "              nan]\n",
      " [ 1.57877778e+04  5.55372222e+04  1.12058339e+11  9.33333333e+01\n",
      "  -1.00000000e+01             nan -1.66666667e+01             nan\n",
      "              nan             nan             nan -1.66111111e+01\n",
      "              nan             nan             nan             nan\n",
      "  -1.22222222e+01             nan             nan             nan\n",
      "              nan -1.11111111e+00 -1.11111111e+00             nan\n",
      "  -1.25555556e+00             nan             nan             nan\n",
      "              nan             nan             nan             nan\n",
      "              nan]]\n"
     ]
    }
   ],
   "source": [
    "# Check your data\n",
    "print(temp[:6])\n",
    "print(celsius[:6])\n"
   ]
  },
  {
   "cell_type": "markdown",
   "metadata": {
    "deletable": false,
    "editable": false,
    "nbgrader": {
     "checksum": "423bab516ac33ff6950daf750ba455c7",
     "grade": false,
     "grade_id": "cell-a63fda07b93db87f",
     "locked": true,
     "schema_version": 1,
     "solution": false
    }
   },
   "source": [
    "**Finalize your submission for Problem 2a** (1 point)\n",
    "- Check that you have commented your code (add inline comments explaining what your code does)\n",
    "- At this point, commit and push your changes to GitHub\n",
    "- Was anything unclear to you until this point? Write your comments to the cell below."
   ]
  },
  {
   "cell_type": "markdown",
   "metadata": {
    "deletable": false,
    "nbgrader": {
     "checksum": "31479cd23e51ec84156b569f6ef22a4b",
     "grade": true,
     "grade_id": "comments",
     "locked": false,
     "points": 1,
     "schema_version": 1,
     "solution": true
    }
   },
   "source": [
    "YOUR ANSWER HERE"
   ]
  },
  {
   "cell_type": "markdown",
   "metadata": {
    "collapsed": true
   },
   "source": [
    "\n",
    "## Problem 2b - Data selection (5 points)\n",
    "\n",
    "In this problem you should divide the data into separate subsets for different stations and save those arrays into csv files.\n",
    "\n",
    "**Divide the data into two separate datasets:** (2 points)\n",
    "  - Select all rows from the data arrays into variable called `kumpula` where the `station` value is `29980` using an array mask called `kmask`\n",
    "  - Select all rows from the data arrays into variable called `rovaniemi` where the `station` value is `28450` using an array mask called `rmask`\n",
    "  \n",
    "Please use the given variable names and write your answer to the codeblock below."
   ]
  },
  {
   "cell_type": "code",
   "execution_count": 23,
   "metadata": {
    "deletable": false,
    "nbgrader": {
     "checksum": "67e5f4d4848e1cce9f24377fd953f103",
     "grade": false,
     "grade_id": "subsets",
     "locked": false,
     "schema_version": 1,
     "solution": true
    }
   },
   "outputs": [],
   "source": [
    "# YOUR CODE HERE\n",
    "# raise NotImplementedError()\n",
    "\n",
    "# Create the masks to filter the data\n",
    "kmask = station == 29980\n",
    "rmask = station == 28450\n",
    "\n",
    "# called kumpula where station == 29980\n",
    "kumpula = data[kmask]\n",
    "# called rovaniemi where station == 28450\n",
    "rovaniemi = data[rmask]"
   ]
  },
  {
   "cell_type": "code",
   "execution_count": null,
   "metadata": {},
   "outputs": [],
   "source": []
  },
  {
   "cell_type": "code",
   "execution_count": 24,
   "metadata": {
    "deletable": false,
    "editable": false,
    "nbgrader": {
     "checksum": "153cf831c58f05057dc856ddddb607c6",
     "grade": true,
     "grade_id": "subsets_test",
     "locked": true,
     "points": 2,
     "schema_version": 1,
     "solution": false
    },
    "scrolled": true
   },
   "outputs": [
    {
     "name": "stdout",
     "output_type": "stream",
     "text": [
      "Kumpula: \n",
      " [[2.9980000e+04 9.9999000e+04 2.0170501e+11 2.0600000e+02 1.4000000e+01\n",
      "  2.0000000e+01 7.2200000e+02           nan           nan           nan\n",
      "            nan 2.7400000e+01           nan           nan           nan\n",
      "            nan 0.0000000e+00           nan           nan           nan\n",
      "  0.0000000e+00 3.7000000e+01 3.2000000e+01 1.0251000e+03           nan\n",
      "  1.0219000e+03           nan           nan           nan           nan\n",
      "            nan           nan 0.0000000e+00]\n",
      " [2.9980000e+04 9.9999000e+04 2.0170501e+11 1.9800000e+02 1.4000000e+01\n",
      "  2.3000000e+01 7.2200000e+02           nan           nan           nan\n",
      "            nan 2.9200000e+01           nan           nan           nan\n",
      "            nan 0.0000000e+00           nan           nan           nan\n",
      "            nan 3.7000000e+01 3.2000000e+01 1.0254000e+03           nan\n",
      "  1.0222000e+03           nan           nan           nan           nan\n",
      "            nan           nan 0.0000000e+00]\n",
      " [2.9980000e+04 9.9999000e+04 2.0170501e+11 2.1600000e+02 1.3000000e+01\n",
      "  2.1000000e+01 7.2200000e+02           nan           nan           nan\n",
      "            nan 3.1200000e+01           nan           nan           nan\n",
      "            nan 0.0000000e+00           nan           nan           nan\n",
      "            nan 3.7000000e+01 3.1000000e+01 1.0252000e+03           nan\n",
      "  1.0220000e+03           nan           nan           nan           nan\n",
      "            nan           nan 0.0000000e+00]\n",
      " [2.9980000e+04 9.9999000e+04 2.0170501e+11 2.0000000e+02 1.6000000e+01\n",
      "            nan           nan           nan           nan           nan\n",
      "            nan 2.1900000e+01           nan           nan           nan\n",
      "            nan 0.0000000e+00           nan           nan           nan\n",
      "            nan 3.7000000e+01 3.2000000e+01 1.0254000e+03           nan\n",
      "  1.0222000e+03           nan           nan           nan           nan\n",
      "            nan           nan           nan]\n",
      " [2.9980000e+04 9.9999000e+04 2.0170501e+11 2.2000000e+02 1.4000000e+01\n",
      "  2.1000000e+01 7.2200000e+02           nan           nan           nan\n",
      "            nan 2.3500000e+01           nan           nan           nan\n",
      "            nan 0.0000000e+00           nan           nan           nan\n",
      "            nan 3.9000000e+01 3.2000000e+01 1.0257000e+03           nan\n",
      "  1.0225000e+03           nan           nan           nan           nan\n",
      "            nan           nan 0.0000000e+00]] \n",
      "\n",
      "Rovaniemi: \n",
      " [[2.8450000e+04 9.9999000e+04 2.0170501e+11 1.7400000e+02 1.0000000e+01\n",
      "  1.4000000e+01           nan           nan           nan           nan\n",
      "            nan 2.2000000e+00           nan           nan           nan\n",
      "            nan 6.7000000e+01           nan           nan           nan\n",
      "  8.0000000e+00 3.1000000e+01 3.1000000e+01 1.0092000e+03           nan\n",
      "  9.8410000e+02           nan           nan           nan           nan\n",
      "            nan           nan 3.5000000e+01]\n",
      " [2.8450000e+04 9.9999000e+04 2.0170501e+11 1.8000000e+02 1.0000000e+01\n",
      "            nan 4.0000000e+00           nan           nan           nan\n",
      "            nan 2.9000000e+00           nan           nan           nan\n",
      "            nan 1.0000000e+01           nan           nan           nan\n",
      "            nan 3.0000000e+01 3.0000000e+01           nan 2.9740000e+01\n",
      "            nan           nan           nan           nan           nan\n",
      "            nan           nan           nan]\n",
      " [2.8450000e+04 9.9999000e+04 2.0170501e+11 1.9000000e+02 1.0000000e+01\n",
      "            nan 4.0000000e+00           nan           nan           nan\n",
      "            nan 2.1000000e+00           nan           nan           nan\n",
      "            nan 1.0000000e+01           nan           nan           nan\n",
      "            nan 3.0000000e+01 3.0000000e+01           nan 2.9740000e+01\n",
      "            nan           nan           nan           nan           nan\n",
      "            nan           nan           nan]\n",
      " [2.8450000e+04 9.9999000e+04 2.0170501e+11 1.8800000e+02 1.2000000e+01\n",
      "  1.6000000e+01           nan           nan           nan           nan\n",
      "            nan 3.2000000e+00           nan           nan           nan\n",
      "            nan 7.7000000e+01           nan           nan           nan\n",
      "            nan 3.1000000e+01 3.0000000e+01 1.0091000e+03           nan\n",
      "  9.8400000e+02           nan           nan           nan           nan\n",
      "            nan           nan 3.5000000e+01]\n",
      " [2.8450000e+04 9.9999000e+04 2.0170501e+11 2.0000000e+02 1.3000000e+01\n",
      "            nan 2.0000000e+00           nan           nan           nan\n",
      "            nan 1.8000000e+00           nan           nan           nan\n",
      "            nan 7.2000000e+01           nan           nan           nan\n",
      "            nan 3.0000000e+01 3.0000000e+01           nan 2.9740000e+01\n",
      "            nan           nan           nan           nan           nan\n",
      "            nan           nan           nan]] \n",
      "\n"
     ]
    }
   ],
   "source": [
    "# Check the data (you don't need to modify this cell)\n",
    "print(\"Kumpula: \\n\", kumpula[:5,:], \"\\n\")\n",
    "print(\"Rovaniemi: \\n\", rovaniemi[:5,:], \"\\n\")\n"
   ]
  },
  {
   "cell_type": "markdown",
   "metadata": {},
   "source": [
    "**Save the new arrays to csv files** (2 points)\n",
    "\n",
    "- Save the `kumpula` array into a file called `Kumpula_temps_May_Aug_2017.csv` (CSV format) \n",
    "   - Separate the columns with a comma (`,`)\n",
    "   - Use only 2 decimals in the floating point numbers\n",
    "- Save the `rovaniemi` array into a file called `Rovaniemi_temps_May_Aug_2017.csv` (CSV format) \n",
    "   - Separate the columns with comma (`,`)\n",
    "   - Use only 2 decimals in the floating point numbers"
   ]
  },
  {
   "cell_type": "code",
   "execution_count": 34,
   "metadata": {
    "deletable": false,
    "nbgrader": {
     "checksum": "c3f5a426f626ebbe3371f1771702f54f",
     "grade": true,
     "grade_id": "to_csv",
     "locked": false,
     "points": 2,
     "schema_version": 1,
     "solution": true
    }
   },
   "outputs": [],
   "source": [
    "# YOUR CODE HERE\n",
    "# raise NotImplementedError()\n",
    "np.savetxt('kumpula_temps_May_Aug_2017.csv', kumpula, delimiter=',', fmt='%1.2f')\n",
    "np.savetxt('Rovaniemi_temp_May_Aug_2017.csv', rovaniemi, delimiter=',', fmt='%1.2f')"
   ]
  },
  {
   "cell_type": "code",
   "execution_count": null,
   "metadata": {
    "deletable": false,
    "editable": false,
    "nbgrader": {
     "checksum": "e17856f48590694e60c5a062246d4739",
     "grade": true,
     "grade_id": "to_csv_test",
     "locked": true,
     "points": 0,
     "schema_version": 1,
     "solution": false
    }
   },
   "outputs": [],
   "source": []
  },
  {
   "cell_type": "markdown",
   "metadata": {
    "deletable": false,
    "editable": false,
    "nbgrader": {
     "checksum": "e322f6406b46b37c3504f90f127d6d72",
     "grade": false,
     "grade_id": "cell-3d8b5609d0cea2a9",
     "locked": true,
     "schema_version": 1,
     "solution": false
    }
   },
   "source": [
    "**Commit and push changes (including the 2 csv files!) into your GitHub repository for Exercise 5** (1 point)\n",
    "\n",
    "Did you encounter any problems with decimal formatting?"
   ]
  },
  {
   "cell_type": "markdown",
   "metadata": {
    "deletable": false,
    "nbgrader": {
     "checksum": "09b04052fd8c27c1c62c2a515ccda2d4",
     "grade": true,
     "grade_id": "upload_csv_files",
     "locked": false,
     "points": 1,
     "schema_version": 1,
     "solution": true
    }
   },
   "source": [
    "YOUR ANSWER HERE"
   ]
  },
  {
   "cell_type": "markdown",
   "metadata": {
    "collapsed": true
   },
   "source": [
    "Now you can continue to [problem 3: Data analysis](Exercise-5-problem3.ipynb)"
   ]
  }
 ],
 "metadata": {
  "anaconda-cloud": {},
  "kernelspec": {
   "display_name": "Python 3",
   "language": "python",
   "name": "python3"
  }
 },
 "nbformat": 4,
 "nbformat_minor": 2
}
