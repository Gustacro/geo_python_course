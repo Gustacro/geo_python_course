{
 "cells": [
  {
   "cell_type": "markdown",
   "metadata": {},
   "source": [
    "## Problem 2a - Data manipulation (5 points)\n",
    "\n",
    "Similarly as in earlier exercises the temperatures in our data are represented in Fahrenheit, hence,\n",
    "you need to convert the temperatures into Celsius.\n",
    "\n",
    "\n",
    "First, read again  the data from '6153237444115dat.csv' into a varaible `data` and split it into individual column variables (you can copy your code from problem 1 here):"
   ]
  },
  {
   "cell_type": "code",
   "execution_count": 26,
   "metadata": {
    "deletable": false,
    "nbgrader": {
     "checksum": "532af0b19580235625bc0331b8031491",
     "grade": false,
     "grade_id": "read_csv",
     "locked": false,
     "schema_version": 1,
     "solution": true
    },
    "scrolled": true
   },
   "outputs": [
    {
     "data": {
      "text/plain": [
       "array([[2.84500000e+04, 9.99990000e+04, 2.01705010e+11, ...,\n",
       "                   nan,            nan, 3.50000000e+01],\n",
       "       [2.84500000e+04, 9.99990000e+04, 2.01705010e+11, ...,\n",
       "                   nan,            nan,            nan],\n",
       "       [2.84500000e+04, 9.99990000e+04, 2.01705010e+11, ...,\n",
       "                   nan,            nan,            nan],\n",
       "       ...,\n",
       "       [2.99800000e+04, 9.99990000e+04, 2.01708312e+11, ...,\n",
       "                   nan,            nan,            nan],\n",
       "       [2.99800000e+04, 9.99990000e+04, 2.01708312e+11, ...,\n",
       "                   nan,            nan, 0.00000000e+00],\n",
       "       [2.99800000e+04, 9.99990000e+04, 2.01708312e+11, ...,\n",
       "                   nan,            nan, 0.00000000e+00]])"
      ]
     },
     "execution_count": 26,
     "metadata": {},
     "output_type": "execute_result"
    }
   ],
   "source": [
    "# Import NumPy and read in data from csv\n",
    "\n",
    "# YOUR CODE HERE\n",
    "# raise NotImplementedError()\n",
    "import numpy as np\n",
    "\n",
    "\n",
    "# read the csv file\n",
    "file = r\"C:\\Users\\Gustavocolmenares\\Documents\\SchoolStaff\\GIS_PCC\\Courses_Training\\Geo_python_Course\\exercise_5\\6153237444115dat.csv\"\n",
    "\n",
    "data = np.genfromtxt(file, delimiter=',', skip_header=1)\n",
    "data"
   ]
  },
  {
   "cell_type": "markdown",
   "metadata": {},
   "source": [
    "**Remove no data values** (2 points)\n",
    "\n",
    "In the codeblock below:\n",
    "\n",
    " - Create a new mask variable `tempmask` that is `True` for all finite temperature values, and `False` for `nan` values in the `temp` variable\n",
    " - Remove all rows from the column variables using the `tempmask` array"
   ]
  },
  {
   "cell_type": "code",
   "execution_count": 27,
   "metadata": {
    "deletable": false,
    "nbgrader": {
     "checksum": "be792b8982d5572e99dfe08710a21ccf",
     "grade": false,
     "grade_id": "dataframe_subset",
     "locked": false,
     "schema_version": 1,
     "solution": true
    }
   },
   "outputs": [],
   "source": [
    "# define column temp from data\n",
    "temp = data[:, 21]\n",
    "station = data[:, 0]\n",
    "# YOUR CODE HERE\n",
    "# raise NotImplementedError()\n",
    "\n",
    "# Create mask\n",
    "tempmask = np.isfinite(temp)"
   ]
  },
  {
   "cell_type": "code",
   "execution_count": 28,
   "metadata": {
    "scrolled": true
   },
   "outputs": [
    {
     "name": "stdout",
     "output_type": "stream",
     "text": [
      "[31. 30. 30. 31. 30. 30. 31. 30. 30. 31. 30. 30. 31. 30. 30. 31. 30. 30.\n",
      " 31. 30. 30. 30. 30. 32. 32. 32. 34. 34. 34. 36. 37. 36. 37. 37. 37. 39.\n",
      " 40. 39. 39. 41. 39. 41. 41. 41. 41. 42. 43. 43. 44. 43. 43. 43. 43. 43.\n",
      " 42. 41. 41. 40. 39. 39. 38. 39. 37. 38. 37. 37. 37. 37. 36. 36. 36. 36.\n",
      " 36. 36. 36. 36. 36. 36. 36. 36. 37. 37. 37. 37. 38. 37. 39. 39. 39. 39.\n",
      " 41. 39. 41. 41. 41. 41. 43. 41. 41. 43. 43. 43. 45. 43. 41. 42. 43. 43.\n",
      " 44. 39. 37. 39. 41. 39. 40. 39. 39. 40. 39. 39. 38. 37. 37. 38. 37. 36.\n",
      " 37. 36. 36. 36. 36. 36. 36. 36. 34. 35. 34. 34. 34. 34. 34. 33. 34. 34.\n",
      " 34. 36. 36. 35. 36. 36. 35. 36. 36. 36. 36. 36. 36. 36. 36. 36. 36. 37.\n",
      " 37. 37. 37. 37. 37. 38. 37. 37. 39. 39. 37. 38. 37. 37. 38. 37. 37. 37.\n",
      " 37. 37. 38. 37. 37. 38. 37. 37. 38. 37. 37. 38. 37. 37. 37. 37. 36. 37.\n",
      " 36. 36. 35. 34. 34. 34. 32. 32. 32. 32. 32. 32. 32. 30. 31. 30. 30. 30.\n",
      " 30. 30. 31. 30. 30. 31. 30. 30. 30. 30. 30. 31. 30. 30. 32. 32. 34. 35.\n",
      " 36. 37. 40. 37. 39. 41. 41. 41. 44. 43. 43. 46. 43. 45. 46. 45. 45. 47.\n",
      " 45. 45. 47. 46. 46. 47. 46. 46. 48. 46. 46. 47. 45. 45. 46. 43. 41. 43.\n",
      " 43. 43. 43. 43. 41. 42. 41. 43. 42. 41. 41. 42. 41. 41. 41. 41. 41. 40.\n",
      " 41. 39. 40. 39. 39. 40. 39. 39. 40. 41. 41. 42. 43. 45. 46. 46. 46. 48.\n",
      " 46. 48. 49. 48. 50. 51. 50. 50. 52. 50. 50. 52. 50. 52. 53. 52. 52. 53.\n",
      " 52. 52. 54. 52. 52. 53. 52. 50. 51. 48. 48. 48. 45. 45. 44. 43. 41. 41.\n",
      " 39. 39. 39. 39. 37. 38. 37. 37. 37. 36. 36. 37. 36. 36. 35. 34. 34. 34.\n",
      " 34. 32. 32. 32. 32. 31. 30. 30. 31. 30. 30. 31. 30. 30. 30. 30. 30. 31.\n",
      " 30. 30. 31. 30. 30. 32. 32. 32. 33. 32. 32. 33. 32. 32. 33. 32. 34. 34.\n",
      " 34. 34. 34. 34. 32. 34. 34. 34. 35. 34. 34. 34. 34. 34. 33. 32. 32. 33.\n",
      " 32. 32. 32. 30. 28. 29. 28. 27. 28. 27. 27. 28. 27. 27. 27. 27. 27. 28.\n",
      " 27. 27. 28. 27. 27. 28. 27. 28. 28. 28. 30. 30. 30. 30. 31. 30. 30. 31.\n",
      " 30. 30. 32. 30. 30. 32. 30. 34. 33. 32. 32. 31. 30. 32. 34. 32. 30. 30.\n",
      " 30. 30. 30. 28. 32. 33. 32. 30. 32. 30. 32. 32. 30. 30. 31. 30. 28. 28.\n",
      " 27. 27. 28. 27. 27. 27. 27. 25. 26. 25. 23. 24. 23. 23.]\n",
      "[ True  True  True  True  True  True  True  True  True  True  True  True\n",
      "  True  True  True  True  True  True  True  True  True  True  True  True\n",
      "  True  True  True  True  True  True  True  True  True  True  True  True\n",
      "  True  True  True  True  True  True  True  True  True  True  True  True\n",
      "  True  True  True  True  True  True  True  True  True  True  True  True\n",
      "  True  True  True  True  True  True  True  True  True  True  True  True\n",
      "  True  True  True  True  True  True  True  True  True  True  True  True\n",
      "  True  True  True  True  True  True  True  True  True  True  True  True\n",
      "  True  True  True  True  True  True  True  True  True  True  True  True\n",
      "  True  True  True  True  True  True  True  True  True  True  True  True\n",
      "  True  True  True  True  True  True  True  True  True  True  True  True\n",
      "  True  True  True  True  True  True  True  True  True  True  True  True\n",
      "  True  True  True  True  True  True  True  True  True  True  True  True\n",
      "  True  True  True  True  True  True  True  True  True  True  True  True\n",
      "  True  True  True  True  True  True  True  True  True  True  True  True\n",
      "  True  True  True  True  True  True  True  True  True  True  True  True\n",
      "  True  True  True  True  True  True  True  True  True  True  True  True\n",
      "  True  True  True  True  True  True  True  True  True  True  True  True\n",
      "  True  True  True  True  True  True  True  True  True  True  True  True\n",
      "  True  True  True  True  True  True  True  True  True  True  True  True\n",
      "  True  True  True  True  True  True  True  True  True  True  True  True\n",
      "  True  True  True  True  True  True  True  True  True  True  True  True\n",
      "  True  True  True  True  True  True  True  True  True  True  True  True\n",
      "  True  True  True  True  True  True  True  True  True  True  True  True\n",
      "  True  True  True  True  True  True  True  True  True  True  True  True\n",
      "  True  True  True  True  True  True  True  True  True  True  True  True\n",
      "  True  True  True  True  True  True  True  True  True  True  True  True\n",
      "  True  True  True  True  True  True  True  True  True  True  True  True\n",
      "  True  True  True  True  True  True  True  True  True  True  True  True\n",
      "  True  True  True  True  True  True  True  True  True  True  True  True\n",
      "  True  True  True  True  True  True  True  True  True  True  True  True\n",
      "  True  True  True  True  True  True  True  True  True  True  True  True\n",
      "  True  True  True  True  True  True  True  True  True  True  True  True\n",
      "  True  True  True  True  True  True  True  True  True  True  True  True\n",
      "  True  True  True  True  True  True  True  True  True  True  True  True\n",
      "  True  True  True  True  True  True  True  True  True  True  True  True\n",
      "  True  True  True  True  True  True  True  True  True  True  True  True\n",
      "  True  True  True  True  True  True  True  True  True  True  True  True\n",
      "  True  True  True  True  True  True  True  True  True  True  True  True\n",
      "  True  True  True  True  True  True  True  True  True  True  True  True\n",
      "  True  True  True  True  True  True  True  True  True  True  True  True\n",
      "  True  True  True  True  True  True  True  True]\n"
     ]
    }
   ],
   "source": [
    "# checkng data mask\n",
    "print(temp[:500])\n",
    "print(tempmask[:500])"
   ]
  },
  {
   "cell_type": "code",
   "execution_count": 29,
   "metadata": {
    "scrolled": true
   },
   "outputs": [
    {
     "data": {
      "text/plain": [
       "array([31., 30., 30., ..., 64., 64., 64.])"
      ]
     },
     "execution_count": 29,
     "metadata": {},
     "output_type": "execute_result"
    }
   ],
   "source": [
    "# use the mask to remove all the 'nan' values from the temp column\n",
    "good_temp = temp[tempmask == True]\n",
    "good_temp\n",
    "# compare length between tempmask and good_temp columns\n"
   ]
  },
  {
   "cell_type": "code",
   "execution_count": 39,
   "metadata": {
    "deletable": false,
    "editable": false,
    "nbgrader": {
     "checksum": "063362e2915cbe9717a610c67ab108d3",
     "grade": true,
     "grade_id": "dataframe_subset_test",
     "locked": true,
     "points": 2,
     "schema_version": 1,
     "solution": false
    }
   },
   "outputs": [],
   "source": [
    "# Check your data (for example using the len() function)\n",
    "\n"
   ]
  },
  {
   "cell_type": "markdown",
   "metadata": {},
   "source": [
    "**Convert Fahrenheit to Celsius** (2 points)\n",
    "\n",
    "- Create a new array variable `celsius` that converts `temp` to Celsius using the conversion formula (below)\n",
    " ![formula](../img/Fahrenheit_to_Celsius_formula.PNG)\n",
    " - Round the values in the `celsius` array to have 0 decimals (**don't** create a new variable --> update the current one)\n",
    " - Convert the `celsius` array values into integers (**don't** create a new variable --> update the current one)"
   ]
  },
  {
   "cell_type": "code",
   "execution_count": 30,
   "metadata": {
    "deletable": false,
    "nbgrader": {
     "checksum": "e13446a688dbf9011268d419dfe32f9a",
     "grade": false,
     "grade_id": "temperature_calculation",
     "locked": false,
     "schema_version": 1,
     "solution": true
    }
   },
   "outputs": [],
   "source": [
    "# YOUR CODE HERE\n",
    "# raise NotImplementedError()\n",
    "\n",
    "celsius =  (good_temp - 32)/ (1.8)"
   ]
  },
  {
   "cell_type": "code",
   "execution_count": 31,
   "metadata": {
    "deletable": false,
    "editable": false,
    "nbgrader": {
     "checksum": "56bdf751b55eaaac94b954b7cf5765fd",
     "grade": true,
     "grade_id": "temperature_calculation_test",
     "locked": true,
     "points": 2,
     "schema_version": 1,
     "solution": false
    },
    "scrolled": true
   },
   "outputs": [
    {
     "name": "stdout",
     "output_type": "stream",
     "text": [
      "[31. 30. 30. 31. 30. 30.]\n",
      "[-0.55555556 -1.11111111 -1.11111111 -0.55555556 -1.11111111 -1.11111111]\n"
     ]
    }
   ],
   "source": [
    "# Check your data\n",
    "print(temp[:6])\n",
    "print(celsius[:6])\n"
   ]
  },
  {
   "cell_type": "markdown",
   "metadata": {
    "deletable": false,
    "editable": false,
    "nbgrader": {
     "checksum": "423bab516ac33ff6950daf750ba455c7",
     "grade": false,
     "grade_id": "cell-a63fda07b93db87f",
     "locked": true,
     "schema_version": 1,
     "solution": false
    }
   },
   "source": [
    "**Finalize your submission for Problem 2a** (1 point)\n",
    "- Check that you have commented your code (add inline comments explaining what your code does)\n",
    "- At this point, commit and push your changes to GitHub\n",
    "- Was anything unclear to you until this point? Write your comments to the cell below."
   ]
  },
  {
   "cell_type": "markdown",
   "metadata": {
    "deletable": false,
    "nbgrader": {
     "checksum": "31479cd23e51ec84156b569f6ef22a4b",
     "grade": true,
     "grade_id": "comments",
     "locked": false,
     "points": 1,
     "schema_version": 1,
     "solution": true
    }
   },
   "source": [
    "YOUR ANSWER HERE"
   ]
  },
  {
   "cell_type": "markdown",
   "metadata": {
    "collapsed": true
   },
   "source": [
    "\n",
    "## Problem 2b - Data selection (5 points)\n",
    "\n",
    "In this problem you should divide the data into separate subsets for different stations and save those arrays into csv files.\n",
    "\n",
    "**Divide the data into two separate datasets:** (2 points)\n",
    "  - Select all rows from the data arrays into variable called `kumpula` where the `station` value is `29980` using an array mask called `kmask`\n",
    "  - Select all rows from the data arrays into variable called `rovaniemi` where the `station` value is `28450` using an array mask called `rmask`\n",
    "  \n",
    "Please use the given variable names and write your answer to the codeblock below."
   ]
  },
  {
   "cell_type": "code",
   "execution_count": 43,
   "metadata": {
    "deletable": false,
    "nbgrader": {
     "checksum": "67e5f4d4848e1cce9f24377fd953f103",
     "grade": false,
     "grade_id": "subsets",
     "locked": false,
     "schema_version": 1,
     "solution": true
    }
   },
   "outputs": [
    {
     "name": "stdout",
     "output_type": "stream",
     "text": [
      "kumpula: (2924, 33)\n",
      "rovanemi: (8770, 33)\n"
     ]
    }
   ],
   "source": [
    "# YOUR CODE HERE\n",
    "# raise NotImplementedError()\n",
    "\n",
    "# Create the masks to filter the data\n",
    "kmask = station== 29980\n",
    "rmask = station== 28450\n",
    "\n",
    "# get shape of the new variables kumpula and rovaniemi\n",
    "kumpula = data[kmask]\n",
    "rovaniemi = data[rmask]\n",
    "\n",
    "# print shape of the new arrays for kumpula and rovaniemi\n",
    "print(\"kumpula:\",kumpula.shape)\n",
    "print(\"rovanemi:\",rovaniemi.shape)"
   ]
  },
  {
   "cell_type": "code",
   "execution_count": null,
   "metadata": {},
   "outputs": [],
   "source": []
  },
  {
   "cell_type": "code",
   "execution_count": 39,
   "metadata": {
    "deletable": false,
    "editable": false,
    "nbgrader": {
     "checksum": "153cf831c58f05057dc856ddddb607c6",
     "grade": true,
     "grade_id": "subsets_test",
     "locked": true,
     "points": 2,
     "schema_version": 1,
     "solution": false
    },
    "scrolled": true
   },
   "outputs": [
    {
     "name": "stdout",
     "output_type": "stream",
     "text": [
      "Kumpula: \n",
      " [[2.9980000e+04 9.9999000e+04 2.0170501e+11 2.0600000e+02 1.4000000e+01\n",
      "  2.0000000e+01 7.2200000e+02           nan           nan           nan\n",
      "            nan 2.7400000e+01           nan           nan           nan\n",
      "            nan 0.0000000e+00           nan           nan           nan\n",
      "  0.0000000e+00 3.7000000e+01 3.2000000e+01 1.0251000e+03           nan\n",
      "  1.0219000e+03           nan           nan           nan           nan\n",
      "            nan           nan 0.0000000e+00]\n",
      " [2.9980000e+04 9.9999000e+04 2.0170501e+11 1.9800000e+02 1.4000000e+01\n",
      "  2.3000000e+01 7.2200000e+02           nan           nan           nan\n",
      "            nan 2.9200000e+01           nan           nan           nan\n",
      "            nan 0.0000000e+00           nan           nan           nan\n",
      "            nan 3.7000000e+01 3.2000000e+01 1.0254000e+03           nan\n",
      "  1.0222000e+03           nan           nan           nan           nan\n",
      "            nan           nan 0.0000000e+00]\n",
      " [2.9980000e+04 9.9999000e+04 2.0170501e+11 2.1600000e+02 1.3000000e+01\n",
      "  2.1000000e+01 7.2200000e+02           nan           nan           nan\n",
      "            nan 3.1200000e+01           nan           nan           nan\n",
      "            nan 0.0000000e+00           nan           nan           nan\n",
      "            nan 3.7000000e+01 3.1000000e+01 1.0252000e+03           nan\n",
      "  1.0220000e+03           nan           nan           nan           nan\n",
      "            nan           nan 0.0000000e+00]\n",
      " [2.9980000e+04 9.9999000e+04 2.0170501e+11 2.0000000e+02 1.6000000e+01\n",
      "            nan           nan           nan           nan           nan\n",
      "            nan 2.1900000e+01           nan           nan           nan\n",
      "            nan 0.0000000e+00           nan           nan           nan\n",
      "            nan 3.7000000e+01 3.2000000e+01 1.0254000e+03           nan\n",
      "  1.0222000e+03           nan           nan           nan           nan\n",
      "            nan           nan           nan]\n",
      " [2.9980000e+04 9.9999000e+04 2.0170501e+11 2.2000000e+02 1.4000000e+01\n",
      "  2.1000000e+01 7.2200000e+02           nan           nan           nan\n",
      "            nan 2.3500000e+01           nan           nan           nan\n",
      "            nan 0.0000000e+00           nan           nan           nan\n",
      "            nan 3.9000000e+01 3.2000000e+01 1.0257000e+03           nan\n",
      "  1.0225000e+03           nan           nan           nan           nan\n",
      "            nan           nan 0.0000000e+00]] \n",
      "\n",
      "Rovaniemi: \n",
      " [[2.8450000e+04 9.9999000e+04 2.0170501e+11 1.7400000e+02 1.0000000e+01\n",
      "  1.4000000e+01           nan           nan           nan           nan\n",
      "            nan 2.2000000e+00           nan           nan           nan\n",
      "            nan 6.7000000e+01           nan           nan           nan\n",
      "  8.0000000e+00 3.1000000e+01 3.1000000e+01 1.0092000e+03           nan\n",
      "  9.8410000e+02           nan           nan           nan           nan\n",
      "            nan           nan 3.5000000e+01]\n",
      " [2.8450000e+04 9.9999000e+04 2.0170501e+11 1.8000000e+02 1.0000000e+01\n",
      "            nan 4.0000000e+00           nan           nan           nan\n",
      "            nan 2.9000000e+00           nan           nan           nan\n",
      "            nan 1.0000000e+01           nan           nan           nan\n",
      "            nan 3.0000000e+01 3.0000000e+01           nan 2.9740000e+01\n",
      "            nan           nan           nan           nan           nan\n",
      "            nan           nan           nan]\n",
      " [2.8450000e+04 9.9999000e+04 2.0170501e+11 1.9000000e+02 1.0000000e+01\n",
      "            nan 4.0000000e+00           nan           nan           nan\n",
      "            nan 2.1000000e+00           nan           nan           nan\n",
      "            nan 1.0000000e+01           nan           nan           nan\n",
      "            nan 3.0000000e+01 3.0000000e+01           nan 2.9740000e+01\n",
      "            nan           nan           nan           nan           nan\n",
      "            nan           nan           nan]\n",
      " [2.8450000e+04 9.9999000e+04 2.0170501e+11 1.8800000e+02 1.2000000e+01\n",
      "  1.6000000e+01           nan           nan           nan           nan\n",
      "            nan 3.2000000e+00           nan           nan           nan\n",
      "            nan 7.7000000e+01           nan           nan           nan\n",
      "            nan 3.1000000e+01 3.0000000e+01 1.0091000e+03           nan\n",
      "  9.8400000e+02           nan           nan           nan           nan\n",
      "            nan           nan 3.5000000e+01]\n",
      " [2.8450000e+04 9.9999000e+04 2.0170501e+11 2.0000000e+02 1.3000000e+01\n",
      "            nan 2.0000000e+00           nan           nan           nan\n",
      "            nan 1.8000000e+00           nan           nan           nan\n",
      "            nan 7.2000000e+01           nan           nan           nan\n",
      "            nan 3.0000000e+01 3.0000000e+01           nan 2.9740000e+01\n",
      "            nan           nan           nan           nan           nan\n",
      "            nan           nan           nan]] \n",
      "\n"
     ]
    }
   ],
   "source": [
    "# Check the data (you don't need to modify this cell)\n",
    "print(\"Kumpula: \\n\", kumpula[:5,:], \"\\n\")\n",
    "print(\"Rovaniemi: \\n\", rovaniemi[:5,:], \"\\n\")\n"
   ]
  },
  {
   "cell_type": "markdown",
   "metadata": {},
   "source": [
    "**Save the new arrays to csv files** (2 points)\n",
    "\n",
    "- Save the `kumpula` array into a file called `Kumpula_temps_May_Aug_2017.csv` (CSV format) \n",
    "   - Separate the columns with a comma (`,`)\n",
    "   - Use only 2 decimals in the floating point numbers\n",
    "- Save the `rovaniemi` array into a file called `Rovaniemi_temps_May_Aug_2017.csv` (CSV format) \n",
    "   - Separate the columns with comma (`,`)\n",
    "   - Use only 2 decimals in the floating point numbers"
   ]
  },
  {
   "cell_type": "code",
   "execution_count": 44,
   "metadata": {
    "deletable": false,
    "nbgrader": {
     "checksum": "c3f5a426f626ebbe3371f1771702f54f",
     "grade": true,
     "grade_id": "to_csv",
     "locked": false,
     "points": 2,
     "schema_version": 1,
     "solution": true
    }
   },
   "outputs": [],
   "source": [
    "# YOUR CODE HERE\n",
    "# raise NotImplementedError()\n",
    "np.savetxt('kumpula_temps_May_Aug_2017.csv', kumpula, delimiter=',', fmt='%1.2f')\n",
    "np.savetxt('Rovaniemi_temp_May_Aug_2017.csv', rovaniemi, delimiter=',', fmt='%1.2f')"
   ]
  },
  {
   "cell_type": "code",
   "execution_count": null,
   "metadata": {
    "deletable": false,
    "editable": false,
    "nbgrader": {
     "checksum": "e17856f48590694e60c5a062246d4739",
     "grade": true,
     "grade_id": "to_csv_test",
     "locked": true,
     "points": 0,
     "schema_version": 1,
     "solution": false
    }
   },
   "outputs": [],
   "source": []
  },
  {
   "cell_type": "markdown",
   "metadata": {
    "deletable": false,
    "editable": false,
    "nbgrader": {
     "checksum": "e322f6406b46b37c3504f90f127d6d72",
     "grade": false,
     "grade_id": "cell-3d8b5609d0cea2a9",
     "locked": true,
     "schema_version": 1,
     "solution": false
    }
   },
   "source": [
    "**Commit and push changes (including the 2 csv files!) into your GitHub repository for Exercise 5** (1 point)\n",
    "\n",
    "Did you encounter any problems with decimal formatting?"
   ]
  },
  {
   "cell_type": "markdown",
   "metadata": {
    "deletable": false,
    "nbgrader": {
     "checksum": "09b04052fd8c27c1c62c2a515ccda2d4",
     "grade": true,
     "grade_id": "upload_csv_files",
     "locked": false,
     "points": 1,
     "schema_version": 1,
     "solution": true
    }
   },
   "source": [
    "YOUR ANSWER HERE"
   ]
  },
  {
   "cell_type": "markdown",
   "metadata": {
    "collapsed": true
   },
   "source": [
    "Now you can continue to [problem 3: Data analysis](Exercise-5-problem3.ipynb)"
   ]
  }
 ],
 "metadata": {
  "anaconda-cloud": {},
  "kernelspec": {
   "display_name": "Python 3",
   "language": "python",
   "name": "python3"
  },
  "language_info": {
   "codemirror_mode": {
    "name": "ipython",
    "version": 3
   },
   "file_extension": ".py",
   "mimetype": "text/x-python",
   "name": "python",
   "nbconvert_exporter": "python",
   "pygments_lexer": "ipython3",
   "version": "3.6.8"
  }
 },
 "nbformat": 4,
 "nbformat_minor": 2
}
