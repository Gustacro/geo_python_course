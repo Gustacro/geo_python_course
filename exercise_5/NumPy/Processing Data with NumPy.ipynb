{
 "cells": [
  {
   "cell_type": "markdown",
   "metadata": {
    "collapsed": true
   },
   "source": [
    "## <font color=#00cc00>Processing data with NumPy</h3></font>"
   ]
  },
  {
   "cell_type": "code",
   "execution_count": 3,
   "metadata": {},
   "outputs": [],
   "source": [
    "import numpy as np\n"
   ]
  },
  {
   "cell_type": "code",
   "execution_count": 4,
   "metadata": {},
   "outputs": [],
   "source": [
    "# path to the data source\n",
    "fp = r\"C:\\Users\\Gustavocolmenares\\Documents\\SchoolStaff\\GIS_PCC\\Courses_Training\\Geo_python_Course\\exercise_5\\Pandas\\Kumpula-June-2016-w-metadata.txt\"\n",
    "data = np.genfromtxt(fp, skip_header=9, delimiter=',')"
   ]
  },
  {
   "cell_type": "code",
   "execution_count": 5,
   "metadata": {},
   "outputs": [],
   "source": [
    "# Provide name for all the columns array that are contained in the txt file\n",
    "date = data[:, 0]\n",
    "temp = data[:, 1]\n",
    "temp_max = data[:, 2]\n",
    "temp_min = data[:, 3]"
   ]
  },
  {
   "cell_type": "markdown",
   "metadata": {},
   "source": [
    "## <font color=#ffbf00>Calculating with NumPy arrays</h3></font>"
   ]
  },
  {
   "cell_type": "code",
   "execution_count": 6,
   "metadata": {},
   "outputs": [],
   "source": [
    "# Creating arrays based on calculation between different other arrays (Columns)\n",
    "\n",
    "# Way 1:\n",
    "# Create array of zeros with same length as existing arrays. \n",
    "# Use it as blanck space for calculation \n",
    "diff = np.zeros(len(date)) # new arrays of zeros using zeros() function, with length of date array"
   ]
  },
  {
   "cell_type": "code",
   "execution_count": 7,
   "metadata": {},
   "outputs": [
    {
     "name": "stdout",
     "output_type": "stream",
     "text": [
      "[0. 0. 0. 0. 0. 0. 0. 0. 0. 0. 0. 0. 0. 0. 0. 0. 0. 0. 0. 0. 0. 0. 0. 0.\n",
      " 0. 0. 0. 0. 0. 0.]\n"
     ]
    }
   ],
   "source": [
    "print(diff)"
   ]
  },
  {
   "cell_type": "markdown",
   "metadata": {},
   "source": [
    "## <font color=#ffbf00>Calcuting values using other arrays</h3></font>"
   ]
  },
  {
   "cell_type": "code",
   "execution_count": 8,
   "metadata": {},
   "outputs": [
    {
     "name": "stdout",
     "output_type": "stream",
     "text": [
      "[18.9 25.8 22.3 23.6 15.1 16.9 19.2 12.9  8.4 12.9 20.4 18.2 20.9 20.\n",
      " 21.  11.9 14.8  8.8  5.1 16.9 21.  14.8 12.2 12.2 17.5 17.4 12.4 17.2\n",
      " 13.5 13.5]\n"
     ]
    }
   ],
   "source": [
    "# Using the new array 'diff' to calculate different between [temp_max and temp_min]\n",
    "diff = temp_max - temp_min\n",
    "print(diff)"
   ]
  },
  {
   "cell_type": "code",
   "execution_count": 9,
   "metadata": {},
   "outputs": [
    {
     "name": "stdout",
     "output_type": "stream",
     "text": [
      "[10.8 10.8 12.8 10.2  8.2  9.4 11.   6.7  3.7  6.5 12.3  9.4 11.  11.9\n",
      " 14.1  2.2  4.5  3.3  2.2  7.1 12.2  6.3  6.   4.4  7.8  9.3  3.1  9.6\n",
      "  6.1  6.5]\n"
     ]
    }
   ],
   "source": [
    "# By calculating between arrays, we automatically create array\n",
    "diff_min = temp - temp_min\n",
    "print(diff_min)"
   ]
  },
  {
   "cell_type": "code",
   "execution_count": 10,
   "metadata": {},
   "outputs": [
    {
     "data": {
      "text/plain": [
       "numpy.ndarray"
      ]
     },
     "execution_count": 10,
     "metadata": {},
     "output_type": "execute_result"
    }
   ],
   "source": [
    "# We can confirm this by checking the type of the diff_min array\n",
    "type(diff_min)"
   ]
  },
  {
   "cell_type": "code",
   "execution_count": 11,
   "metadata": {},
   "outputs": [
    {
     "data": {
      "text/plain": [
       "array([18.61111111, 18.77777778, 20.22222222, 14.16666667, 10.77777778,\n",
       "       11.22222222, 13.83333333, 12.33333333,  9.66666667,  9.72222222,\n",
       "       12.22222222, 13.        , 14.61111111, 15.38888889, 17.44444444,\n",
       "       14.33333333, 15.77777778, 14.05555556, 13.5       , 15.16666667,\n",
       "       17.        , 16.5       , 16.05555556, 16.16666667, 18.72222222,\n",
       "       20.88888889, 15.94444444, 18.55555556, 18.77777778, 18.72222222])"
      ]
     },
     "execution_count": 11,
     "metadata": {},
     "output_type": "execute_result"
    }
   ],
   "source": [
    "# Let's convert the temperatures in Fahrenheit to Celsius and stored in temp_Celsius array\n",
    "temp_Celsius = (temp -32) / (9/5)\n",
    "temp_Celsius"
   ]
  },
  {
   "cell_type": "markdown",
   "metadata": {},
   "source": [
    "## <font color=#ffbf00>Filtering Data <h3/></font>"
   ]
  },
  {
   "cell_type": "code",
   "execution_count": 12,
   "metadata": {},
   "outputs": [
    {
     "data": {
      "text/plain": [
       "array([18.61111111, 18.77777778, 20.22222222, 15.38888889, 17.44444444,\n",
       "       15.77777778, 15.16666667, 17.        , 16.5       , 16.05555556,\n",
       "       16.16666667, 18.72222222, 20.88888889, 15.94444444, 18.55555556,\n",
       "       18.77777778, 18.72222222])"
      ]
     },
     "execution_count": 12,
     "metadata": {},
     "output_type": "execute_result"
    }
   ],
   "source": [
    "# we can look for subset of the data that match some criteria. \n",
    "# We might want to create an array called w_temp that only contains 'warm' temperatures above 15C\n",
    "w_temps = temp_Celsius[temp_Celsius> 15.0]\n",
    "w_temps"
   ]
  },
  {
   "cell_type": "markdown",
   "metadata": {},
   "source": [
    "<p><b>Combine multiple criteria at same time:</b></p>\n",
    "<ul>\n",
    "<li> Select temp > 15 and recorded in the second half of June 2016 (date >= 20160615)</li>\n",
    "<li> Combining multiple criteria can be done with the \" & \" (AND) operator or, the \" | \" (OR) operator.</li>\n",
    "<li> Separate this clauses inside of parentheses</li>"
   ]
  },
  {
   "cell_type": "code",
   "execution_count": 13,
   "metadata": {},
   "outputs": [
    {
     "data": {
      "text/plain": [
       "array([17.44444444, 15.77777778, 15.16666667, 17.        , 16.5       ,\n",
       "       16.05555556, 16.16666667, 18.72222222, 20.88888889, 15.94444444,\n",
       "       18.55555556, 18.77777778, 18.72222222])"
      ]
     },
     "execution_count": 13,
     "metadata": {},
     "output_type": "execute_result"
    }
   ],
   "source": [
    "# temperatures above 15C in the second half of June \n",
    "w_temp2 = temp_Celsius[(temp_Celsius> 15) & (date >= 20160615)]\n",
    "w_temp2"
   ]
  },
  {
   "cell_type": "markdown",
   "metadata": {},
   "source": [
    "## <font color= #33cc33>Using Data Masks</h3></font>\n",
    "<p>We also can identify the dates with temp above 15C as the sample above and only keeps those dates in our other data columns, such as date , temp, etc.<br>\n",
    "Mask array is a boolean(True/False) array, used to take a subset of data from other array. Rather than extracting w_temps directly.<br>\n",
    "Let's start by identifying temp_Celsius above 15 (True) or temp_Celsius <15 (False).\n",
    "</p>\n",
    "\n",
    "\n",
    "\n"
   ]
  },
  {
   "cell_type": "code",
   "execution_count": 14,
   "metadata": {},
   "outputs": [
    {
     "name": "stdout",
     "output_type": "stream",
     "text": [
      "[ True  True  True False False False False False False False False False\n",
      " False  True  True False  True False False  True  True  True  True  True\n",
      "  True  True  True  True  True  True]\n"
     ]
    }
   ],
   "source": [
    "w_temps_mask = temp_Celsius > 15.0\n",
    "print(w_temps_mask)"
   ]
  },
  {
   "cell_type": "markdown",
   "metadata": {},
   "source": [
    "<p> Seeing a list of true or False values in array of same size as temp_Celsius.<br>\n",
    "This array shows us wether the condition we stated is <i>True</i> or <i>False</i> for each index.\n",
    "If we want to know the dates when temperature was above 15C, just simple take the values from the date array using the mask we just created\n",
    "</p>"
   ]
  },
  {
   "cell_type": "code",
   "execution_count": 15,
   "metadata": {},
   "outputs": [
    {
     "name": "stdout",
     "output_type": "stream",
     "text": [
      "[20160601. 20160602. 20160603. 20160614. 20160615. 20160617. 20160620.\n",
      " 20160621. 20160622. 20160623. 20160624. 20160625. 20160626. 20160627.\n",
      " 20160628. 20160629. 20160630.]\n"
     ]
    }
   ],
   "source": [
    "w_temp_dates = date[w_temps_mask]\n",
    "print(w_temp_dates) # Shows subsets of dates that match condition of temperature above 15C"
   ]
  },
  {
   "cell_type": "code",
   "execution_count": 16,
   "metadata": {},
   "outputs": [
    {
     "name": "stdout",
     "output_type": "stream",
     "text": [
      "17\n",
      "17\n"
     ]
    }
   ],
   "source": [
    "# To prove this, let's check the length of w_temps and w_temp_dates.\n",
    "# If they are the same it means that both has the same dates where the temperature exceeded 15C\n",
    "print(len(w_temps))\n",
    "print(len(w_temp_dates))"
   ]
  },
  {
   "cell_type": "markdown",
   "metadata": {},
   "source": [
    "## <font color=#33cc33 >Removing Missing/ Bad Data</h3></font>\n",
    "<p>\n",
    "sometimes data comes with missing values or values that cannont be read, this may be replaced by nan \"not a number\", and you want to get rid if theses values.\n",
    "</p>"
   ]
  },
  {
   "cell_type": "code",
   "execution_count": 17,
   "metadata": {},
   "outputs": [],
   "source": [
    "# let's create an array called bad_data with same size as the array date\n",
    "bad_data = np.zeros(len(date))"
   ]
  },
  {
   "cell_type": "code",
   "execution_count": 18,
   "metadata": {},
   "outputs": [
    {
     "name": "stdout",
     "output_type": "stream",
     "text": [
      "[nan nan nan nan nan  0.  0.  0.  0.  0.  0.  0.  0.  0.  0.  0.  0.  0.\n",
      "  0.  0.  0.  0.  0.  0.  0.  0.  0.  0.  0.  0.]\n",
      "30\n"
     ]
    }
   ],
   "source": [
    "# add nan values to the first 5 rows\n",
    "bad_data[:5] = np.nan\n",
    "print(bad_data)\n",
    "print(len(bad_data))"
   ]
  },
  {
   "cell_type": "code",
   "execution_count": 19,
   "metadata": {},
   "outputs": [
    {
     "name": "stdout",
     "output_type": "stream",
     "text": [
      "[False False False False False  True  True  True  True  True  True  True\n",
      "  True  True  True  True  True  True  True  True  True  True  True  True\n",
      "  True  True  True  True  True  True]\n",
      "30\n"
     ]
    }
   ],
   "source": [
    "# let's check the result\n",
    "# create a mask with boolean results\n",
    "bad_data_mask = np.isfinite(bad_data)\n",
    "print(bad_data_mask)\n",
    "print(len(bad_data_mask))"
   ]
  },
  {
   "cell_type": "markdown",
   "metadata": {},
   "source": [
    "<p>\n",
    "If want to include values for the data column that only corresponde to locations in bad_data\n",
    "where there's not nan values, use <b>isifinite()</b> function in NumPy.\n",
    "isfinite() checks to see if value is defined\n",
    "</p>"
   ]
  },
  {
   "cell_type": "code",
   "execution_count": 20,
   "metadata": {},
   "outputs": [
    {
     "name": "stdout",
     "output_type": "stream",
     "text": [
      "[False False False False False  True  True  True  True  True  True  True\n",
      "  True  True  True  True  True  True  True  True  True  True  True  True\n",
      "  True  True  True  True  True  True]\n",
      "30\n"
     ]
    }
   ],
   "source": [
    "# let's create a mask with bad_data\n",
    "bad_data_mask = np.isfinite(bad_data)\n",
    "print(bad_data_mask)\n",
    "print(len(bad_data_mask))"
   ]
  },
  {
   "cell_type": "code",
   "execution_count": 21,
   "metadata": {},
   "outputs": [
    {
     "name": "stdout",
     "output_type": "stream",
     "text": [
      "[20160606. 20160607. 20160608. 20160609. 20160610. 20160611. 20160612.\n",
      " 20160613. 20160614. 20160615. 20160616. 20160617. 20160618. 20160619.\n",
      " 20160620. 20160621. 20160622. 20160623. 20160624. 20160625. 20160626.\n",
      " 20160627. 20160628. 20160629. 20160630.]\n",
      "25\n"
     ]
    }
   ],
   "source": [
    "# if we want to include only the dates with good data, we can use the mask as we did before\n",
    "good_dates = date[bad_data_mask]\n",
    "print(good_dates)\n",
    "print(len(good_dates))"
   ]
  },
  {
   "cell_type": "markdown",
   "metadata": {},
   "source": [
    "## <font color=#432541 >Rounding and Finding Unique Values</h3></font>\n",
    "<p>It is possible to round values easily using <b>round()</b> method for NumPy arrays</p>"
   ]
  },
  {
   "cell_type": "code",
   "execution_count": 28,
   "metadata": {},
   "outputs": [
    {
     "name": "stdout",
     "output_type": "stream",
     "text": [
      "[19. 19. 20. 14. 11. 11. 14. 12. 10. 10. 12. 13. 15. 15. 17. 14. 16. 14.\n",
      " 13. 15. 17. 16. 16. 16. 19. 21. 16. 19. 19. 19.]\n"
     ]
    }
   ],
   "source": [
    "# let's round temp_Celsius\n",
    "temp_celsius_rounded = temp_Celsius.round(0)\n",
    "print(temp_celsius_rounded)"
   ]
  },
  {
   "cell_type": "markdown",
   "metadata": {},
   "source": [
    "<p>We can find unique values in an array using the <b>unique()</b> function</p>"
   ]
  },
  {
   "cell_type": "code",
   "execution_count": 29,
   "metadata": {},
   "outputs": [
    {
     "name": "stdout",
     "output_type": "stream",
     "text": [
      "[10. 11. 12. 13. 14. 15. 16. 17. 19. 20. 21.]\n"
     ]
    }
   ],
   "source": [
    "unique = np.unique(temp_celsius_rounded)\n",
    "print(unique)"
   ]
  },
  {
   "cell_type": "markdown",
   "metadata": {},
   "source": [
    "## <font color=#336600>Saving our data to a file</h3></font>\n",
    "\n",
    "<p>To save the modified data to a file for future use. We'll need to do some steps to do it</p>"
   ]
  },
  {
   "cell_type": "markdown",
   "metadata": {},
   "source": [
    "## <font color=#336600>Re-creating the 2D data array</h3></font>\n",
    "\n",
    "<p>We have worked with single columns in our data. We can recreate a 2D data structure by stacking thses columns in a new data array called <b>new_data</b>.<br>\n",
    "We can start by stacking the data together using <i><font color=red>vstack()</font></i> function.\n",
    "</p>\n"
   ]
  },
  {
   "cell_type": "code",
   "execution_count": 33,
   "metadata": {},
   "outputs": [
    {
     "name": "stdout",
     "output_type": "stream",
     "text": [
      "[[2.01606010e+07 2.01606020e+07 2.01606030e+07 2.01606040e+07\n",
      "  2.01606050e+07 2.01606060e+07 2.01606070e+07 2.01606080e+07\n",
      "  2.01606090e+07 2.01606100e+07 2.01606110e+07 2.01606120e+07\n",
      "  2.01606130e+07 2.01606140e+07 2.01606150e+07 2.01606160e+07\n",
      "  2.01606170e+07 2.01606180e+07 2.01606190e+07 2.01606200e+07\n",
      "  2.01606210e+07 2.01606220e+07 2.01606230e+07 2.01606240e+07\n",
      "  2.01606250e+07 2.01606260e+07 2.01606270e+07 2.01606280e+07\n",
      "  2.01606290e+07 2.01606300e+07]\n",
      " [6.55000000e+01 6.58000000e+01 6.84000000e+01 5.75000000e+01\n",
      "  5.14000000e+01 5.22000000e+01 5.69000000e+01 5.42000000e+01\n",
      "  4.94000000e+01 4.95000000e+01 5.40000000e+01 5.54000000e+01\n",
      "  5.83000000e+01 5.97000000e+01 6.34000000e+01 5.78000000e+01\n",
      "  6.04000000e+01 5.73000000e+01 5.63000000e+01 5.93000000e+01\n",
      "  6.26000000e+01 6.17000000e+01 6.09000000e+01 6.11000000e+01\n",
      "  6.57000000e+01 6.96000000e+01 6.07000000e+01 6.54000000e+01\n",
      "  6.58000000e+01 6.57000000e+01]\n",
      " [1.86111111e+01 1.87777778e+01 2.02222222e+01 1.41666667e+01\n",
      "  1.07777778e+01 1.12222222e+01 1.38333333e+01 1.23333333e+01\n",
      "  9.66666667e+00 9.72222222e+00 1.22222222e+01 1.30000000e+01\n",
      "  1.46111111e+01 1.53888889e+01 1.74444444e+01 1.43333333e+01\n",
      "  1.57777778e+01 1.40555556e+01 1.35000000e+01 1.51666667e+01\n",
      "  1.70000000e+01 1.65000000e+01 1.60555556e+01 1.61666667e+01\n",
      "  1.87222222e+01 2.08888889e+01 1.59444444e+01 1.85555556e+01\n",
      "  1.87777778e+01 1.87222222e+01]]\n"
     ]
    }
   ],
   "source": [
    "new_data = np.vstack((date, temp, temp_Celsius))\n",
    "print(new_data) # print the new array"
   ]
  },
  {
   "cell_type": "markdown",
   "metadata": {},
   "source": [
    "<p>The data is in a single array, but the columns need to be flipped.<br>\n",
    "We can do it by using <i>transpose()</i> function</p>"
   ]
  },
  {
   "cell_type": "code",
   "execution_count": 35,
   "metadata": {},
   "outputs": [
    {
     "name": "stdout",
     "output_type": "stream",
     "text": [
      "[[2.01606010e+07 6.55000000e+01 1.86111111e+01]\n",
      " [2.01606020e+07 6.58000000e+01 1.87777778e+01]\n",
      " [2.01606030e+07 6.84000000e+01 2.02222222e+01]\n",
      " [2.01606040e+07 5.75000000e+01 1.41666667e+01]\n",
      " [2.01606050e+07 5.14000000e+01 1.07777778e+01]\n",
      " [2.01606060e+07 5.22000000e+01 1.12222222e+01]\n",
      " [2.01606070e+07 5.69000000e+01 1.38333333e+01]\n",
      " [2.01606080e+07 5.42000000e+01 1.23333333e+01]\n",
      " [2.01606090e+07 4.94000000e+01 9.66666667e+00]\n",
      " [2.01606100e+07 4.95000000e+01 9.72222222e+00]\n",
      " [2.01606110e+07 5.40000000e+01 1.22222222e+01]\n",
      " [2.01606120e+07 5.54000000e+01 1.30000000e+01]\n",
      " [2.01606130e+07 5.83000000e+01 1.46111111e+01]\n",
      " [2.01606140e+07 5.97000000e+01 1.53888889e+01]\n",
      " [2.01606150e+07 6.34000000e+01 1.74444444e+01]\n",
      " [2.01606160e+07 5.78000000e+01 1.43333333e+01]\n",
      " [2.01606170e+07 6.04000000e+01 1.57777778e+01]\n",
      " [2.01606180e+07 5.73000000e+01 1.40555556e+01]\n",
      " [2.01606190e+07 5.63000000e+01 1.35000000e+01]\n",
      " [2.01606200e+07 5.93000000e+01 1.51666667e+01]\n",
      " [2.01606210e+07 6.26000000e+01 1.70000000e+01]\n",
      " [2.01606220e+07 6.17000000e+01 1.65000000e+01]\n",
      " [2.01606230e+07 6.09000000e+01 1.60555556e+01]\n",
      " [2.01606240e+07 6.11000000e+01 1.61666667e+01]\n",
      " [2.01606250e+07 6.57000000e+01 1.87222222e+01]\n",
      " [2.01606260e+07 6.96000000e+01 2.08888889e+01]\n",
      " [2.01606270e+07 6.07000000e+01 1.59444444e+01]\n",
      " [2.01606280e+07 6.54000000e+01 1.85555556e+01]\n",
      " [2.01606290e+07 6.58000000e+01 1.87777778e+01]\n",
      " [2.01606300e+07 6.57000000e+01 1.87222222e+01]]\n"
     ]
    }
   ],
   "source": [
    "# transpose the columns \n",
    "new_data = np.transpose(new_data)\n",
    "print(new_data)"
   ]
  },
  {
   "cell_type": "markdown",
   "metadata": {},
   "source": [
    "\n",
    "## <font color=#336600>Saving our data</h3></font>\n",
    "<p>With the data with the correct format, let's save to a file using <i><font color=red>savetxt()</font></i> function<br>\n",
    "Save the data in a file called <b><i>convrted_temps.csv</i></b> with commas between values (using the <font color=red>delimiter=' , '</font> parameter).\n",
    "</p>"
   ]
  },
  {
   "cell_type": "code",
   "execution_count": 36,
   "metadata": {
    "collapsed": true
   },
   "outputs": [],
   "source": [
    "np.savetxt('converted_temp.csv', new_data, delimiter=',')"
   ]
  },
  {
   "cell_type": "code",
   "execution_count": null,
   "metadata": {
    "collapsed": true
   },
   "outputs": [],
   "source": []
  }
 ],
 "metadata": {
  "kernelspec": {
   "display_name": "Python 3",
   "language": "python",
   "name": "python3"
  },
  "language_info": {
   "codemirror_mode": {
    "name": "ipython",
    "version": 3
   },
   "file_extension": ".py",
   "mimetype": "text/x-python",
   "name": "python",
   "nbconvert_exporter": "python",
   "pygments_lexer": "ipython3",
   "version": "3.6.8"
  }
 },
 "nbformat": 4,
 "nbformat_minor": 2
}
