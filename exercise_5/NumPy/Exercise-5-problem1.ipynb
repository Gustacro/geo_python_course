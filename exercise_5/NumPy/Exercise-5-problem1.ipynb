{
 "cells": [
  {
   "cell_type": "markdown",
   "metadata": {
    "deletable": false,
    "editable": false,
    "nbgrader": {
     "checksum": "b48377b21ef5780aa89a3d0b50acb1cd",
     "grade": false,
     "grade_id": "cell-1e760a9173223eac",
     "locked": true,
     "schema_version": 1,
     "solution": false
    }
   },
   "source": [
    "## Problem 1 - Basic statistics of the data (5 points)\n",
    "\n",
    "In this problem your task is to open and explore the NOAA weather data using NumPy.\n",
    "The data file name is [6153237444115dat.csv](../6153237444115dat.csv) located in the Exercise-5 directory.\n",
    "Please answer the given tasks and write your code into the codeblocks below.\n",
    "\n",
    "- **Import the NumPy module** (0.5 points)\n",
    "- **Read the data** using NumPy into a variable called **`data`** (1 point)\n",
    "    - Note: We only want the `USAF`, `YR--MODAHRMN`, `TEMP`, `MAX`, and `MIN` columns from the data file\n",
    "- **Split the data** into separate variables called `station`, `date`, `temp`, `temp_max`, and `temp_min` (1 point)"
   ]
  },
  {
   "cell_type": "code",
   "execution_count": 2,
   "metadata": {
    "deletable": false,
    "nbgrader": {
     "checksum": "b69be2860e674737d8e399e459a6732a",
     "grade": false,
     "grade_id": "read_csv",
     "locked": false,
     "schema_version": 1,
     "solution": true
    },
    "scrolled": true
   },
   "outputs": [
    {
     "data": {
      "text/plain": [
       "array([[2.0160601e+07, 6.5500000e+01, 7.3600000e+01, 5.4700000e+01],\n",
       "       [2.0160602e+07, 6.5800000e+01, 8.0800000e+01, 5.5000000e+01],\n",
       "       [2.0160603e+07, 6.8400000e+01, 7.7900000e+01, 5.5600000e+01],\n",
       "       [2.0160604e+07, 5.7500000e+01, 7.0900000e+01, 4.7300000e+01],\n",
       "       [2.0160605e+07, 5.1400000e+01, 5.8300000e+01, 4.3200000e+01],\n",
       "       [2.0160606e+07, 5.2200000e+01, 5.9700000e+01, 4.2800000e+01],\n",
       "       [2.0160607e+07, 5.6900000e+01, 6.5100000e+01, 4.5900000e+01],\n",
       "       [2.0160608e+07, 5.4200000e+01, 6.0400000e+01, 4.7500000e+01],\n",
       "       [2.0160609e+07, 4.9400000e+01, 5.4100000e+01, 4.5700000e+01],\n",
       "       [2.0160610e+07, 4.9500000e+01, 5.5900000e+01, 4.3000000e+01],\n",
       "       [2.0160611e+07, 5.4000000e+01, 6.2100000e+01, 4.1700000e+01],\n",
       "       [2.0160612e+07, 5.5400000e+01, 6.4200000e+01, 4.6000000e+01],\n",
       "       [2.0160613e+07, 5.8300000e+01, 6.8200000e+01, 4.7300000e+01],\n",
       "       [2.0160614e+07, 5.9700000e+01, 6.7800000e+01, 4.7800000e+01],\n",
       "       [2.0160615e+07, 6.3400000e+01, 7.0300000e+01, 4.9300000e+01],\n",
       "       [2.0160616e+07, 5.7800000e+01, 6.7500000e+01, 5.5600000e+01],\n",
       "       [2.0160617e+07, 6.0400000e+01, 7.0700000e+01, 5.5900000e+01],\n",
       "       [2.0160618e+07, 5.7300000e+01, 6.2800000e+01, 5.4000000e+01],\n",
       "       [2.0160619e+07, 5.6300000e+01, 5.9200000e+01, 5.4100000e+01],\n",
       "       [2.0160620e+07, 5.9300000e+01, 6.9100000e+01, 5.2200000e+01],\n",
       "       [2.0160621e+07, 6.2600000e+01, 7.1400000e+01, 5.0400000e+01],\n",
       "       [2.0160622e+07, 6.1700000e+01, 7.0200000e+01, 5.5400000e+01],\n",
       "       [2.0160623e+07, 6.0900000e+01, 6.7100000e+01, 5.4900000e+01],\n",
       "       [2.0160624e+07, 6.1100000e+01, 6.8900000e+01, 5.6700000e+01],\n",
       "       [2.0160625e+07, 6.5700000e+01, 7.5400000e+01, 5.7900000e+01],\n",
       "       [2.0160626e+07, 6.9600000e+01, 7.7700000e+01, 6.0300000e+01],\n",
       "       [2.0160627e+07, 6.0700000e+01, 7.0000000e+01, 5.7600000e+01],\n",
       "       [2.0160628e+07, 6.5400000e+01, 7.3000000e+01, 5.5800000e+01],\n",
       "       [2.0160629e+07, 6.5800000e+01, 7.3200000e+01, 5.9700000e+01],\n",
       "       [2.0160630e+07, 6.5700000e+01, 7.2700000e+01, 5.9200000e+01]])"
      ]
     },
     "execution_count": 2,
     "metadata": {},
     "output_type": "execute_result"
    }
   ],
   "source": [
    "# YOUR CODE HERE\n",
    "import numpy as np\n",
    "\n",
    "fp = r\"C:\\Users\\Gustavocolmenares\\Documents\\SchoolStaff\\GIS_PCC\\Courses_Training\\Geo_python_Course\\exercise_5\\Pandas\\Kumpula-June-2016-w-metadata.txt\"\n",
    "data = np.genfromtxt(fp, skip_header= 9, delimiter=',')\n",
    "\n",
    "# print data\n",
    "data"
   ]
  },
  {
   "cell_type": "markdown",
   "metadata": {},
   "source": [
    "In the codeblock below, print answers to these questions:\n",
    "\n",
    "- What are the dimensions of the data?\n",
    "- What is the datatype of the data?"
   ]
  },
  {
   "cell_type": "code",
   "execution_count": null,
   "metadata": {
    "collapsed": true,
    "deletable": false,
    "editable": false,
    "nbgrader": {
     "checksum": "792770a033f8c35bd0a7a7ee306bb50d",
     "grade": true,
     "grade_id": "read_csv_test",
     "locked": true,
     "points": 2.5,
     "schema_version": 1,
     "solution": false
    }
   },
   "outputs": [],
   "source": [
    "# Print the dimensions of the data:\n",
    "\n",
    "# Print the datatype of the data:\n",
    "\n",
    "\n"
   ]
  },
  {
   "cell_type": "code",
   "execution_count": 15,
   "metadata": {},
   "outputs": [
    {
     "name": "stdout",
     "output_type": "stream",
     "text": [
      "the data dimensions are: (30, 4)\n",
      "array data type is: <class 'numpy.ndarray'>\n",
      "data array type is: float64\n"
     ]
    }
   ],
   "source": [
    "# data's dimensions \n",
    "print(\"the data dimensions are: {}\".format(data.shape))\n",
    "# array data type\n",
    "print('array data type is: {}'.format(type(data)))\n",
    "# data array type\n",
    "print('data array type is: {}'.format(data.dtype))"
   ]
  },
  {
   "cell_type": "markdown",
   "metadata": {},
   "source": [
    "**Explore basic statistics in the data** (1.5 points)\n",
    "\n",
    "- What is the mean Fahrenheit temperature in the data? (the `temp` variable)\n",
    "- What is the standard deviation of the Maximum temperature? (the `temp_max` variable)\n",
    "- How many unique stations exists in the data? (the `station` variable)\n",
    "\n",
    "Please use the suggested variable names to store the results."
   ]
  },
  {
   "cell_type": "code",
   "execution_count": 35,
   "metadata": {
    "deletable": false,
    "nbgrader": {
     "checksum": "23255f91f9509ac5f62355e3a36bb35b",
     "grade": false,
     "grade_id": "basic_statistics",
     "locked": false,
     "schema_version": 1,
     "solution": true
    }
   },
   "outputs": [],
   "source": [
    "# YOUR CODE HERE\n",
    "# raise NotImplementedError()\n",
    "# define \n",
    "yearmoda = data[:,0]\n",
    "temp = data[:,1]\n",
    "temp_max = data[:,2]\n",
    "temp_min = data[:,3]\n",
    "# Calculate mean temperature\n",
    "temp_mean =temp.mean()\n",
    "\n",
    "# Calculate standard deviaton of the maximum temperature:\n",
    "temp_max_std =temp_max.std()\n",
    "\n",
    "#Calculate number of unique stations:\n",
    "station_count = np.count_nonzero(yearmoda)"
   ]
  },
  {
   "cell_type": "markdown",
   "metadata": {},
   "source": [
    "Once you have defined the variables above, you can print the answers using these print statements (you don't need to change anything in the code block below!)"
   ]
  },
  {
   "cell_type": "code",
   "execution_count": 36,
   "metadata": {
    "deletable": false,
    "editable": false,
    "nbgrader": {
     "checksum": "1b9157174b880501e2c255155012c004",
     "grade": true,
     "grade_id": "basic_statistics_test",
     "locked": true,
     "points": 1.5,
     "schema_version": 1,
     "solution": false
    }
   },
   "outputs": [
    {
     "name": "stdout",
     "output_type": "stream",
     "text": [
      "Mean temperature in Fahrenheit is  59.7\n",
      "Sandard deviation of maximum temperature is  6.5\n",
      "The number of unique stations is  30\n"
     ]
    }
   ],
   "source": [
    "print(\"Mean temperature in Fahrenheit is \", round(temp_mean,1))\n",
    "print(\"Sandard deviation of maximum temperature is \", round(temp_max_std, 1))\n",
    "print(\"The number of unique stations is \", station_count)\n"
   ]
  },
  {
   "cell_type": "markdown",
   "metadata": {
    "deletable": false,
    "editable": false,
    "nbgrader": {
     "checksum": "2694a91bafadbb296696ba6ceee60d05",
     "grade": false,
     "grade_id": "questions",
     "locked": true,
     "schema_version": 1,
     "solution": false
    }
   },
   "source": [
    "**Finalize your answer to problem 1** (1 point)\n",
    "- Check that your code includes informative comments explaining what your code does\n",
    "- Commit and push your changes to your GitHub repository for Exercise 5\n",
    "- Did you have any problems at this stage?"
   ]
  },
  {
   "cell_type": "markdown",
   "metadata": {
    "collapsed": true,
    "deletable": false,
    "nbgrader": {
     "checksum": "6881cdb962429f1664a6b82b73185c98",
     "grade": true,
     "grade_id": "questions_check",
     "locked": false,
     "points": 1,
     "schema_version": 1,
     "solution": true
    }
   },
   "source": [
    "YOUR ANSWER HERE"
   ]
  },
  {
   "cell_type": "markdown",
   "metadata": {},
   "source": [
    "Now you can continue to [Problem 2: Data manipulation and subsetting](Exercise-5-problem2.ipynb)\n",
    "\n",
    "\n"
   ]
  }
 ],
 "metadata": {
  "anaconda-cloud": {},
  "kernelspec": {
   "display_name": "Python 3",
   "language": "python",
   "name": "python3"
  },
  "language_info": {
   "codemirror_mode": {
    "name": "ipython",
    "version": 3
   },
   "file_extension": ".py",
   "mimetype": "text/x-python",
   "name": "python",
   "nbconvert_exporter": "python",
   "pygments_lexer": "ipython3",
   "version": "3.6.8"
  }
 },
 "nbformat": 4,
 "nbformat_minor": 2
}
